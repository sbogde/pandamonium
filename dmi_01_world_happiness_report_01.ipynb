{
  "nbformat": 4,
  "nbformat_minor": 0,
  "metadata": {
    "colab": {
      "provenance": [],
      "toc_visible": true,
      "authorship_tag": "ABX9TyNONxmtltrAKjOQcgw+ZwTY",
      "include_colab_link": true
    },
    "kernelspec": {
      "name": "python3",
      "display_name": "Python 3"
    },
    "language_info": {
      "name": "python"
    }
  },
  "cells": [
    {
      "cell_type": "markdown",
      "metadata": {
        "id": "view-in-github",
        "colab_type": "text"
      },
      "source": [
        "<a href=\"https://colab.research.google.com/github/sbogde/pandamonium/blob/main/dmi_01_world_happiness_report_01.ipynb\" target=\"_parent\"><img src=\"https://colab.research.google.com/assets/colab-badge.svg\" alt=\"Open In Colab\"/></a>"
      ]
    },
    {
      "cell_type": "markdown",
      "source": [
        "# World Happiness Report 🙂"
      ],
      "metadata": {
        "id": "FNKgPmm7S3ga"
      }
    },
    {
      "cell_type": "code",
      "source": [
        "# Import libraries\n",
        "import pandas as pd\n",
        "import matplotlib.pyplot as plt\n",
        "import seaborn as sns\n",
        "\n",
        "# Set default styling for visualizations\n",
        "sns.set(style=\"whitegrid\")"
      ],
      "metadata": {
        "id": "pGoFnQutTwFn"
      },
      "execution_count": 41,
      "outputs": []
    },
    {
      "cell_type": "code",
      "execution_count": 42,
      "metadata": {
        "id": "-Vc7dDYESWVB"
      },
      "outputs": [],
      "source": [
        "# Upload the dataset\n",
        "# from google.colab import files\n",
        "# uploaded = files.upload()  # Manually upload the CSV file\n",
        "\n",
        "# Load the dataset into a DataFrame (update filename as needed)\n",
        "# file_name = \"world_happiness.csv\"  # Adjust to your uploaded file name\n",
        "# df = pd.read_csv(file_name)\n",
        "\n",
        "# Display the first few rows to confirm successful loading\n",
        "# df.head()"
      ]
    },
    {
      "cell_type": "code",
      "source": [
        "# Loading The Dataset\n",
        "# Check if running in Google Colab\n",
        "# Dynamically set the file path based on the execution environment\n",
        "if 'google.colab' in str(get_ipython()):\n",
        "    from google.colab import drive, data_table\n",
        "    drive.mount('/content/drive', force_remount=True)\n",
        "    file_path = '/content/drive/My Drive/Colab Notebooks/data-mining/data/world_happiness_report_2024.csv'\n",
        "    data_table.enable_dataframe_formatter()\n",
        "else:\n",
        "    file_path = './data/world_happiness_report_2024.csv'  # Local path"
      ],
      "metadata": {
        "colab": {
          "base_uri": "https://localhost:8080/"
        },
        "id": "ABm4QC5lUHJA",
        "outputId": "9495df47-a052-45f7-fd83-ab888bbfeb1c"
      },
      "execution_count": 43,
      "outputs": [
        {
          "output_type": "stream",
          "name": "stdout",
          "text": [
            "Mounted at /content/drive\n"
          ]
        }
      ]
    },
    {
      "cell_type": "code",
      "source": [
        "df = pd.read_csv(file_path)\n",
        "\n",
        "# Display the first few rows to confirm successful loading\n",
        "df.head()"
      ],
      "metadata": {
        "colab": {
          "base_uri": "https://localhost:8080/",
          "height": 229
        },
        "id": "SgYqllxnUgdu",
        "outputId": "35feb36f-e5b1-4cc0-c142-3519da488f54"
      },
      "execution_count": 44,
      "outputs": [
        {
          "output_type": "execute_result",
          "data": {
            "text/plain": [
              "  Country name  Ladder score  upperwhisker  lowerwhisker  \\\n",
              "0      Finland         7.741         7.815         7.667   \n",
              "1      Denmark         7.583         7.665         7.500   \n",
              "2      Iceland         7.525         7.618         7.433   \n",
              "3       Sweden         7.344         7.422         7.267   \n",
              "4       Israel         7.341         7.405         7.277   \n",
              "\n",
              "   Logged GDP per capita  Social support  Healthy life expectancy  \\\n",
              "0                  1.844           1.572                    0.695   \n",
              "1                  1.908           1.520                    0.699   \n",
              "2                  1.881           1.617                    0.718   \n",
              "3                  1.878           1.501                    0.724   \n",
              "4                  1.803           1.513                    0.740   \n",
              "\n",
              "   Freedom to make life choices  Generosity  Perceptions of corruption  \\\n",
              "0                         0.859       0.142                      0.546   \n",
              "1                         0.823       0.204                      0.548   \n",
              "2                         0.819       0.258                      0.182   \n",
              "3                         0.838       0.221                      0.524   \n",
              "4                         0.641       0.153                      0.193   \n",
              "\n",
              "   Dystopia + residual  \n",
              "0                2.082  \n",
              "1                1.881  \n",
              "2                2.050  \n",
              "3                1.658  \n",
              "4                2.298  "
            ],
            "text/html": [
              "\n",
              "  <div id=\"df-24690b39-7f76-482e-8d72-37d33393bca2\" class=\"colab-df-container\">\n",
              "    <div>\n",
              "<style scoped>\n",
              "    .dataframe tbody tr th:only-of-type {\n",
              "        vertical-align: middle;\n",
              "    }\n",
              "\n",
              "    .dataframe tbody tr th {\n",
              "        vertical-align: top;\n",
              "    }\n",
              "\n",
              "    .dataframe thead th {\n",
              "        text-align: right;\n",
              "    }\n",
              "</style>\n",
              "<table border=\"1\" class=\"dataframe\">\n",
              "  <thead>\n",
              "    <tr style=\"text-align: right;\">\n",
              "      <th></th>\n",
              "      <th>Country name</th>\n",
              "      <th>Ladder score</th>\n",
              "      <th>upperwhisker</th>\n",
              "      <th>lowerwhisker</th>\n",
              "      <th>Logged GDP per capita</th>\n",
              "      <th>Social support</th>\n",
              "      <th>Healthy life expectancy</th>\n",
              "      <th>Freedom to make life choices</th>\n",
              "      <th>Generosity</th>\n",
              "      <th>Perceptions of corruption</th>\n",
              "      <th>Dystopia + residual</th>\n",
              "    </tr>\n",
              "  </thead>\n",
              "  <tbody>\n",
              "    <tr>\n",
              "      <th>0</th>\n",
              "      <td>Finland</td>\n",
              "      <td>7.741</td>\n",
              "      <td>7.815</td>\n",
              "      <td>7.667</td>\n",
              "      <td>1.844</td>\n",
              "      <td>1.572</td>\n",
              "      <td>0.695</td>\n",
              "      <td>0.859</td>\n",
              "      <td>0.142</td>\n",
              "      <td>0.546</td>\n",
              "      <td>2.082</td>\n",
              "    </tr>\n",
              "    <tr>\n",
              "      <th>1</th>\n",
              "      <td>Denmark</td>\n",
              "      <td>7.583</td>\n",
              "      <td>7.665</td>\n",
              "      <td>7.500</td>\n",
              "      <td>1.908</td>\n",
              "      <td>1.520</td>\n",
              "      <td>0.699</td>\n",
              "      <td>0.823</td>\n",
              "      <td>0.204</td>\n",
              "      <td>0.548</td>\n",
              "      <td>1.881</td>\n",
              "    </tr>\n",
              "    <tr>\n",
              "      <th>2</th>\n",
              "      <td>Iceland</td>\n",
              "      <td>7.525</td>\n",
              "      <td>7.618</td>\n",
              "      <td>7.433</td>\n",
              "      <td>1.881</td>\n",
              "      <td>1.617</td>\n",
              "      <td>0.718</td>\n",
              "      <td>0.819</td>\n",
              "      <td>0.258</td>\n",
              "      <td>0.182</td>\n",
              "      <td>2.050</td>\n",
              "    </tr>\n",
              "    <tr>\n",
              "      <th>3</th>\n",
              "      <td>Sweden</td>\n",
              "      <td>7.344</td>\n",
              "      <td>7.422</td>\n",
              "      <td>7.267</td>\n",
              "      <td>1.878</td>\n",
              "      <td>1.501</td>\n",
              "      <td>0.724</td>\n",
              "      <td>0.838</td>\n",
              "      <td>0.221</td>\n",
              "      <td>0.524</td>\n",
              "      <td>1.658</td>\n",
              "    </tr>\n",
              "    <tr>\n",
              "      <th>4</th>\n",
              "      <td>Israel</td>\n",
              "      <td>7.341</td>\n",
              "      <td>7.405</td>\n",
              "      <td>7.277</td>\n",
              "      <td>1.803</td>\n",
              "      <td>1.513</td>\n",
              "      <td>0.740</td>\n",
              "      <td>0.641</td>\n",
              "      <td>0.153</td>\n",
              "      <td>0.193</td>\n",
              "      <td>2.298</td>\n",
              "    </tr>\n",
              "  </tbody>\n",
              "</table>\n",
              "</div>\n",
              "    <div class=\"colab-df-buttons\">\n",
              "\n",
              "  <div class=\"colab-df-container\">\n",
              "    <button class=\"colab-df-convert\" onclick=\"convertToInteractive('df-24690b39-7f76-482e-8d72-37d33393bca2')\"\n",
              "            title=\"Convert this dataframe to an interactive table.\"\n",
              "            style=\"display:none;\">\n",
              "\n",
              "  <svg xmlns=\"http://www.w3.org/2000/svg\" height=\"24px\" viewBox=\"0 -960 960 960\">\n",
              "    <path d=\"M120-120v-720h720v720H120Zm60-500h600v-160H180v160Zm220 220h160v-160H400v160Zm0 220h160v-160H400v160ZM180-400h160v-160H180v160Zm440 0h160v-160H620v160ZM180-180h160v-160H180v160Zm440 0h160v-160H620v160Z\"/>\n",
              "  </svg>\n",
              "    </button>\n",
              "\n",
              "  <style>\n",
              "    .colab-df-container {\n",
              "      display:flex;\n",
              "      gap: 12px;\n",
              "    }\n",
              "\n",
              "    .colab-df-convert {\n",
              "      background-color: #E8F0FE;\n",
              "      border: none;\n",
              "      border-radius: 50%;\n",
              "      cursor: pointer;\n",
              "      display: none;\n",
              "      fill: #1967D2;\n",
              "      height: 32px;\n",
              "      padding: 0 0 0 0;\n",
              "      width: 32px;\n",
              "    }\n",
              "\n",
              "    .colab-df-convert:hover {\n",
              "      background-color: #E2EBFA;\n",
              "      box-shadow: 0px 1px 2px rgba(60, 64, 67, 0.3), 0px 1px 3px 1px rgba(60, 64, 67, 0.15);\n",
              "      fill: #174EA6;\n",
              "    }\n",
              "\n",
              "    .colab-df-buttons div {\n",
              "      margin-bottom: 4px;\n",
              "    }\n",
              "\n",
              "    [theme=dark] .colab-df-convert {\n",
              "      background-color: #3B4455;\n",
              "      fill: #D2E3FC;\n",
              "    }\n",
              "\n",
              "    [theme=dark] .colab-df-convert:hover {\n",
              "      background-color: #434B5C;\n",
              "      box-shadow: 0px 1px 3px 1px rgba(0, 0, 0, 0.15);\n",
              "      filter: drop-shadow(0px 1px 2px rgba(0, 0, 0, 0.3));\n",
              "      fill: #FFFFFF;\n",
              "    }\n",
              "  </style>\n",
              "\n",
              "    <script>\n",
              "      const buttonEl =\n",
              "        document.querySelector('#df-24690b39-7f76-482e-8d72-37d33393bca2 button.colab-df-convert');\n",
              "      buttonEl.style.display =\n",
              "        google.colab.kernel.accessAllowed ? 'block' : 'none';\n",
              "\n",
              "      async function convertToInteractive(key) {\n",
              "        const element = document.querySelector('#df-24690b39-7f76-482e-8d72-37d33393bca2');\n",
              "        const dataTable =\n",
              "          await google.colab.kernel.invokeFunction('convertToInteractive',\n",
              "                                                    [key], {});\n",
              "        if (!dataTable) return;\n",
              "\n",
              "        const docLinkHtml = 'Like what you see? Visit the ' +\n",
              "          '<a target=\"_blank\" href=https://colab.research.google.com/notebooks/data_table.ipynb>data table notebook</a>'\n",
              "          + ' to learn more about interactive tables.';\n",
              "        element.innerHTML = '';\n",
              "        dataTable['output_type'] = 'display_data';\n",
              "        await google.colab.output.renderOutput(dataTable, element);\n",
              "        const docLink = document.createElement('div');\n",
              "        docLink.innerHTML = docLinkHtml;\n",
              "        element.appendChild(docLink);\n",
              "      }\n",
              "    </script>\n",
              "  </div>\n",
              "\n",
              "\n",
              "<div id=\"df-d1100881-17e4-4342-b2b1-161cf67f7496\">\n",
              "  <button class=\"colab-df-quickchart\" onclick=\"quickchart('df-d1100881-17e4-4342-b2b1-161cf67f7496')\"\n",
              "            title=\"Suggest charts\"\n",
              "            style=\"display:none;\">\n",
              "\n",
              "<svg xmlns=\"http://www.w3.org/2000/svg\" height=\"24px\"viewBox=\"0 0 24 24\"\n",
              "     width=\"24px\">\n",
              "    <g>\n",
              "        <path d=\"M19 3H5c-1.1 0-2 .9-2 2v14c0 1.1.9 2 2 2h14c1.1 0 2-.9 2-2V5c0-1.1-.9-2-2-2zM9 17H7v-7h2v7zm4 0h-2V7h2v10zm4 0h-2v-4h2v4z\"/>\n",
              "    </g>\n",
              "</svg>\n",
              "  </button>\n",
              "\n",
              "<style>\n",
              "  .colab-df-quickchart {\n",
              "      --bg-color: #E8F0FE;\n",
              "      --fill-color: #1967D2;\n",
              "      --hover-bg-color: #E2EBFA;\n",
              "      --hover-fill-color: #174EA6;\n",
              "      --disabled-fill-color: #AAA;\n",
              "      --disabled-bg-color: #DDD;\n",
              "  }\n",
              "\n",
              "  [theme=dark] .colab-df-quickchart {\n",
              "      --bg-color: #3B4455;\n",
              "      --fill-color: #D2E3FC;\n",
              "      --hover-bg-color: #434B5C;\n",
              "      --hover-fill-color: #FFFFFF;\n",
              "      --disabled-bg-color: #3B4455;\n",
              "      --disabled-fill-color: #666;\n",
              "  }\n",
              "\n",
              "  .colab-df-quickchart {\n",
              "    background-color: var(--bg-color);\n",
              "    border: none;\n",
              "    border-radius: 50%;\n",
              "    cursor: pointer;\n",
              "    display: none;\n",
              "    fill: var(--fill-color);\n",
              "    height: 32px;\n",
              "    padding: 0;\n",
              "    width: 32px;\n",
              "  }\n",
              "\n",
              "  .colab-df-quickchart:hover {\n",
              "    background-color: var(--hover-bg-color);\n",
              "    box-shadow: 0 1px 2px rgba(60, 64, 67, 0.3), 0 1px 3px 1px rgba(60, 64, 67, 0.15);\n",
              "    fill: var(--button-hover-fill-color);\n",
              "  }\n",
              "\n",
              "  .colab-df-quickchart-complete:disabled,\n",
              "  .colab-df-quickchart-complete:disabled:hover {\n",
              "    background-color: var(--disabled-bg-color);\n",
              "    fill: var(--disabled-fill-color);\n",
              "    box-shadow: none;\n",
              "  }\n",
              "\n",
              "  .colab-df-spinner {\n",
              "    border: 2px solid var(--fill-color);\n",
              "    border-color: transparent;\n",
              "    border-bottom-color: var(--fill-color);\n",
              "    animation:\n",
              "      spin 1s steps(1) infinite;\n",
              "  }\n",
              "\n",
              "  @keyframes spin {\n",
              "    0% {\n",
              "      border-color: transparent;\n",
              "      border-bottom-color: var(--fill-color);\n",
              "      border-left-color: var(--fill-color);\n",
              "    }\n",
              "    20% {\n",
              "      border-color: transparent;\n",
              "      border-left-color: var(--fill-color);\n",
              "      border-top-color: var(--fill-color);\n",
              "    }\n",
              "    30% {\n",
              "      border-color: transparent;\n",
              "      border-left-color: var(--fill-color);\n",
              "      border-top-color: var(--fill-color);\n",
              "      border-right-color: var(--fill-color);\n",
              "    }\n",
              "    40% {\n",
              "      border-color: transparent;\n",
              "      border-right-color: var(--fill-color);\n",
              "      border-top-color: var(--fill-color);\n",
              "    }\n",
              "    60% {\n",
              "      border-color: transparent;\n",
              "      border-right-color: var(--fill-color);\n",
              "    }\n",
              "    80% {\n",
              "      border-color: transparent;\n",
              "      border-right-color: var(--fill-color);\n",
              "      border-bottom-color: var(--fill-color);\n",
              "    }\n",
              "    90% {\n",
              "      border-color: transparent;\n",
              "      border-bottom-color: var(--fill-color);\n",
              "    }\n",
              "  }\n",
              "</style>\n",
              "\n",
              "  <script>\n",
              "    async function quickchart(key) {\n",
              "      const quickchartButtonEl =\n",
              "        document.querySelector('#' + key + ' button');\n",
              "      quickchartButtonEl.disabled = true;  // To prevent multiple clicks.\n",
              "      quickchartButtonEl.classList.add('colab-df-spinner');\n",
              "      try {\n",
              "        const charts = await google.colab.kernel.invokeFunction(\n",
              "            'suggestCharts', [key], {});\n",
              "      } catch (error) {\n",
              "        console.error('Error during call to suggestCharts:', error);\n",
              "      }\n",
              "      quickchartButtonEl.classList.remove('colab-df-spinner');\n",
              "      quickchartButtonEl.classList.add('colab-df-quickchart-complete');\n",
              "    }\n",
              "    (() => {\n",
              "      let quickchartButtonEl =\n",
              "        document.querySelector('#df-d1100881-17e4-4342-b2b1-161cf67f7496 button');\n",
              "      quickchartButtonEl.style.display =\n",
              "        google.colab.kernel.accessAllowed ? 'block' : 'none';\n",
              "    })();\n",
              "  </script>\n",
              "</div>\n",
              "\n",
              "    </div>\n",
              "  </div>\n"
            ],
            "application/vnd.google.colaboratory.intrinsic+json": {
              "type": "dataframe",
              "variable_name": "df",
              "summary": "{\n  \"name\": \"df\",\n  \"rows\": 143,\n  \"fields\": [\n    {\n      \"column\": \"Country name\",\n      \"properties\": {\n        \"dtype\": \"string\",\n        \"num_unique_values\": 143,\n        \"samples\": [\n          \"Myanmar\",\n          \"United Kingdom\",\n          \"South Africa\"\n        ],\n        \"semantic_type\": \"\",\n        \"description\": \"\"\n      }\n    },\n    {\n      \"column\": \"Ladder score\",\n      \"properties\": {\n        \"dtype\": \"number\",\n        \"std\": 1.1707165099442995,\n        \"min\": 1.721,\n        \"max\": 7.741,\n        \"num_unique_values\": 140,\n        \"samples\": [\n          4.505,\n          5.823,\n          6.491\n        ],\n        \"semantic_type\": \"\",\n        \"description\": \"\"\n      }\n    },\n    {\n      \"column\": \"upperwhisker\",\n      \"properties\": {\n        \"dtype\": \"number\",\n        \"std\": 1.1550081477347234,\n        \"min\": 1.775,\n        \"max\": 7.815,\n        \"num_unique_values\": 140,\n        \"samples\": [\n          4.673,\n          5.946,\n          6.592\n        ],\n        \"semantic_type\": \"\",\n        \"description\": \"\"\n      }\n    },\n    {\n      \"column\": \"lowerwhisker\",\n      \"properties\": {\n        \"dtype\": \"number\",\n        \"std\": 1.1871328458004407,\n        \"min\": 1.667,\n        \"max\": 7.667,\n        \"num_unique_values\": 136,\n        \"samples\": [\n          5.61,\n          6.07,\n          5.837\n        ],\n        \"semantic_type\": \"\",\n        \"description\": \"\"\n      }\n    },\n    {\n      \"column\": \"Logged GDP per capita\",\n      \"properties\": {\n        \"dtype\": \"number\",\n        \"std\": 0.4250983279640385,\n        \"min\": 0.0,\n        \"max\": 2.141,\n        \"num_unique_values\": 134,\n        \"samples\": [\n          0.617,\n          1.385,\n          0.75\n        ],\n        \"semantic_type\": \"\",\n        \"description\": \"\"\n      }\n    },\n    {\n      \"column\": \"Social support\",\n      \"properties\": {\n        \"dtype\": \"number\",\n        \"std\": 0.3333171290682772,\n        \"min\": 0.0,\n        \"max\": 1.617,\n        \"num_unique_values\": 124,\n        \"samples\": [\n          1.454,\n          1.394,\n          1.328\n        ],\n        \"semantic_type\": \"\",\n        \"description\": \"\"\n      }\n    },\n    {\n      \"column\": \"Healthy life expectancy\",\n      \"properties\": {\n        \"dtype\": \"number\",\n        \"std\": 0.16492252751586103,\n        \"min\": 0.0,\n        \"max\": 0.857,\n        \"num_unique_values\": 119,\n        \"samples\": [\n          0.662,\n          0.293,\n          0.74\n        ],\n        \"semantic_type\": \"\",\n        \"description\": \"\"\n      }\n    },\n    {\n      \"column\": \"Freedom to make life choices\",\n      \"properties\": {\n        \"dtype\": \"number\",\n        \"std\": 0.1624918135340067,\n        \"min\": 0.0,\n        \"max\": 0.863,\n        \"num_unique_values\": 122,\n        \"samples\": [\n          0.533,\n          0.681,\n          0.529\n        ],\n        \"semantic_type\": \"\",\n        \"description\": \"\"\n      }\n    },\n    {\n      \"column\": \"Generosity\",\n      \"properties\": {\n        \"dtype\": \"number\",\n        \"std\": 0.07344129382188384,\n        \"min\": 0.0,\n        \"max\": 0.401,\n        \"num_unique_values\": 110,\n        \"samples\": [\n          0.141,\n          0.226,\n          0.153\n        ],\n        \"semantic_type\": \"\",\n        \"description\": \"\"\n      }\n    },\n    {\n      \"column\": \"Perceptions of corruption\",\n      \"properties\": {\n        \"dtype\": \"number\",\n        \"std\": 0.12623818231503292,\n        \"min\": 0.0,\n        \"max\": 0.575,\n        \"num_unique_values\": 112,\n        \"samples\": [\n          0.078,\n          0.118,\n          0.193\n        ],\n        \"semantic_type\": \"\",\n        \"description\": \"\"\n      }\n    },\n    {\n      \"column\": \"Dystopia + residual\",\n      \"properties\": {\n        \"dtype\": \"number\",\n        \"std\": 0.5374585074928712,\n        \"min\": -0.073,\n        \"max\": 2.998,\n        \"num_unique_values\": 134,\n        \"samples\": [\n          0.066,\n          1.795,\n          2.122\n        ],\n        \"semantic_type\": \"\",\n        \"description\": \"\"\n      }\n    }\n  ]\n}"
            },
            "application/vnd.google.colaboratory.module+javascript": "\n      import \"https://ssl.gstatic.com/colaboratory/data_table/e523c247d1e24a05/data_table.js\";\n\n      const table = window.createDataTable({\n        data: [[{\n            'v': 0,\n            'f': \"0\",\n        },\n\"Finland\",\n{\n            'v': 7.741,\n            'f': \"7.741\",\n        },\n{\n            'v': 7.815,\n            'f': \"7.815\",\n        },\n{\n            'v': 7.667,\n            'f': \"7.667\",\n        },\n{\n            'v': 1.844,\n            'f': \"1.844\",\n        },\n{\n            'v': 1.572,\n            'f': \"1.572\",\n        },\n{\n            'v': 0.695,\n            'f': \"0.695\",\n        },\n{\n            'v': 0.859,\n            'f': \"0.859\",\n        },\n{\n            'v': 0.142,\n            'f': \"0.142\",\n        },\n{\n            'v': 0.546,\n            'f': \"0.546\",\n        },\n{\n            'v': 2.082,\n            'f': \"2.082\",\n        }],\n [{\n            'v': 1,\n            'f': \"1\",\n        },\n\"Denmark\",\n{\n            'v': 7.583,\n            'f': \"7.583\",\n        },\n{\n            'v': 7.665,\n            'f': \"7.665\",\n        },\n{\n            'v': 7.5,\n            'f': \"7.5\",\n        },\n{\n            'v': 1.908,\n            'f': \"1.908\",\n        },\n{\n            'v': 1.52,\n            'f': \"1.52\",\n        },\n{\n            'v': 0.699,\n            'f': \"0.699\",\n        },\n{\n            'v': 0.823,\n            'f': \"0.823\",\n        },\n{\n            'v': 0.204,\n            'f': \"0.204\",\n        },\n{\n            'v': 0.548,\n            'f': \"0.548\",\n        },\n{\n            'v': 1.881,\n            'f': \"1.881\",\n        }],\n [{\n            'v': 2,\n            'f': \"2\",\n        },\n\"Iceland\",\n{\n            'v': 7.525,\n            'f': \"7.525\",\n        },\n{\n            'v': 7.618,\n            'f': \"7.618\",\n        },\n{\n            'v': 7.433,\n            'f': \"7.433\",\n        },\n{\n            'v': 1.881,\n            'f': \"1.881\",\n        },\n{\n            'v': 1.617,\n            'f': \"1.617\",\n        },\n{\n            'v': 0.718,\n            'f': \"0.718\",\n        },\n{\n            'v': 0.819,\n            'f': \"0.819\",\n        },\n{\n            'v': 0.258,\n            'f': \"0.258\",\n        },\n{\n            'v': 0.182,\n            'f': \"0.182\",\n        },\n{\n            'v': 2.05,\n            'f': \"2.05\",\n        }],\n [{\n            'v': 3,\n            'f': \"3\",\n        },\n\"Sweden\",\n{\n            'v': 7.344,\n            'f': \"7.344\",\n        },\n{\n            'v': 7.422,\n            'f': \"7.422\",\n        },\n{\n            'v': 7.267,\n            'f': \"7.267\",\n        },\n{\n            'v': 1.878,\n            'f': \"1.878\",\n        },\n{\n            'v': 1.501,\n            'f': \"1.501\",\n        },\n{\n            'v': 0.724,\n            'f': \"0.724\",\n        },\n{\n            'v': 0.838,\n            'f': \"0.838\",\n        },\n{\n            'v': 0.221,\n            'f': \"0.221\",\n        },\n{\n            'v': 0.524,\n            'f': \"0.524\",\n        },\n{\n            'v': 1.658,\n            'f': \"1.658\",\n        }],\n [{\n            'v': 4,\n            'f': \"4\",\n        },\n\"Israel\",\n{\n            'v': 7.341,\n            'f': \"7.341\",\n        },\n{\n            'v': 7.405,\n            'f': \"7.405\",\n        },\n{\n            'v': 7.277,\n            'f': \"7.277\",\n        },\n{\n            'v': 1.803,\n            'f': \"1.803\",\n        },\n{\n            'v': 1.513,\n            'f': \"1.513\",\n        },\n{\n            'v': 0.74,\n            'f': \"0.74\",\n        },\n{\n            'v': 0.641,\n            'f': \"0.641\",\n        },\n{\n            'v': 0.153,\n            'f': \"0.153\",\n        },\n{\n            'v': 0.193,\n            'f': \"0.193\",\n        },\n{\n            'v': 2.298,\n            'f': \"2.298\",\n        }]],\n        columns: [[\"number\", \"index\"], [\"string\", \"Country name\"], [\"number\", \"Ladder score\"], [\"number\", \"upperwhisker\"], [\"number\", \"lowerwhisker\"], [\"number\", \"Logged GDP per capita\"], [\"number\", \"Social support\"], [\"number\", \"Healthy life expectancy\"], [\"number\", \"Freedom to make life choices\"], [\"number\", \"Generosity\"], [\"number\", \"Perceptions of corruption\"], [\"number\", \"Dystopia + residual\"]],\n        columnOptions: [{\"width\": \"1px\", \"className\": \"index_column\"}],\n        rowsPerPage: 25,\n        helpUrl: \"https://colab.research.google.com/notebooks/data_table.ipynb\",\n        suppressOutputScrolling: true,\n        minimumWidth: undefined,\n      });\n\n      function appendQuickchartButton(parentElement) {\n        let quickchartButtonContainerElement = document.createElement('div');\n        quickchartButtonContainerElement.innerHTML = `\n<div id=\"df-6d9fec26-d8db-43b9-8cea-9f7d364b7c77\">\n  <button class=\"colab-df-quickchart\" onclick=\"quickchart('df-6d9fec26-d8db-43b9-8cea-9f7d364b7c77')\"\n            title=\"Suggest charts\"\n            style=\"display:none;\">\n    \n<svg xmlns=\"http://www.w3.org/2000/svg\" height=\"24px\"viewBox=\"0 0 24 24\"\n     width=\"24px\">\n    <g>\n        <path d=\"M19 3H5c-1.1 0-2 .9-2 2v14c0 1.1.9 2 2 2h14c1.1 0 2-.9 2-2V5c0-1.1-.9-2-2-2zM9 17H7v-7h2v7zm4 0h-2V7h2v10zm4 0h-2v-4h2v4z\"/>\n    </g>\n</svg>\n  </button>\n  \n<style>\n  .colab-df-quickchart {\n      --bg-color: #E8F0FE;\n      --fill-color: #1967D2;\n      --hover-bg-color: #E2EBFA;\n      --hover-fill-color: #174EA6;\n      --disabled-fill-color: #AAA;\n      --disabled-bg-color: #DDD;\n  }\n\n  [theme=dark] .colab-df-quickchart {\n      --bg-color: #3B4455;\n      --fill-color: #D2E3FC;\n      --hover-bg-color: #434B5C;\n      --hover-fill-color: #FFFFFF;\n      --disabled-bg-color: #3B4455;\n      --disabled-fill-color: #666;\n  }\n\n  .colab-df-quickchart {\n    background-color: var(--bg-color);\n    border: none;\n    border-radius: 50%;\n    cursor: pointer;\n    display: none;\n    fill: var(--fill-color);\n    height: 32px;\n    padding: 0;\n    width: 32px;\n  }\n\n  .colab-df-quickchart:hover {\n    background-color: var(--hover-bg-color);\n    box-shadow: 0 1px 2px rgba(60, 64, 67, 0.3), 0 1px 3px 1px rgba(60, 64, 67, 0.15);\n    fill: var(--button-hover-fill-color);\n  }\n\n  .colab-df-quickchart-complete:disabled,\n  .colab-df-quickchart-complete:disabled:hover {\n    background-color: var(--disabled-bg-color);\n    fill: var(--disabled-fill-color);\n    box-shadow: none;\n  }\n\n  .colab-df-spinner {\n    border: 2px solid var(--fill-color);\n    border-color: transparent;\n    border-bottom-color: var(--fill-color);\n    animation:\n      spin 1s steps(1) infinite;\n  }\n\n  @keyframes spin {\n    0% {\n      border-color: transparent;\n      border-bottom-color: var(--fill-color);\n      border-left-color: var(--fill-color);\n    }\n    20% {\n      border-color: transparent;\n      border-left-color: var(--fill-color);\n      border-top-color: var(--fill-color);\n    }\n    30% {\n      border-color: transparent;\n      border-left-color: var(--fill-color);\n      border-top-color: var(--fill-color);\n      border-right-color: var(--fill-color);\n    }\n    40% {\n      border-color: transparent;\n      border-right-color: var(--fill-color);\n      border-top-color: var(--fill-color);\n    }\n    60% {\n      border-color: transparent;\n      border-right-color: var(--fill-color);\n    }\n    80% {\n      border-color: transparent;\n      border-right-color: var(--fill-color);\n      border-bottom-color: var(--fill-color);\n    }\n    90% {\n      border-color: transparent;\n      border-bottom-color: var(--fill-color);\n    }\n  }\n</style>\n\n  <script>\n    async function quickchart(key) {\n      const quickchartButtonEl =\n        document.querySelector('#' + key + ' button');\n      quickchartButtonEl.disabled = true;  // To prevent multiple clicks.\n      quickchartButtonEl.classList.add('colab-df-spinner');\n      try {\n        const charts = await google.colab.kernel.invokeFunction(\n            'suggestCharts', [key], {});\n      } catch (error) {\n        console.error('Error during call to suggestCharts:', error);\n      }\n      quickchartButtonEl.classList.remove('colab-df-spinner');\n      quickchartButtonEl.classList.add('colab-df-quickchart-complete');\n    }\n    (() => {\n      let quickchartButtonEl =\n        document.querySelector('#df-6d9fec26-d8db-43b9-8cea-9f7d364b7c77 button');\n      quickchartButtonEl.style.display =\n        google.colab.kernel.accessAllowed ? 'block' : 'none';\n    })();\n  </script>\n</div>`;\n        parentElement.appendChild(quickchartButtonContainerElement);\n      }\n\n      appendQuickchartButton(table);\n    "
          },
          "metadata": {},
          "execution_count": 44
        }
      ]
    },
    {
      "cell_type": "code",
      "source": [
        "df.columns = df.columns.str.strip()"
      ],
      "metadata": {
        "id": "PXNWdugBY8sY"
      },
      "execution_count": 45,
      "outputs": []
    },
    {
      "cell_type": "code",
      "source": [
        "# Initial inspection of DataFrame structure\n",
        "df.info()"
      ],
      "metadata": {
        "colab": {
          "base_uri": "https://localhost:8080/"
        },
        "id": "JhEQy9SfUoHt",
        "outputId": "ce584b9c-c576-42db-d75f-50d10536982f"
      },
      "execution_count": 46,
      "outputs": [
        {
          "output_type": "stream",
          "name": "stdout",
          "text": [
            "<class 'pandas.core.frame.DataFrame'>\n",
            "RangeIndex: 143 entries, 0 to 142\n",
            "Data columns (total 11 columns):\n",
            " #   Column                        Non-Null Count  Dtype  \n",
            "---  ------                        --------------  -----  \n",
            " 0   Country name                  143 non-null    object \n",
            " 1   Ladder score                  143 non-null    float64\n",
            " 2   upperwhisker                  143 non-null    float64\n",
            " 3   lowerwhisker                  143 non-null    float64\n",
            " 4   Logged GDP per capita         140 non-null    float64\n",
            " 5   Social support                140 non-null    float64\n",
            " 6   Healthy life expectancy       140 non-null    float64\n",
            " 7   Freedom to make life choices  140 non-null    float64\n",
            " 8   Generosity                    140 non-null    float64\n",
            " 9   Perceptions of corruption     140 non-null    float64\n",
            " 10  Dystopia + residual           140 non-null    float64\n",
            "dtypes: float64(10), object(1)\n",
            "memory usage: 12.4+ KB\n"
          ]
        }
      ]
    },
    {
      "cell_type": "code",
      "source": [
        "# Check for missing values\n",
        "print(\"\\nMissing values across columns:\")\n",
        "print(df.isnull().sum())"
      ],
      "metadata": {
        "colab": {
          "base_uri": "https://localhost:8080/"
        },
        "id": "uyAd27N8Vgul",
        "outputId": "8b61176c-47ed-4800-8a73-7f10448c09b9"
      },
      "execution_count": 47,
      "outputs": [
        {
          "output_type": "stream",
          "name": "stdout",
          "text": [
            "\n",
            "Missing values across columns:\n",
            "Country name                    0\n",
            "Ladder score                    0\n",
            "upperwhisker                    0\n",
            "lowerwhisker                    0\n",
            "Logged GDP per capita           3\n",
            "Social support                  3\n",
            "Healthy life expectancy         3\n",
            "Freedom to make life choices    3\n",
            "Generosity                      3\n",
            "Perceptions of corruption       3\n",
            "Dystopia + residual             3\n",
            "dtype: int64\n"
          ]
        }
      ]
    },
    {
      "cell_type": "code",
      "source": [
        "# Drop irrelevant columns and handle missing values\n",
        "columns_to_drop = ['Dystopia + residual']\n",
        "df = df.drop(columns=columns_to_drop, errors='ignore')\n",
        "\n",
        "# Drop rows with missing values\n",
        "df = df.dropna()\n",
        "\n",
        "# Verify the cleaned DataFrame\n",
        "df.info()"
      ],
      "metadata": {
        "colab": {
          "base_uri": "https://localhost:8080/"
        },
        "id": "OA1VN-8qVi9F",
        "outputId": "db0c34bc-85c5-4b4c-ab97-8cb6ba8c5286"
      },
      "execution_count": 48,
      "outputs": [
        {
          "output_type": "stream",
          "name": "stdout",
          "text": [
            "<class 'pandas.core.frame.DataFrame'>\n",
            "Index: 140 entries, 0 to 142\n",
            "Data columns (total 10 columns):\n",
            " #   Column                        Non-Null Count  Dtype  \n",
            "---  ------                        --------------  -----  \n",
            " 0   Country name                  140 non-null    object \n",
            " 1   Ladder score                  140 non-null    float64\n",
            " 2   upperwhisker                  140 non-null    float64\n",
            " 3   lowerwhisker                  140 non-null    float64\n",
            " 4   Logged GDP per capita         140 non-null    float64\n",
            " 5   Social support                140 non-null    float64\n",
            " 6   Healthy life expectancy       140 non-null    float64\n",
            " 7   Freedom to make life choices  140 non-null    float64\n",
            " 8   Generosity                    140 non-null    float64\n",
            " 9   Perceptions of corruption     140 non-null    float64\n",
            "dtypes: float64(9), object(1)\n",
            "memory usage: 12.0+ KB\n"
          ]
        }
      ]
    },
    {
      "cell_type": "code",
      "source": [
        "# Happiness score distribution\n",
        "plt.figure(figsize=(8, 6))\n",
        "sns.histplot(df['Ladder score'], kde=True, bins=20, color='teal')\n",
        "plt.title('Distribution of Happiness Scores', fontsize=16)\n",
        "plt.xlabel('Happiness Score', fontsize=12)\n",
        "plt.ylabel('Frequency', fontsize=12)\n",
        "plt.show()"
      ],
      "metadata": {
        "colab": {
          "base_uri": "https://localhost:8080/",
          "height": 575
        },
        "id": "qjounQLfU44E",
        "outputId": "7fdd72b3-c2bb-48b8-ea65-c7fd9f2b1061"
      },
      "execution_count": 49,
      "outputs": [
        {
          "output_type": "display_data",
          "data": {
            "text/plain": [
              "<Figure size 800x600 with 1 Axes>"
            ],
            "image/png": "[encoded data removed]"
          },
          "metadata": {}
        }
      ]
    },
    {
      "cell_type": "code",
      "source": [
        "# Calculate the correlation\n",
        "correlation = df['Ladder score'].corr(df['Logged GDP per capita'])\n",
        "print(f\"The correlation between Happiness Score and GDP per Capita is: {correlation:.2f}\")"
      ],
      "metadata": {
        "colab": {
          "base_uri": "https://localhost:8080/"
        },
        "id": "j-UFKocYWIuc",
        "outputId": "d5ef3df4-5468-446a-c363-ae3d29f3bbb5"
      },
      "execution_count": 51,
      "outputs": [
        {
          "output_type": "stream",
          "name": "stdout",
          "text": [
            "The correlation between Happiness Score and GDP per Capita is: 0.77\n"
          ]
        }
      ]
    },
    {
      "cell_type": "code",
      "source": [],
      "metadata": {
        "id": "SZHTEdyhVH4U"
      },
      "execution_count": 50,
      "outputs": []
    }
  ]
}