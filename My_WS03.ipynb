{
  "cells": [
    {
      "cell_type": "markdown",
      "metadata": {
        "id": "view-in-github",
        "colab_type": "text"
      },
      "source": [
        "<a href=\"https://colab.research.google.com/github/sbogde/pandamonium/blob/main/My_WS03.ipynb\" target=\"_parent\"><img src=\"https://colab.research.google.com/assets/colab-badge.svg\" alt=\"Open In Colab\"/></a>"
      ]
    },
    {
      "cell_type": "code",
      "execution_count": 9,
      "id": "29b20b14-20ee-4af0-8437-960031888df5",
      "metadata": {
        "id": "29b20b14-20ee-4af0-8437-960031888df5"
      },
      "outputs": [],
      "source": [
        "# !pip install wordcloud"
      ]
    },
    {
      "cell_type": "code",
      "execution_count": 10,
      "id": "ac9ebd92-6fa9-4972-8cc1-5a2a2ed4da40",
      "metadata": {
        "id": "ac9ebd92-6fa9-4972-8cc1-5a2a2ed4da40"
      },
      "outputs": [],
      "source": [
        "import csv\n",
        "from bs4 import BeautifulSoup\n",
        "import requests\n",
        "import pandas as pd\n",
        "import time\n",
        "import warnings"
      ]
    },
    {
      "cell_type": "code",
      "source": [
        "time.sleep(2)\n",
        "warnings.filterwarnings('ignore')"
      ],
      "metadata": {
        "id": "25l5tKGIMIyn"
      },
      "id": "25l5tKGIMIyn",
      "execution_count": 11,
      "outputs": []
    },
    {
      "cell_type": "code",
      "source": [
        "## Define URLs for Scraping IMDB Reviews\n",
        "urls = [\n",
        "    'https://www.imdb.com/title/tt0111161/reviews/?ref_=tt_ql_urv',\n",
        "    'https://www.imdb.com/title/tt1213644/reviews/?ref_=tt_ql_urv',\n",
        "    'https://www.imdb.com/title/tt6856242/reviews/?ref_=tt_ql_urv',\n",
        "    'https://www.imdb.com/title/tt8356942/reviews/?ref_=tt_ql_urv',\n",
        "    'https://www.imdb.com/title/tt0060666/reviews/?ref_=tt_ql_urv'\n",
        "]\n",
        "\n",
        "# content = []\n",
        "# for url in urls:\n",
        "#     page = requests.get(url, timeout=2.50)\n",
        "#     soup = BeautifulSoup(page.content, 'html.parser')\n",
        "#     content.append(soup.find_all('div', class_='review-container'))\n",
        "\n",
        "# Initialize lists to store extracted reviews and ratings\n",
        "reviews_list = []\n",
        "ratings_list = []\n",
        "\n",
        "# Iterate over each movie URL\n",
        "for url in urls:\n",
        "    print(f\"Scraping: {url}\")\n",
        "    headers = {'User-Agent': 'Mozilla/5.0'}  # Prevent getting blocked\n",
        "    page = requests.get(url, headers=headers)\n",
        "\n",
        "    # Parse the page content\n",
        "    soup = BeautifulSoup(page.content, 'html.parser')\n",
        "\n",
        "    # Find all review containers\n",
        "    review_containers = soup.find_all('article', class_='sc-7d2e5b85-1 cvfQlw user-review-item')\n",
        "\n",
        "    # Extract review text and rating\n",
        "    for container in review_containers:\n",
        "        # Extract review text\n",
        "        review_element = container.find('div', class_='ipc-html-content-inner-div')\n",
        "        review_text = review_element.get_text(strip=True) if review_element else \"No Review\"\n",
        "\n",
        "        # Extract rating\n",
        "        rating_element = container.find('span', class_='ipc-rating-star--rating')\n",
        "        rating = rating_element.get_text(strip=True) if rating_element else \"NA\"\n",
        "\n",
        "        # Append to lists\n",
        "        reviews_list.append(review_text)\n",
        "        ratings_list.append(rating)\n",
        "\n",
        "        # print(f\"Review: {review_text[:100]}...\")  # Print preview\n",
        "        # print(f\"Rating: {rating}\\n\")\n",
        "\n",
        "    # Sleep to prevent being blocked\n",
        "    time.sleep(2)\n",
        "\n",
        "# Create DataFrame\n",
        "movie = pd.DataFrame({'Review': reviews_list, 'Rating': ratings_list})"
      ],
      "metadata": {
        "colab": {
          "base_uri": "https://localhost:8080/"
        },
        "id": "H4VRtFYOMNhp",
        "outputId": "237a5c6c-07ad-4e9d-9cf9-fba1d0279f7d"
      },
      "id": "H4VRtFYOMNhp",
      "execution_count": 12,
      "outputs": [
        {
          "output_type": "stream",
          "name": "stdout",
          "text": [
            "Scraping: https://www.imdb.com/title/tt0111161/reviews/?ref_=tt_ql_urv\n",
            "Scraping: https://www.imdb.com/title/tt1213644/reviews/?ref_=tt_ql_urv\n",
            "Scraping: https://www.imdb.com/title/tt6856242/reviews/?ref_=tt_ql_urv\n",
            "Scraping: https://www.imdb.com/title/tt8356942/reviews/?ref_=tt_ql_urv\n",
            "Scraping: https://www.imdb.com/title/tt0060666/reviews/?ref_=tt_ql_urv\n"
          ]
        }
      ]
    },
    {
      "cell_type": "code",
      "source": [
        "movie.head()"
      ],
      "metadata": {
        "colab": {
          "base_uri": "https://localhost:8080/",
          "height": 53
        },
        "id": "zgAJeOtIMmJK",
        "outputId": "9db2a551-da10-4a5e-f2cb-0bc6088bcecc"
      },
      "id": "zgAJeOtIMmJK",
      "execution_count": 13,
      "outputs": [
        {
          "output_type": "execute_result",
          "data": {
            "text/plain": [
              "Empty DataFrame\n",
              "Columns: [Review, Rating]\n",
              "Index: []"
            ],
            "text/html": [
              "\n",
              "  <div id=\"df-1897425c-4e79-4181-a162-9c9e9bef1212\" class=\"colab-df-container\">\n",
              "    <div>\n",
              "<style scoped>\n",
              "    .dataframe tbody tr th:only-of-type {\n",
              "        vertical-align: middle;\n",
              "    }\n",
              "\n",
              "    .dataframe tbody tr th {\n",
              "        vertical-align: top;\n",
              "    }\n",
              "\n",
              "    .dataframe thead th {\n",
              "        text-align: right;\n",
              "    }\n",
              "</style>\n",
              "<table border=\"1\" class=\"dataframe\">\n",
              "  <thead>\n",
              "    <tr style=\"text-align: right;\">\n",
              "      <th></th>\n",
              "      <th>Review</th>\n",
              "      <th>Rating</th>\n",
              "    </tr>\n",
              "  </thead>\n",
              "  <tbody>\n",
              "  </tbody>\n",
              "</table>\n",
              "</div>\n",
              "    <div class=\"colab-df-buttons\">\n",
              "\n",
              "  <div class=\"colab-df-container\">\n",
              "    <button class=\"colab-df-convert\" onclick=\"convertToInteractive('df-1897425c-4e79-4181-a162-9c9e9bef1212')\"\n",
              "            title=\"Convert this dataframe to an interactive table.\"\n",
              "            style=\"display:none;\">\n",
              "\n",
              "  <svg xmlns=\"http://www.w3.org/2000/svg\" height=\"24px\" viewBox=\"0 -960 960 960\">\n",
              "    <path d=\"M120-120v-720h720v720H120Zm60-500h600v-160H180v160Zm220 220h160v-160H400v160Zm0 220h160v-160H400v160ZM180-400h160v-160H180v160Zm440 0h160v-160H620v160ZM180-180h160v-160H180v160Zm440 0h160v-160H620v160Z\"/>\n",
              "  </svg>\n",
              "    </button>\n",
              "\n",
              "  <style>\n",
              "    .colab-df-container {\n",
              "      display:flex;\n",
              "      gap: 12px;\n",
              "    }\n",
              "\n",
              "    .colab-df-convert {\n",
              "      background-color: #E8F0FE;\n",
              "      border: none;\n",
              "      border-radius: 50%;\n",
              "      cursor: pointer;\n",
              "      display: none;\n",
              "      fill: #1967D2;\n",
              "      height: 32px;\n",
              "      padding: 0 0 0 0;\n",
              "      width: 32px;\n",
              "    }\n",
              "\n",
              "    .colab-df-convert:hover {\n",
              "      background-color: #E2EBFA;\n",
              "      box-shadow: 0px 1px 2px rgba(60, 64, 67, 0.3), 0px 1px 3px 1px rgba(60, 64, 67, 0.15);\n",
              "      fill: #174EA6;\n",
              "    }\n",
              "\n",
              "    .colab-df-buttons div {\n",
              "      margin-bottom: 4px;\n",
              "    }\n",
              "\n",
              "    [theme=dark] .colab-df-convert {\n",
              "      background-color: #3B4455;\n",
              "      fill: #D2E3FC;\n",
              "    }\n",
              "\n",
              "    [theme=dark] .colab-df-convert:hover {\n",
              "      background-color: #434B5C;\n",
              "      box-shadow: 0px 1px 3px 1px rgba(0, 0, 0, 0.15);\n",
              "      filter: drop-shadow(0px 1px 2px rgba(0, 0, 0, 0.3));\n",
              "      fill: #FFFFFF;\n",
              "    }\n",
              "  </style>\n",
              "\n",
              "    <script>\n",
              "      const buttonEl =\n",
              "        document.querySelector('#df-1897425c-4e79-4181-a162-9c9e9bef1212 button.colab-df-convert');\n",
              "      buttonEl.style.display =\n",
              "        google.colab.kernel.accessAllowed ? 'block' : 'none';\n",
              "\n",
              "      async function convertToInteractive(key) {\n",
              "        const element = document.querySelector('#df-1897425c-4e79-4181-a162-9c9e9bef1212');\n",
              "        const dataTable =\n",
              "          await google.colab.kernel.invokeFunction('convertToInteractive',\n",
              "                                                    [key], {});\n",
              "        if (!dataTable) return;\n",
              "\n",
              "        const docLinkHtml = 'Like what you see? Visit the ' +\n",
              "          '<a target=\"_blank\" href=https://colab.research.google.com/notebooks/data_table.ipynb>data table notebook</a>'\n",
              "          + ' to learn more about interactive tables.';\n",
              "        element.innerHTML = '';\n",
              "        dataTable['output_type'] = 'display_data';\n",
              "        await google.colab.output.renderOutput(dataTable, element);\n",
              "        const docLink = document.createElement('div');\n",
              "        docLink.innerHTML = docLinkHtml;\n",
              "        element.appendChild(docLink);\n",
              "      }\n",
              "    </script>\n",
              "  </div>\n",
              "\n",
              "\n",
              "    </div>\n",
              "  </div>\n"
            ],
            "application/vnd.google.colaboratory.intrinsic+json": {
              "type": "dataframe",
              "variable_name": "movie",
              "summary": "{\n  \"name\": \"movie\",\n  \"rows\": 0,\n  \"fields\": [\n    {\n      \"column\": \"Review\",\n      \"properties\": {\n        \"dtype\": \"number\",\n        \"std\": null,\n        \"min\": null,\n        \"max\": null,\n        \"num_unique_values\": 0,\n        \"samples\": [],\n        \"semantic_type\": \"\",\n        \"description\": \"\"\n      }\n    },\n    {\n      \"column\": \"Rating\",\n      \"properties\": {\n        \"dtype\": \"number\",\n        \"std\": null,\n        \"min\": null,\n        \"max\": null,\n        \"num_unique_values\": 0,\n        \"samples\": [],\n        \"semantic_type\": \"\",\n        \"description\": \"\"\n      }\n    }\n  ]\n}"
            }
          },
          "metadata": {},
          "execution_count": 13
        }
      ]
    },
    {
      "cell_type": "code",
      "source": [
        "# Display first few rows\n",
        "print(movie.head())\n",
        "print(movie.info())"
      ],
      "metadata": {
        "colab": {
          "base_uri": "https://localhost:8080/"
        },
        "id": "AoAnJPhaM1QK",
        "outputId": "2709082e-5e27-405f-b02c-532d28bae267"
      },
      "id": "AoAnJPhaM1QK",
      "execution_count": 16,
      "outputs": [
        {
          "output_type": "stream",
          "name": "stdout",
          "text": [
            "Empty DataFrame\n",
            "Columns: [Review, Rating]\n",
            "Index: []\n",
            "<class 'pandas.core.frame.DataFrame'>\n",
            "RangeIndex: 0 entries\n",
            "Data columns (total 2 columns):\n",
            " #   Column  Non-Null Count  Dtype  \n",
            "---  ------  --------------  -----  \n",
            " 0   Review  0 non-null      float64\n",
            " 1   Rating  0 non-null      float64\n",
            "dtypes: float64(2)\n",
            "memory usage: 132.0 bytes\n",
            "None\n"
          ]
        }
      ]
    },
    {
      "cell_type": "code",
      "source": [
        "# Save to CSV\n",
        "movie.to_csv('Workshop3_IMDB_Dataset.csv', index=False)"
      ],
      "metadata": {
        "id": "pXWuDBr0Mj4b"
      },
      "id": "pXWuDBr0Mj4b",
      "execution_count": 14,
      "outputs": []
    },
    {
      "cell_type": "code",
      "source": [
        "\n",
        "# Convert Rating to string first, then replace non-numeric values safely\n",
        "movie['Rating'] = pd.to_numeric(movie['Rating'], errors='coerce')\n",
        "\n",
        "# Fill NaN values with a default value (e.g., 0) before converting to integer\n",
        "movie['Rating'] = movie['Rating'].fillna(0).astype(int)\n",
        "\n",
        "### Extract Reviews and Ratings\n",
        "## Text Processing and Analysis\n",
        "### Importing Required Libraries\n",
        "import string\n",
        "import re\n",
        "from nltk.corpus import stopwords\n",
        "from nltk.stem.porter import PorterStemmer\n",
        "from sklearn.feature_extraction.text import TfidfVectorizer, CountVectorizer\n",
        "from sklearn.model_selection import train_test_split\n",
        "\n",
        "### WordCloud Visualization\n",
        "\n",
        "from wordcloud import WordCloud, STOPWORDS\n",
        "import matplotlib.pyplot as plt\n",
        "import seaborn as sns\n",
        "%matplotlib inline\n",
        "\n",
        "text = ', '.join(t for t in movie['Review'])\n",
        "stopwords = set(STOPWORDS)\n",
        "wordcloud = WordCloud(stopwords=stopwords, background_color='white').generate(text)\n",
        "\n",
        "plt.figure(figsize=(10,6))\n",
        "plt.imshow(wordcloud, interpolation='bilinear')\n",
        "plt.axis('off')\n",
        "plt.show()\n",
        "\n",
        "##Sentiment Identification using VADER\n",
        "\n",
        "import nltk\n",
        "nltk.download('vader_lexicon')\n",
        "from nltk.sentiment.vader import SentimentIntensityAnalyzer\n",
        "\n",
        "sid = SentimentIntensityAnalyzer()\n",
        "sentiments = []\n",
        "\n",
        "for review in movie['Review']:\n",
        "    score = sid.polarity_scores(review)['compound']\n",
        "    if score >= 0.05:\n",
        "        sentiments.append('positive')\n",
        "    elif score <= -0.05:\n",
        "        sentiments.append('negative')\n",
        "    else:\n",
        "        sentiments.append('neutral')\n",
        "\n",
        "movie['Sentiment'] = sentiments\n",
        "\n",
        "## Sentiment Classification using Machine Learning\n",
        "\n",
        "movie['class-label'] = movie['Rating'].astype(int).apply(lambda x: '1' if x > 5 else ('-1' if x < 5 else '0'))\n",
        "movie = movie[movie['class-label'] != '0']\n",
        "\n",
        "tfidf_vectorizer = TfidfVectorizer(analyzer='word', stop_words='english')\n",
        "X = tfidf_vectorizer.fit_transform(movie['Review'])\n",
        "y = movie['class-label']\n",
        "\n",
        "X_train, X_test, y_train, y_test = train_test_split(X, y, test_size=0.3, random_state=8)\n",
        "\n",
        "## Train and Evaluate SVM Classifier\n",
        "\n",
        "from sklearn.svm import SVC\n",
        "from sklearn.metrics import classification_report, confusion_matrix, accuracy_score\n",
        "\n",
        "svc = SVC(kernel='sigmoid', gamma=1.0)\n",
        "svc.fit(X_train, y_train)\n",
        "y_pred = svc.predict(X_test)\n",
        "\n",
        "print('Accuracy:', accuracy_score(y_test, y_pred))\n",
        "print('Confusion Matrix:', confusion_matrix(y_test, y_pred))\n",
        "print(classification_report(y_test, y_pred))\n",
        "\n",
        "## Train and Evaluate Decision Tree Classifier\n",
        "\n",
        "from sklearn.tree import DecisionTreeClassifier\n",
        "\n",
        "dtree = DecisionTreeClassifier()\n",
        "dtree.fit(X_train, y_train)\n",
        "y_pred = dtree.predict(X_test)\n",
        "\n",
        "print('Accuracy:', accuracy_score(y_test, y_pred))\n",
        "print('Confusion Matrix:', confusion_matrix(y_test, y_pred))\n",
        "print(classification_report(y_test, y_pred))"
      ],
      "metadata": {
        "id": "zXbOkjMbM4QR"
      },
      "id": "zXbOkjMbM4QR",
      "execution_count": null,
      "outputs": []
    },
    {
      "cell_type": "code",
      "execution_count": null,
      "id": "07af980e-d5af-458e-b787-fe56911b4192",
      "metadata": {
        "id": "07af980e-d5af-458e-b787-fe56911b4192"
      },
      "outputs": [],
      "source": []
    }
  ],
  "metadata": {
    "kernelspec": {
      "display_name": "Python [conda env:base] *",
      "language": "python",
      "name": "conda-base-py"
    },
    "language_info": {
      "codemirror_mode": {
        "name": "ipython",
        "version": 3
      },
      "file_extension": ".py",
      "mimetype": "text/x-python",
      "name": "python",
      "nbconvert_exporter": "python",
      "pygments_lexer": "ipython3",
      "version": "3.12.7"
    },
    "colab": {
      "provenance": [],
      "include_colab_link": true
    }
  },
  "nbformat": 4,
  "nbformat_minor": 5
}