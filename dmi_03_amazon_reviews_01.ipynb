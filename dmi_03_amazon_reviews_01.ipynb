{
  "cells": [
    {
      "cell_type": "markdown",
      "metadata": {
        "id": "view-in-github",
        "colab_type": "text"
      },
      "source": [
        "<a href=\"https://colab.research.google.com/github/sbogde/pandamonium/blob/main/dmi_03_amazon_reviews_01.ipynb\" target=\"_parent\"><img src=\"https://colab.research.google.com/assets/colab-badge.svg\" alt=\"Open In Colab\"/></a>"
      ]
    },
    {
      "cell_type": "code",
      "execution_count": 91,
      "id": "645a916a-e538-4da9-83df-4ac694ae2ce6",
      "metadata": {
        "id": "645a916a-e538-4da9-83df-4ac694ae2ce6"
      },
      "outputs": [],
      "source": [
        "import requests\n",
        "from bs4 import BeautifulSoup\n",
        "import csv\n",
        "import pandas as pd\n",
        "import time\n",
        "import warnings\n",
        "\n",
        "time.sleep(12)\n",
        "warnings.filterwarnings('ignore')"
      ]
    },
    {
      "cell_type": "code",
      "execution_count": 92,
      "id": "45292fb9-3914-4ba8-9f60-afeeb0ad9b11",
      "metadata": {
        "id": "45292fb9-3914-4ba8-9f60-afeeb0ad9b11"
      },
      "outputs": [],
      "source": [
        "## Define URLs for Scraping Amazon Reviews\n",
        "urls = [\n",
        "    'https://www.amazon.co.uk/dp/B0C2PRHCD3',\n",
        "    'https://www.amazon.co.uk/dp/B0CYZH3D7Y',\n",
        "    'https://www.amazon.co.uk/dp/B0D2D66R82',\n",
        "    'https://www.amazon.co.uk/dp/B0DP1YVFQL',\n",
        "    'https://www.amazon.co.uk/dp/B0DK1KK1FM'\n",
        "]"
      ]
    },
    {
      "cell_type": "code",
      "execution_count": null,
      "id": "e129ae12-09d9-497d-91f7-b01bd09473b2",
      "metadata": {
        "colab": {
          "base_uri": "https://localhost:8080/"
        },
        "id": "e129ae12-09d9-497d-91f7-b01bd09473b2",
        "outputId": "edbde9d9-95d8-44cc-cd63-93e950919b86"
      },
      "outputs": [
        {
          "output_type": "stream",
          "name": "stdout",
          "text": [
            "Scraping: https://www.amazon.co.uk/dp/B0C2PRHCD3\n",
            "page: <Response [500]>\n",
            "\n",
            "review_containers: []\n",
            "\n",
            "Scraping: https://www.amazon.co.uk/dp/B0CYZH3D7Y\n",
            "page: <Response [200]>\n",
            "\n",
            "review_containers: [<li class=\"review aok-relative\" data-hook=\"review\" id=\"R25FVAR7A3OHOY\"><span class=\"a-list-item\"><div class=\"a-row a-spacing-none\" id=\"R25FVAR7A3OHOY-review-card\"><div class=\"a-section celwidget\" id=\"customer_review-R25FVAR7A3OHOY\"><script>\n",
            "  var metricsName = \"DesktopCredibleBadgesInTopReviewsDetailPageCount\"\n",
            "</script>\n",
            "<script>\n",
            "      if(window.ue) {\n",
            "        ue.count(metricsName, 0)\n",
            "      }\n",
            "    </script>\n",
            "<div class=\"a-row a-spacing-mini\" data-hook=\"genome-widget\"><a class=\"a-profile\" data-a-size=\"small\" href=\"/gp/profile/amzn1.account.AF34EWNV256KTFA7LWUCSMTALKDA\"><div aria-hidden=\"true\" class=\"a-profile-avatar-wrapper\"><div class=\"a-profile-avatar\"><img class=\"a-lazy-loaded\" data-src=\"https://m.media-amazon.com/images/S/amazon-avatars-global/default.png\" src=\"https://images-na.ssl-images-amazon.com/images/G/01/x-locale/common/grey-pixel.gif\"/><noscript><img src=\"https://m.media-amazon.com/images/S/amazon-avatars-global/default.png\"/></noscript></div></div><div class=\"a-profile-content\"><span class=\"a-profile-name\">Sonia</span></div></a></div><div class=\"a-row\"><h5><a class=\"a-size-base a-link-normal review-title a-color-base review-title-content a-text-bold\" data-hook=\"review-title\" href=\"/gp/customer-reviews/R25FVAR7A3OHOY?ASIN=B0CYZH3D7Y\"><i class=\"a-icon a-icon-star a-star-5 review-rating\" data-hook=\"review-star-rating\"><span class=\"a-icon-alt\">5.0 out of 5 stars</span></i><span class=\"a-letter-space\"></span>\n",
            "<span>Impressive Cleaning Power with Advanced Smart Features!</span>\n",
            "</a></h5></div><span aria-level=\"6\" class=\"a-size-base a-color-secondary review-date\" data-hook=\"review-date\" role=\"heading\">Reviewed in the United Kingdom on 22 February 2025</span><div class=\"a-row a-spacing-mini review-data review-format-strip\"><span class=\"a-color-secondary\" data-hook=\"format-strip-linkless\">Style Name: RoboVac Omni S1 Pro</span><i aria-hidden=\"true\" aria-label=\"|\" class=\"a-icon a-icon-text-separator\" role=\"img\"></i><a aria-label=\"Verified Purchase: Learn more how customers reviews work on Amazon\" class=\"a-link-normal\" href=\"/gp/help/customer/display.html/ref=cm_cr_dp_d_rvw_avp?nodeId=G8UYX7LALQC8V9KA\" rel=\"noopener\" target=\"_blank\"><span class=\"a-size-mini a-color-state a-text-bold\" data-hook=\"avp-badge-linkless\">Verified Purchase</span></a></div><div class=\"a-row a-spacing-small review-data\"><span class=\"a-size-base review-text\" data-hook=\"review-body\"><script>\n",
            "        (function() {\n",
            "            P.when('cr-A', 'ready').execute(function(A) {\n",
            "                if(typeof A.toggleExpanderAriaLabel === 'function') {\n",
            "                    A.toggleExpanderAriaLabel('review_text_read_more', 'Read more of this review', 'Read less of this review');\n",
            "                }\n",
            "            });\n",
            "        })();\n",
            "    </script>\n",
            "<style>\n",
            "        .review-text-read-more-expander:focus-visible {\n",
            "            outline: 2px solid #2162a1;\n",
            "            outline-offset: 2px;\n",
            "            border-radius: 5px;\n",
            "        }\n",
            "    </style>\n",
            "<div class=\"a-expander-collapsed-height a-row a-expander-container a-expander-partial-collapse-container review-text-read-more-expander\" data-a-expander-collapsed-height=\"300\" data-a-expander-name=\"review_text_read_more\" style=\"max-height:300px\"><div class=\"a-expander-content reviewText review-text-content a-expander-partial-collapse-content\" data-expanded=\"false\" data-hook=\"review-collapsed\"><div class=\"a-section a-spacing-small a-spacing-top-mini video-block\" id=\"video-block-R25FVAR7A3OHOY\">\n",
            "<div class=\"cr-video-desktop cr-video-desktop-placeholder\" data-closed-captions=\"en,https://m.media-amazon.com/images/S/vse-vms-closed-captions-artifact-eu-west-1-prod/closedCaptions/4037271e-baa1-4aac-b944-47c4db1dbc65.vtt\" data-review-id=\"R25FVAR7A3OHOY\" data-thumbnail-url=\"https://m.media-amazon.com/images/I/61Mgyj8DZYL._SY256.jpg\" data-video-url=\"https://m.media-amazon.com/images/S/vse-vms-transcoding-artifact-eu-west-1-prod/27c42e47-4cea-47a7-85f1-d908642e1e7b/default.vertical.jobtemplate.hls.m3u8\" id=\"review-video-id-R25FVAR7A3OHOY\">\n",
            "<div class=\"cr-media-status-container\">\n",
            "<span class=\"a-spinner a-spinner-medium cr-media-spinner\"></span>\n",
            "<span class=\"a-color-inverse cr-media-error-msg\">\n",
            "                    The media could not be loaded.\n",
            "                </span>\n",
            "</div>\n",
            "</div>\n",
            "</div><input class=\"video-url\" name=\"\" type=\"hidden\" value=\"https://m.media-amazon.com/images/I/D18uIgbndiL.mp4\"/><input class=\"video-slate-img-url\" name=\"\" type=\"hidden\" value=\"https://m.media-amazon.com/images/I/61Mgyj8DZYL._SY256.jpg\"/>\n",
            "<span>After a week of using the Eufy Omni S1 Pro, I’m already impressed by its performance and smart features. Even in this short time, the robot vacuum has made a noticeable difference in keeping my home spotless.<br><br>Smart Navigation &amp; Efficiency:<br>In just a week, the S1 Pro has shown remarkable intelligence in mapping my home’s layout. It navigates effortlessly around furniture and obstacles, creating an efficient cleaning path that minimizes overlap and ensures every corner is attended to. The setup through the intuitive app was straightforward, allowing me to schedule cleanings and set no-go zones with ease.<br/><br/>Effective Vacuuming &amp; Mopping:<br/>The dual-function cleaning system stands out from the start. The powerful suction picks up dust and debris on various surfaces—whether on hardwood, tile, or rugs—while the mopping function gently tackles sticky spots and spills. Even after just one week, I’ve noticed a visible improvement in the cleanliness of my floors, with the mop ensuring a polished finish without leaving excess water behind.<br/><br/>Smart Home Integration &amp; Quiet Operation:<br/>I’ve appreciated the convenience of integrating the device with my voice assistant, which makes starting or stopping the cleaning cycle a breeze. Moreover, the robot operates quietly, which means I can run it during the day without disrupting my routine.<br/><br/>Battery Life &amp; Self-Docking:<br/>Although I’ve only had it for a week, the battery life and self-docking feature have already proven beneficial. The vacuum returns to its charging station on its own, ensuring it’s always ready for the next cleaning cycle.<br/><br/>Overall, even after just one week, the Eufy Omni S1 Pro has exceeded my expectations with its robust performance, user-friendly interface, and smart features. It’s clear that this is a promising cleaning companion, and I’m excited to see how it continues to perform in the long run. Highly recommended for anyone looking to simplify their cleaning routine!<br/></br></br></br></span>\n",
            "</div><div class=\"a-expander-header a-expander-partial-collapse-header\"><div class=\"a-expander-content-fade\"></div><a aria-expanded=\"false\" aria-label=\"Read more of this review\" class=\"a-declarative\" data-a-expander-toggle='{\"allowLinkDefault\":true, \"expand_prompt\":\"Read more\", \"collapse_prompt\":\"Read less\"}' data-action=\"a-expander-toggle\" data-hook=\"expand-collapse-read-more-less\" href=\"javascript:void(0)\" role=\"button\"><i class=\"a-icon a-icon-extender-expand\"></i><span class=\"a-expander-prompt\">Read more</span></a></div></div></span></div><div class=\"a-row review-comments cr-vote-action-bar\" data-hook=\"review-comments\"><span class=\"cr-vote\" data-hook=\"review-voting-widget\">\n",
            "<div class=\"a-row a-spacing-small\"><span class=\"a-size-base a-color-tertiary cr-vote-text\" data-hook=\"helpful-vote-statement\">One person found this helpful</span></div><!-- Components for Reactions C -->\n",
            "<div class=\"cr-helpful-button aok-float-left\">\n",
            "<span class=\"a-button a-button-base\"><span class=\"a-button-inner\"><a aria-label=\"Mark Review As Helpful\" class=\"a-button-text\" data-hook=\"vote-helpful-button\" href=\"https://www.amazon.co.uk/ap/signin?openid.return_to=https%3A%2F%2Fwww.amazon.co.uk%2Fdp%2FB0CYZH3D7Y%3FcsrfT%3DhHmOzu5S5dMJNK%252B7gF%252FEvuFsOQBtnljM7lt6ZLr043VUAAAAAGfYuT4AAAAB%26reviewId%3DR25FVAR7A3OHOY%23R25FVAR7A3OHOY&amp;openid.identity=http%3A%2F%2Fspecs.openid.net%2Fauth%2F2.0%2Fidentifier_select&amp;openid.assoc_handle=gbflex&amp;openid.mode=checkid_setup&amp;marketPlaceId=A1F83G8C2ARO7P&amp;language=en&amp;openid.claimed_id=http%3A%2F%2Fspecs.openid.net%2Fauth%2F2.0%2Fidentifier_select&amp;openid.ns=http%3A%2F%2Fspecs.openid.net%2Fauth%2F2.0\"><div class=\"cr-helpful-text\">\n",
            "              Helpful</div>\n",
            "</a></span></span></div>\n",
            "</span><span class=\"cr-footer-line-height\">\n",
            "<span><i aria-hidden=\"true\" aria-label=\"|\" class=\"a-icon a-icon-text-separator\" role=\"img\"></i><span class=\"a-declarative\" data-action=\"reviews:report-abusive-review-modal-button\" data-reviews:report-abusive-review-modal-button='{\"closeButton\":\"true\",\"name\":\"report-abusive-review-modal-popover-R25FVAR7A3OHOY\",\"width\":\"350\",\"header\":\"Report this review\",\"url\":\"/hz/reviews-render/report-review?ref=cm_cr_dp_d_report&amp;csrfT=hHmOzu5S5dMJNK%2B7gF%2FEvuFsOQBtnljM7lt6ZLr043VUAAAAAGfYuT4AAAAB&amp;reviewId=R25FVAR7A3OHOY\"}' id=\"report-abusive-review-modal-popover-R25FVAR7A3OHOY\"><a aria-label=\"Report review by Sonia\" class=\"a-size-base a-link-normal a-color-secondary report-abuse-link a-text-normal\" href=\"/hz/reviews-render/report-review?ref=cm_cr_dp_d_report&amp;csrfT=hHmOzu5S5dMJNK%2B7gF%2FEvuFsOQBtnljM7lt6ZLr043VUAAAAAGfYuT4AAAAB&amp;reviewId=R25FVAR7A3OHOY\">Report</a></span></span></span>\n",
            "</div></div></div></span></li>, <li class=\"review aok-relative\" data-hook=\"review\" id=\"R22X7RZRZQVN9W\"><span class=\"a-list-item\"><div class=\"a-row a-spacing-none\" id=\"R22X7RZRZQVN9W-review-card\"><div class=\"a-section celwidget\" id=\"customer_review-R22X7RZRZQVN9W\"><script>\n",
            "  var metricsName = \"DesktopCredibleBadgesInTopReviewsDetailPageCount\"\n",
            "</script>\n",
            "<script>\n",
            "      if(window.ue) {\n",
            "        ue.count(metricsName, 0)\n",
            "      }\n",
            "    </script>\n",
            "<div class=\"a-row a-spacing-mini\" data-hook=\"genome-widget\"><a class=\"a-profile\" data-a-size=\"small\" href=\"/gp/profile/amzn1.account.AGHZOCM2KRVWCSURWI5POPDMPXOQ\"><div aria-hidden=\"true\" class=\"a-profile-avatar-wrapper\"><div class=\"a-profile-avatar\"><img class=\"a-lazy-loaded\" data-src=\"https://m.media-amazon.com/images/S/amazon-avatars-global/192ff8d1-e626-4fc4-ac68-3de8878696fd._CR109%2C0%2C281%2C281_SX460_.jpg\" src=\"https://images-na.ssl-images-amazon.com/images/G/01/x-locale/common/grey-pixel.gif\"/><noscript><img src=\"https://m.media-amazon.com/images/S/amazon-avatars-global/192ff8d1-e626-4fc4-ac68-3de8878696fd._CR109%2C0%2C281%2C281_SX460_.jpg\"/></noscript></div></div><div class=\"a-profile-content\"><span class=\"a-profile-name\">Davy</span></div></a></div><div class=\"a-row\"><h5><a class=\"a-size-base a-link-normal review-title a-color-base review-title-content a-text-bold\" data-hook=\"review-title\" href=\"/gp/customer-reviews/R22X7RZRZQVN9W?ASIN=B0CYZH3D7Y\"><i class=\"a-icon a-icon-star a-star-5 review-rating\" data-hook=\"review-star-rating\"><span class=\"a-icon-alt\">5.0 out of 5 stars</span></i><span class=\"a-letter-space\"></span>\n",
            "<span>Brilliant robovac and mop</span>\n",
            "</a></h5></div><span aria-level=\"6\" class=\"a-size-base a-color-secondary review-date\" data-hook=\"review-date\" role=\"heading\">Reviewed in the United Kingdom on 15 January 2025</span><div class=\"a-row a-spacing-mini review-data review-format-strip\"><span class=\"a-color-secondary\" data-hook=\"format-strip-linkless\">Style Name: RoboVac Omni S1 Pro</span><i aria-hidden=\"true\" aria-label=\"|\" class=\"a-icon a-icon-text-separator\" role=\"img\"></i><a aria-label=\"Verified Purchase: Learn more how customers reviews work on Amazon\" class=\"a-link-normal\" href=\"/gp/help/customer/display.html/ref=cm_cr_dp_d_rvw_avp?nodeId=G8UYX7LALQC8V9KA\" rel=\"noopener\" target=\"_blank\"><span class=\"a-size-mini a-color-state a-text-bold\" data-hook=\"avp-badge-linkless\">Verified Purchase</span></a></div><div class=\"a-row a-spacing-small review-data\"><span class=\"a-size-base review-text\" data-hook=\"review-body\"><div class=\"a-expander-collapsed-height a-row a-expander-container a-expander-partial-collapse-container review-text-read-more-expander\" data-a-expander-collapsed-height=\"300\" data-a-expander-name=\"review_text_read_more\" style=\"max-height:300px\"><div class=\"a-expander-content reviewText review-text-content a-expander-partial-collapse-content\" data-expanded=\"false\" data-hook=\"review-collapsed\">\n",
            "<span>The S1 is an amazing vacuum and mop. Setup is simple, with initial mapping completed in just a few minutes for our entire downstairs. After that add water and it is ready to go. The single pass vacuum and mop cleans our floors quickly. Obstacle avoidance is accurate and the robot has never got stuck. Serving is simple and supported by the app. Our house has never been so clean.<br/>One thing to note - emptying the dust bin from the robot into the base station is loud. We decided to run the robot at 9am every day so not an issue for us but it would be annoying at night.<br/></span>\n",
            "</div><div class=\"a-expander-header a-expander-partial-collapse-header\"><div class=\"a-expander-content-fade\"></div><a aria-expanded=\"false\" aria-label=\"Read more of this review\" class=\"a-declarative\" data-a-expander-toggle='{\"allowLinkDefault\":true, \"expand_prompt\":\"Read more\", \"collapse_prompt\":\"Read less\"}' data-action=\"a-expander-toggle\" data-hook=\"expand-collapse-read-more-less\" href=\"javascript:void(0)\" role=\"button\"><i class=\"a-icon a-icon-extender-expand\"></i><span class=\"a-expander-prompt\">Read more</span></a></div></div></span></div><div class=\"a-row review-comments cr-vote-action-bar\" data-hook=\"review-comments\"><span class=\"cr-vote\" data-hook=\"review-voting-widget\">\n",
            "<div class=\"a-row a-spacing-small\"><span class=\"a-size-base a-color-tertiary cr-vote-text\" data-hook=\"helpful-vote-statement\">3 people found this helpful</span></div><!-- Components for Reactions C -->\n",
            "<div class=\"cr-helpful-button aok-float-left\">\n",
            "<span class=\"a-button a-button-base\"><span class=\"a-button-inner\"><a aria-label=\"Mark Review As Helpful\" class=\"a-button-text\" data-hook=\"vote-helpful-button\" href=\"https://www.amazon.co.uk/ap/signin?openid.return_to=https%3A%2F%2Fwww.amazon.co.uk%2Fdp%2FB0CYZH3D7Y%3FcsrfT%3DhEk0LeKkjPw2ypmptTbyKDvlWLYu%252FuQnmuB1cVYBfqrZAAAAAGfYuT4AAAAB%26reviewId%3DR22X7RZRZQVN9W%23R22X7RZRZQVN9W&amp;openid.identity=http%3A%2F%2Fspecs.openid.net%2Fauth%2F2.0%2Fidentifier_select&amp;openid.assoc_handle=gbflex&amp;openid.mode=checkid_setup&amp;marketPlaceId=A1F83G8C2ARO7P&amp;language=en&amp;openid.claimed_id=http%3A%2F%2Fspecs.openid.net%2Fauth%2F2.0%2Fidentifier_select&amp;openid.ns=http%3A%2F%2Fspecs.openid.net%2Fauth%2F2.0\"><div class=\"cr-helpful-text\">\n",
            "              Helpful</div>\n",
            "</a></span></span></div>\n",
            "</span><span class=\"cr-footer-line-height\">\n",
            "<span><i aria-hidden=\"true\" aria-label=\"|\" class=\"a-icon a-icon-text-separator\" role=\"img\"></i><span class=\"a-declarative\" data-action=\"reviews:report-abusive-review-modal-button\" data-reviews:report-abusive-review-modal-button='{\"closeButton\":\"true\",\"name\":\"report-abusive-review-modal-popover-R22X7RZRZQVN9W\",\"width\":\"350\",\"header\":\"Report this review\",\"url\":\"/hz/reviews-render/report-review?ref=cm_cr_dp_d_report&amp;csrfT=hEk0LeKkjPw2ypmptTbyKDvlWLYu%2FuQnmuB1cVYBfqrZAAAAAGfYuT4AAAAB&amp;reviewId=R22X7RZRZQVN9W\"}' id=\"report-abusive-review-modal-popover-R22X7RZRZQVN9W\"><a aria-label=\"Report review by Davy\" class=\"a-size-base a-link-normal a-color-secondary report-abuse-link a-text-normal\" href=\"/hz/reviews-render/report-review?ref=cm_cr_dp_d_report&amp;csrfT=hEk0LeKkjPw2ypmptTbyKDvlWLYu%2FuQnmuB1cVYBfqrZAAAAAGfYuT4AAAAB&amp;reviewId=R22X7RZRZQVN9W\">Report</a></span></span></span>\n",
            "</div></div></div></span></li>, <li class=\"review aok-relative\" data-hook=\"review\" id=\"R36PCCOUVGO4A8\"><span class=\"a-list-item\"><div class=\"a-row a-spacing-none\" id=\"R36PCCOUVGO4A8-review-card\"><div class=\"a-section celwidget\" id=\"customer_review-R36PCCOUVGO4A8\"><script>\n",
            "  var metricsName = \"DesktopCredibleBadgesInTopReviewsDetailPageCount\"\n",
            "</script>\n",
            "<script>\n",
            "      if(window.ue) {\n",
            "        ue.count(metricsName, 0)\n",
            "      }\n",
            "    </script>\n",
            "<div class=\"a-row a-spacing-mini\" data-hook=\"genome-widget\"><a class=\"a-profile\" data-a-size=\"small\" href=\"/gp/profile/amzn1.account.AHWJ4MDECANFFKPNMYXGKE3SQM7A\"><div aria-hidden=\"true\" class=\"a-profile-avatar-wrapper\"><div class=\"a-profile-avatar\"><img class=\"a-lazy-loaded\" data-src=\"https://m.media-amazon.com/images/S/amazon-avatars-global/450134b6-8dde-4caf-9260-51bc4f9c3d76._CR0%2C0%2C1239%2C1239_SX460_.jpg\" src=\"https://images-na.ssl-images-amazon.com/images/G/01/x-locale/common/grey-pixel.gif\"/><noscript><img src=\"https://m.media-amazon.com/images/S/amazon-avatars-global/450134b6-8dde-4caf-9260-51bc4f9c3d76._CR0%2C0%2C1239%2C1239_SX460_.jpg\"/></noscript></div></div><div class=\"a-profile-content\"><span class=\"a-profile-name\">sugarenriqs</span></div></a></div><div class=\"a-row\"><h5><a class=\"a-size-base a-link-normal review-title a-color-base review-title-content a-text-bold\" data-hook=\"review-title\" href=\"/gp/customer-reviews/R36PCCOUVGO4A8?ASIN=B0CYZH3D7Y\"><i class=\"a-icon a-icon-star a-star-4 review-rating\" data-hook=\"review-star-rating\"><span class=\"a-icon-alt\">4.0 out of 5 stars</span></i><span class=\"a-letter-space\"></span>\n",
            "<span>Great for hardloors but not carpet!</span>\n",
            "</a></h5></div><span aria-level=\"6\" class=\"a-size-base a-color-secondary review-date\" data-hook=\"review-date\" role=\"heading\">Reviewed in the United Kingdom on 4 January 2025</span><div class=\"a-row a-spacing-mini review-data review-format-strip\"><span class=\"a-color-secondary\" data-hook=\"format-strip-linkless\">Style Name: RoboVac Omni S1 Pro</span><i aria-hidden=\"true\" aria-label=\"|\" class=\"a-icon a-icon-text-separator\" role=\"img\"></i><a aria-label=\"Verified Purchase: Learn more how customers reviews work on Amazon\" class=\"a-link-normal\" href=\"/gp/help/customer/display.html/ref=cm_cr_dp_d_rvw_avp?nodeId=G8UYX7LALQC8V9KA\" rel=\"noopener\" target=\"_blank\"><span class=\"a-size-mini a-color-state a-text-bold\" data-hook=\"avp-badge-linkless\">Verified Purchase</span></a></div><div class=\"a-row a-spacing-small review-data\"><span class=\"a-size-base review-text\" data-hook=\"review-body\"><div class=\"a-expander-collapsed-height a-row a-expander-container a-expander-partial-collapse-container review-text-read-more-expander\" data-a-expander-collapsed-height=\"300\" data-a-expander-name=\"review_text_read_more\" style=\"max-height:300px\"><div class=\"a-expander-content reviewText review-text-content a-expander-partial-collapse-content\" data-expanded=\"false\" data-hook=\"review-collapsed\"><div class=\"a-section a-spacing-small a-spacing-top-mini video-block\" id=\"video-block-R36PCCOUVGO4A8\">\n",
            "<div class=\"cr-video-desktop cr-video-desktop-placeholder\" data-closed-captions=\"en,https://m.media-amazon.com/images/S/vse-vms-closed-captions-artifact-eu-west-1-prod/closedCaptions/4f650e14-8855-41c8-a5a1-56086b2b23e8.vtt\" data-review-id=\"R36PCCOUVGO4A8\" data-thumbnail-url=\"https://m.media-amazon.com/images/I/718R6jQC9ML._SY256.jpg\" data-video-url=\"https://m.media-amazon.com/images/S/vse-vms-transcoding-artifact-eu-west-1-prod/e32a25a9-3533-44d4-87b9-a68f22bbbbd3/default.vertical.jobtemplate.hls.m3u8\" id=\"review-video-id-R36PCCOUVGO4A8\">\n",
            "<div class=\"cr-media-status-container\">\n",
            "<span class=\"a-spinner a-spinner-medium cr-media-spinner\"></span>\n",
            "<span class=\"a-color-inverse cr-media-error-msg\">\n",
            "                    The media could not be loaded.\n",
            "                </span>\n",
            "</div>\n",
            "</div>\n",
            "</div><input class=\"video-url\" name=\"\" type=\"hidden\" value=\"https://m.media-amazon.com/images/I/E1RK+qkOiRL.mp4\"/><input class=\"video-slate-img-url\" name=\"\" type=\"hidden\" value=\"https://m.media-amazon.com/images/I/718R6jQC9ML._SY256.jpg\"/>\n",
            "<span>We recently upgraded from our old robot vacuum to the Eufy, and I have to say, it’s been a big improvement for our family of four! The old used to clean randomly and would often get stuck, but the Eufy is way smarter and more efficient.<br/><br/>What I Like:<br/><br/> • Great for Hard Floors: Our entire ground floor is hard flooring, and the Eufy does a fantastic job avoiding toys, cables, and other small obstacles. It rarely gets stuck, which is a huge plus with kids around.<br/><br/> • Easy to Customize: The app is super easy to use and lets us tweak the cleaning settings, like suction or mopping strength. This has been really handy depending on how messy the floors are.<br/><br/> • Helpful Alerts: The vacuum lets us know when it needs attention, like if the water tank needs emptying or if the filter and brush need cleaning. This has saved us a lot of guesswork.<br/><br/>What I Don’t Like:<br/><br/> • Not the Best on Carpets: It works okay on carpets, but it’s not great. It does an alright job in our carpeted bedrooms upstairs, but it’s definitely better on hard floors. Luckily, we mostly use it downstairs where it shines.<br/><br/> • Small Design Quirks: There’s a small gap between the vacuum and walls to avoid bumps, which means it relies on the spinning brush to get dirt in those spots. It’s not a huge deal, but sometimes I notice little bits it misses.<br/><br/>Overall:<br/><br/>For hard floors, the Eufy has been awesome and way better than what we had before. If you’ve got a mix of floors, it might not be the perfect fit, but for us, it works great where we need it. I just hope it lasts a good couple of years!<br/></span>\n",
            "</div><div class=\"a-expander-header a-expander-partial-collapse-header\"><div class=\"a-expander-content-fade\"></div><a aria-expanded=\"false\" aria-label=\"Read more of this review\" class=\"a-declarative\" data-a-expander-toggle='{\"allowLinkDefault\":true, \"expand_prompt\":\"Read more\", \"collapse_prompt\":\"Read less\"}' data-action=\"a-expander-toggle\" data-hook=\"expand-collapse-read-more-less\" href=\"javascript:void(0)\" role=\"button\"><i class=\"a-icon a-icon-extender-expand\"></i><span class=\"a-expander-prompt\">Read more</span></a></div></div></span></div><div class=\"a-row review-comments cr-vote-action-bar\" data-hook=\"review-comments\"><span class=\"cr-vote\" data-hook=\"review-voting-widget\">\n",
            "<div class=\"a-row a-spacing-small\"><span class=\"a-size-base a-color-tertiary cr-vote-text\" data-hook=\"helpful-vote-statement\">7 people found this helpful</span></div><!-- Components for Reactions C -->\n",
            "<div class=\"cr-helpful-button aok-float-left\">\n",
            "<span class=\"a-button a-button-base\"><span class=\"a-button-inner\"><a aria-label=\"Mark Review As Helpful\" class=\"a-button-text\" data-hook=\"vote-helpful-button\" href=\"https://www.amazon.co.uk/ap/signin?openid.return_to=https%3A%2F%2Fwww.amazon.co.uk%2Fdp%2FB0CYZH3D7Y%3FcsrfT%3DhE%252F%252F92tOu18Rnh8Nz1Y3HWIaY1QSNp2%252BT%252BLstqV6R7cyAAAAAGfYuT4AAAAB%26reviewId%3DR36PCCOUVGO4A8%23R36PCCOUVGO4A8&amp;openid.identity=http%3A%2F%2Fspecs.openid.net%2Fauth%2F2.0%2Fidentifier_select&amp;openid.assoc_handle=gbflex&amp;openid.mode=checkid_setup&amp;marketPlaceId=A1F83G8C2ARO7P&amp;language=en&amp;openid.claimed_id=http%3A%2F%2Fspecs.openid.net%2Fauth%2F2.0%2Fidentifier_select&amp;openid.ns=http%3A%2F%2Fspecs.openid.net%2Fauth%2F2.0\"><div class=\"cr-helpful-text\">\n",
            "              Helpful</div>\n",
            "</a></span></span></div>\n",
            "</span><span class=\"cr-footer-line-height\">\n",
            "<span><i aria-hidden=\"true\" aria-label=\"|\" class=\"a-icon a-icon-text-separator\" role=\"img\"></i><span class=\"a-declarative\" data-action=\"reviews:report-abusive-review-modal-button\" data-reviews:report-abusive-review-modal-button='{\"closeButton\":\"true\",\"name\":\"report-abusive-review-modal-popover-R36PCCOUVGO4A8\",\"width\":\"350\",\"header\":\"Report this review\",\"url\":\"/hz/reviews-render/report-review?ref=cm_cr_dp_d_report&amp;csrfT=hE%2F%2F92tOu18Rnh8Nz1Y3HWIaY1QSNp2%2BT%2BLstqV6R7cyAAAAAGfYuT4AAAAB&amp;reviewId=R36PCCOUVGO4A8\"}' id=\"report-abusive-review-modal-popover-R36PCCOUVGO4A8\"><a aria-label=\"Report review by sugarenriqs\" class=\"a-size-base a-link-normal a-color-secondary report-abuse-link a-text-normal\" href=\"/hz/reviews-render/report-review?ref=cm_cr_dp_d_report&amp;csrfT=hE%2F%2F92tOu18Rnh8Nz1Y3HWIaY1QSNp2%2BT%2BLstqV6R7cyAAAAAGfYuT4AAAAB&amp;reviewId=R36PCCOUVGO4A8\">Report</a></span></span></span>\n",
            "</div></div></div></span></li>]\n",
            "\n",
            "rating_element: <span class=\"a-icon-alt\">5.0 out of 5 stars</span>\n",
            "\n",
            "rating: 5.0 out of 5 stars\n",
            "\n",
            "rating_element: <span class=\"a-icon-alt\">5.0 out of 5 stars</span>\n",
            "\n",
            "rating: 5.0 out of 5 stars\n",
            "\n",
            "rating_element: <span class=\"a-icon-alt\">4.0 out of 5 stars</span>\n",
            "\n",
            "rating: 4.0 out of 5 stars\n",
            "\n"
          ]
        }
      ],
      "source": [
        "reviews_list = []\n",
        "ratings_list = []\n",
        "\n",
        "# Iterate over each movie URL\n",
        "for url in urls:\n",
        "    print(f\"Scraping: {url}\")\n",
        "    headers = {'User-Agent': 'Mozilla/5.0'}  # Prevent getting blocked\n",
        "    page = requests.get(url, headers=headers)\n",
        "\n",
        "    print(f\"page: {page}\\n\")\n",
        "    # print(f\"page.content,: {page.content}\\n\")\n",
        "\n",
        "    # Parse the page content\n",
        "    soup = BeautifulSoup(page.content, 'html.parser')\n",
        "\n",
        "    # Find all review containers\n",
        "    review_containers = soup.find_all('li', class_='review aok-relative')\n",
        "    print(f\"review_containers: {review_containers}\\n\")\n",
        "\n",
        "    # Extract review text and rating\n",
        "    for container in review_containers:\n",
        "        # Extract rating\n",
        "        rating_element = container.find('span', class_='a-icon-alt')\n",
        "        print(f\"rating_element: {rating_element}\\n\")\n",
        "\n",
        "        rating = rating_element.get_text(strip=True) if rating_element else \"No Review\"\n",
        "        print(f\"rating: {rating}\\n\")\n",
        "\n",
        "        # Extract review text\n",
        "        review_element = container.find('div', class_='a-expander-content reviewText review-text-content a-expander-partial-collapse-content')\n",
        "        # print(f\"review_element: {review_element}\\n\")\n",
        "\n",
        "        review_text = review_element.get_text(strip=True) if review_element else \"NA\"\n",
        "        # print(f\"review_text: {review_text}\\n\")\n",
        "\n",
        "        # Append to lists\n",
        "        reviews_list.append(review_text)\n",
        "        ratings_list.append(rating)\n",
        "\n",
        "        # print(f\"Review: {review_text[:100]}...\")  # Print preview\n",
        "        # print(f\"Rating: {rating}\\n\")\n",
        "\n",
        "    # Sleep to prevent being blocked\n",
        "    time.sleep(20)\n",
        "\n"
      ]
    },
    {
      "cell_type": "code",
      "execution_count": 94,
      "id": "e1009af5-dd01-408b-b509-c372ecb15740",
      "metadata": {
        "colab": {
          "base_uri": "https://localhost:8080/",
          "height": 141
        },
        "id": "e1009af5-dd01-408b-b509-c372ecb15740",
        "outputId": "7b6a9fd3-dc1b-4386-e247-0d114accd9ea"
      },
      "outputs": [
        {
          "output_type": "error",
          "ename": "IndexError",
          "evalue": "list index out of range",
          "traceback": [
            "\u001b[0;31m---------------------------------------------------------------------------\u001b[0m",
            "\u001b[0;31mIndexError\u001b[0m                                Traceback (most recent call last)",
            "\u001b[0;32m<ipython-input-94-74ccb8e4a29f>\u001b[0m in \u001b[0;36m<cell line: 0>\u001b[0;34m()\u001b[0m\n\u001b[0;32m----> 1\u001b[0;31m \u001b[0mprint\u001b[0m\u001b[0;34m(\u001b[0m\u001b[0mreviews_list\u001b[0m\u001b[0;34m[\u001b[0m\u001b[0;36m1\u001b[0m\u001b[0;34m]\u001b[0m\u001b[0;34m,\u001b[0m \u001b[0;34m\"   \"\u001b[0m\u001b[0;34m,\u001b[0m \u001b[0mratings_list\u001b[0m\u001b[0;34m[\u001b[0m\u001b[0;36m1\u001b[0m\u001b[0;34m]\u001b[0m\u001b[0;34m)\u001b[0m\u001b[0;34m\u001b[0m\u001b[0;34m\u001b[0m\u001b[0m\n\u001b[0m",
            "\u001b[0;31mIndexError\u001b[0m: list index out of range"
          ]
        }
      ],
      "source": [
        "print(reviews_list[1], \"   \", ratings_list[1])"
      ]
    },
    {
      "cell_type": "code",
      "execution_count": null,
      "id": "b30bc6d5-1456-4647-b195-c5c4bdf8309b",
      "metadata": {
        "id": "b30bc6d5-1456-4647-b195-c5c4bdf8309b"
      },
      "outputs": [],
      "source": [
        "movie = pd.DataFrame({'Review': reviews_list, 'Rating': ratings_list})\n",
        "\n",
        "# Save to CSV\n",
        "movie.to_csv('Workshop3_IMDB_Dataset.csv', index=False)\n",
        "\n",
        "# Display first few rows\n",
        "print(movie.head())\n",
        "print(movie.info())"
      ]
    },
    {
      "cell_type": "code",
      "execution_count": null,
      "id": "5b145104-05fc-48e7-8afe-b416e29d8c05",
      "metadata": {
        "id": "5b145104-05fc-48e7-8afe-b416e29d8c05"
      },
      "outputs": [],
      "source": [
        "comments=[\"This is a good film\",\"Interesting film\",\"I do not like film\", \"Such a wonderful movie\",\"very interesting film\",\n",
        "         \"This film is about love story\",\"Do not watch this film\",\"I love this film\", \"I do not know, I feel it is an interesting film\",\n",
        "         \"I like to watch film again\", \"This film is awesome\", \"I recommend watching this film to everyone, enjoy it\"]\n"
      ]
    },
    {
      "cell_type": "code",
      "execution_count": null,
      "id": "e0f604a6-6b85-4873-a133-8f1f67980fce",
      "metadata": {
        "id": "e0f604a6-6b85-4873-a133-8f1f67980fce"
      },
      "outputs": [],
      "source": [
        "from wordcloud import WordCloud, STOPWORDS\n",
        "import matplotlib.pyplot as plt\n",
        "import seaborn as sns\n",
        "%matplotlib inline\n",
        "\n",
        "text = ', '.join(t for t in comments)\n",
        "#print(text)\n",
        "stopwords = set(STOPWORDS)\n",
        "wordcloud = WordCloud(stopwords=stopwords, background_color='white').generate(text)\n",
        "\n",
        "plt.figure(figsize=(10,6))\n",
        "plt.imshow(wordcloud, interpolation='bilinear')\n",
        "plt.axis('off')\n",
        "plt.show()"
      ]
    },
    {
      "cell_type": "code",
      "execution_count": null,
      "id": "432a398b-18f8-4bbb-9106-7f2fed73e8c9",
      "metadata": {
        "id": "432a398b-18f8-4bbb-9106-7f2fed73e8c9"
      },
      "outputs": [],
      "source": [
        "### WordCloud Visualization\n",
        "\n",
        "\n",
        "\n",
        "text = ', '.join(t for t in movie['Review'])\n",
        "stopwords = set(STOPWORDS)\n",
        "wordcloud = WordCloud(stopwords=stopwords, background_color='white').generate(text)\n",
        "\n",
        "plt.figure(figsize=(10,6))\n",
        "plt.imshow(wordcloud, interpolation='bilinear')\n",
        "plt.axis('off')\n",
        "plt.show()"
      ]
    },
    {
      "cell_type": "code",
      "source": [
        "from nltk.sentiment.vader import SentimentIntensityAnalyzer\n",
        "import nltk\n",
        "nltk.download('vader_lexicon')"
      ],
      "metadata": {
        "id": "e0ygS77oGoXx"
      },
      "id": "e0ygS77oGoXx",
      "execution_count": null,
      "outputs": []
    },
    {
      "cell_type": "code",
      "execution_count": null,
      "id": "8a63e87c-8e1d-4da5-b2bb-d397e0f8a5a8",
      "metadata": {
        "id": "8a63e87c-8e1d-4da5-b2bb-d397e0f8a5a8"
      },
      "outputs": [],
      "source": [
        "#https://www.geeksforgeeks.org/python-sentiment-analysis-using-vader/\n",
        "sid_obj = SentimentIntensityAnalyzer()\n",
        "sentiment_dict = sid_obj.polarity_scores(\"It tries to engage the people who are watching it. It tries to suprise people, however, this film is not interesting\")\n",
        "#sentiment_dict = sid_obj.polarity_scores(\"I love this film. It is wonderful!\")\n",
        "#sentiment_dict = sid_obj.polarity_scores(\"I am not sure about this film, no idea!\")\n",
        "print(\"Overall sentiment dictionary is : \", sentiment_dict)\n",
        "print(\"Sentence was rated as \", sentiment_dict['neg']*100, \"% Negative\")\n",
        "print(\"Sentence was rated as \", sentiment_dict['neu']*100, \"% Neutral\")\n",
        "print(\"Sentence was rated as \", sentiment_dict['pos']*100, \"% Positive\")\n",
        "\n",
        "print(\"Sentence Overall Rated As\", end=\" \")\n",
        "\n",
        "    # Decide sentiment as positive, negative, or neutral\n",
        "if sentiment_dict['compound'] >= 0.05 :\n",
        "    print(\"Positive\")\n",
        "elif sentiment_dict['compound'] <= -0.05 :\n",
        "    print(\"Negative\")\n",
        "else :\n",
        "    print(\"Neutral\")"
      ]
    },
    {
      "cell_type": "code",
      "execution_count": null,
      "id": "a56b638f-a932-4833-9778-4d79e1419b81",
      "metadata": {
        "id": "a56b638f-a932-4833-9778-4d79e1419b81"
      },
      "outputs": [],
      "source": [
        "#use this when you have an offline dataset\n",
        "#movie =  pd.read_csv(\"F:\\A-universities\\WLV\\workshop\\Workshop3_IMDB_Dataset.csv\")\n",
        "#print(movie.head())\n",
        "#print(movie.info())"
      ]
    },
    {
      "cell_type": "code",
      "execution_count": null,
      "id": "410f251f-b69f-4da1-806e-1bc3d0165a6f",
      "metadata": {
        "id": "410f251f-b69f-4da1-806e-1bc3d0165a6f"
      },
      "outputs": [],
      "source": [
        "# Convert Rating to string first, then replace non-numeric values safely\n",
        "movie['Rating'] = pd.to_numeric(movie['Rating'], errors='coerce')\n",
        "#NaN represents missing or undefined data\n",
        "# Fill NaN values with a default value (e.g., 0) before converting to integer\n",
        "movie['Rating'] = movie['Rating'].fillna(0).astype(int)\n",
        "\n",
        "### Extract Reviews and Ratings\n",
        "## Text Processing and Analysis\n",
        "### Importing Required Libraries\n",
        "\n",
        "\n"
      ]
    },
    {
      "cell_type": "code",
      "execution_count": null,
      "id": "ac9ebd92-6fa9-4972-8cc1-5a2a2ed4da40",
      "metadata": {
        "id": "ac9ebd92-6fa9-4972-8cc1-5a2a2ed4da40"
      },
      "outputs": [],
      "source": [
        "# content = []\n",
        "# for url in urls:\n",
        "#     page = requests.get(url, timeout=2.50)\n",
        "#     soup = BeautifulSoup(page.content, 'html.parser')\n",
        "#     content.append(soup.find_all('div', class_='review-container'))\n",
        "\n",
        "# Initialize lists to store extracted reviews and ratings\n",
        "# Create DataFrame\n",
        "\n",
        "import string\n",
        "import re\n",
        "from nltk.corpus import stopwords\n",
        "from nltk.stem.porter import PorterStemmer\n",
        "from sklearn.feature_extraction.text import TfidfVectorizer, CountVectorizer\n",
        "from sklearn.model_selection import train_test_split\n",
        "\n",
        "\n",
        "##Sentiment Identification using VADER\n",
        "\n",
        "import nltk\n",
        "nltk.download('vader_lexicon')\n",
        "from nltk.sentiment.vader import SentimentIntensityAnalyzer\n",
        "\n",
        "sid = SentimentIntensityAnalyzer()\n",
        "sentiments = []\n",
        "\n",
        "for review in movie['Review']:\n",
        "    score = sid.polarity_scores(review)['compound']\n",
        "    if score >= 0.05:\n",
        "        sentiments.append('positive')\n",
        "    elif score <= -0.05:\n",
        "        sentiments.append('negative')\n",
        "    else:\n",
        "        sentiments.append('neutral')\n",
        "\n",
        "movie['Sentiment'] = sentiments\n",
        "\n",
        "## Sentiment Classification using Machine Learning\n",
        "\n",
        "movie['class-label'] = movie['Rating'].astype(int).apply(lambda x: '1' if x > 5 else ('-1' if x < 5 else '0'))\n",
        "movie = movie[movie['class-label'] != '0']\n",
        "\n",
        "#movie.to_csv('f:\\myfile1.csv', index=False)\n",
        "#analyzer is used to set the level of processing, it can be a character or a word level, 'word' or 'char'\n",
        "#stop_words can provide you with a list of words that have to be removed from the data before calculations;\n",
        "tfidf_vectorizer = TfidfVectorizer(analyzer='word', stop_words='english')\n",
        "#Once you've created a vectorizer instance, it's time to obtain a TF-IDF matrix.\n",
        "#You can use the fit_transform() class method and shape to print out its dimension:\n",
        "X = tfidf_vectorizer.fit_transform(movie['Review'])\n",
        "#print(f\"Matrix dimension: {tfidf_matrix.shape}\")\n",
        "print(f\"Matrix dimension: {X.shape}\")\n",
        "y = movie['class-label']\n",
        "\n",
        "X_train, X_test, y_train, y_test = train_test_split(X, y, test_size=0.3, random_state=8)\n",
        "\n",
        "## Train and Evaluate SVM Classifier\n",
        "\n"
      ]
    },
    {
      "cell_type": "code",
      "execution_count": null,
      "id": "a375dfae-3d4c-496f-b951-952d7b921bcd",
      "metadata": {
        "id": "a375dfae-3d4c-496f-b951-952d7b921bcd"
      },
      "outputs": [],
      "source": [
        "from sklearn.svm import SVC\n",
        "from sklearn.metrics import classification_report, confusion_matrix, accuracy_score\n",
        "import pandas as pd\n",
        "import numpy as np\n",
        "import matplotlib.pyplot as plt\n",
        "import seaborn as sns\n",
        "from sklearn.model_selection import train_test_split\n",
        "from sklearn.preprocessing import LabelEncoder\n",
        "from sklearn.tree import DecisionTreeClassifier\n",
        "from sklearn.metrics import accuracy_score, confusion_matrix, classification_report, ConfusionMatrixDisplay\n",
        "\n",
        "svc = SVC(kernel='sigmoid', gamma=1.0)\n",
        "svc.fit(X_train, y_train)\n",
        "y_pred = svc.predict(X_test)\n",
        "\n",
        "print('Accuracy:', accuracy_score(y_test, y_pred))\n",
        "\n",
        "# Confusion Matrix\n",
        "conf_matrix = confusion_matrix(y_test, y_pred)\n",
        "disp = ConfusionMatrixDisplay(confusion_matrix=conf_matrix, display_labels=[\"Not Approved\", \"Approved\"])\n",
        "disp.plot(cmap='Blues', values_format='d')\n",
        "plt.title(\"Confusion Matrix\")\n",
        "plt.show()\n",
        "\n",
        "#print('Confusion Matrix:', confusion_matrix(y_test, y_pred))\n",
        "print(classification_report(y_test, y_pred))\n",
        "\n",
        "#How to interprete these metrics?\n",
        "#https://www.statology.org/sklearn-classification-report/"
      ]
    },
    {
      "cell_type": "code",
      "execution_count": null,
      "id": "2a8c04c0-dcfb-499f-81d3-d10b439c4b45",
      "metadata": {
        "id": "2a8c04c0-dcfb-499f-81d3-d10b439c4b45"
      },
      "outputs": [],
      "source": [
        "## Train and Evaluate Decision Tree Classifier\n",
        "\n",
        "from sklearn.tree import DecisionTreeClassifier\n",
        "\n",
        "dtree = DecisionTreeClassifier()\n",
        "dtree.fit(X_train, y_train)\n",
        "y_pred = dtree.predict(X_test)\n",
        "\n",
        "print('Accuracy:', accuracy_score(y_test, y_pred))\n",
        "conf_matrix = confusion_matrix(y_test, y_pred)\n",
        "disp = ConfusionMatrixDisplay(confusion_matrix=conf_matrix, display_labels=[\"Not Approved\", \"Approved\"])\n",
        "disp.plot(cmap='Blues', values_format='d')\n",
        "plt.title(\"Confusion Matrix\")\n",
        "plt.show()\n",
        "\n",
        "#print('Confusion Matrix:', confusion_matrix(y_test, y_pred))\n",
        "print(classification_report(y_test, y_pred))"
      ]
    },
    {
      "cell_type": "code",
      "execution_count": null,
      "id": "f9d76b72-facc-4bd0-ad51-2929dae3b684",
      "metadata": {
        "id": "f9d76b72-facc-4bd0-ad51-2929dae3b684"
      },
      "outputs": [],
      "source": [
        "#https://www.kaggle.com/datasets/columbine/imdb-dataset-sentiment-analysis-in-csv-format\n",
        "#use this when you have an offline dataset\n",
        "# movie1 =  pd.read_csv(\"F:\\A-universities\\WLV\\workshop\\Week 3\\IMDB\\Valid.csv\")\n",
        "\n",
        "if 'google.colab' in str(get_ipython()):\n",
        "    from google.colab import drive, data_table\n",
        "    drive.mount('/content/drive', force_remount=True)\n",
        "    file_path = '/content/drive/My Drive/Colab Notebooks/data-mining/data/Valid.csv'\n",
        "    data_table.enable_dataframe_formatter()\n",
        "else:\n",
        "    file_path = './data/Valid.csv'  # Local path\n",
        "\n",
        "movie1 = pd.read_csv(file_path)\n",
        "\n",
        "print(movie1.head())\n",
        "print(movie.info())"
      ]
    },
    {
      "cell_type": "code",
      "execution_count": null,
      "id": "4c9c0637-2d68-4a90-8ed9-d546aeb53054",
      "metadata": {
        "id": "4c9c0637-2d68-4a90-8ed9-d546aeb53054"
      },
      "outputs": [],
      "source": [
        "from wordcloud import WordCloud, STOPWORDS\n",
        "import matplotlib.pyplot as plt\n",
        "import seaborn as sns\n",
        "%matplotlib inline\n",
        "\n",
        "text = ', '.join(t for t in movie1['text'])\n",
        "stopwords = set(STOPWORDS)\n",
        "wordcloud = WordCloud(stopwords=stopwords, background_color='white').generate(text)\n",
        "\n",
        "plt.figure(figsize=(10,6))\n",
        "plt.imshow(wordcloud, interpolation='bilinear')\n",
        "plt.axis('off')\n",
        "plt.show()"
      ]
    },
    {
      "cell_type": "code",
      "execution_count": null,
      "id": "9a04451e-3bb2-40f3-94d1-a6c4e08ea694",
      "metadata": {
        "id": "9a04451e-3bb2-40f3-94d1-a6c4e08ea694"
      },
      "outputs": [],
      "source": [
        "import string\n",
        "import re\n",
        "from nltk.corpus import stopwords\n",
        "from nltk.stem.porter import PorterStemmer\n",
        "from sklearn.feature_extraction.text import TfidfVectorizer, CountVectorizer\n",
        "from sklearn.model_selection import train_test_split\n",
        "\n",
        "\n",
        "##Sentiment Identification using VADER\n",
        "\n",
        "import nltk\n",
        "nltk.download('vader_lexicon')\n",
        "from nltk.sentiment.vader import SentimentIntensityAnalyzer\n",
        "\n",
        "sid = SentimentIntensityAnalyzer()\n",
        "sentiments = []\n",
        "\n",
        "for review in movie1['text']:\n",
        "    score = sid.polarity_scores(review)['compound']\n",
        "    if score >= 0.05:\n",
        "        sentiments.append('positive')\n",
        "    elif score <= -0.05:\n",
        "        sentiments.append('negative')\n",
        "    else:\n",
        "        sentiments.append('neutral')\n",
        "\n",
        "movie1['Sentiment'] = sentiments\n",
        "\n",
        "## Sentiment Classification using Machine Learning\n",
        "\n",
        "\n",
        "# movie1.to_csv('f:\\myfile1.csv', index=False)\n",
        "#analyzer is used to set the level of processing, it can be a character or a word level, 'word' or 'char'\n",
        "#stop_words can provide you with a list of words that have to be removed from the data before calculations;\n",
        "tfidf_vectorizer = TfidfVectorizer(analyzer='word', stop_words='english')\n",
        "#Once you've created a vectorizer instance, it's time to obtain a TF-IDF matrix.\n",
        "#You can use the fit_transform() class method and shape to print out its dimension:\n",
        "X = tfidf_vectorizer.fit_transform(movie1['text'])\n",
        "#print(f\"Matrix dimension: {tfidf_matrix.shape}\")\n",
        "print(f\"Matrix dimension: {X.shape}\")\n",
        "y = movie1['Sentiment']\n",
        "\n",
        "X_train, X_test, y_train, y_test = train_test_split(X, y, test_size=0.3, random_state=8)\n",
        "\n",
        "## Train and Evaluate SVM Classifier\n",
        "\n"
      ]
    },
    {
      "cell_type": "code",
      "execution_count": null,
      "id": "81629eab-f25d-48ac-bd7e-eb2a7bd7c7cb",
      "metadata": {
        "id": "81629eab-f25d-48ac-bd7e-eb2a7bd7c7cb"
      },
      "outputs": [],
      "source": [
        "from sklearn.svm import SVC\n",
        "from sklearn.metrics import classification_report, confusion_matrix, accuracy_score\n",
        "import pandas as pd\n",
        "import numpy as np\n",
        "import matplotlib.pyplot as plt\n",
        "import seaborn as sns\n",
        "from sklearn.model_selection import train_test_split\n",
        "from sklearn.preprocessing import LabelEncoder\n",
        "from sklearn.tree import DecisionTreeClassifier\n",
        "from sklearn.metrics import accuracy_score, confusion_matrix, classification_report, ConfusionMatrixDisplay\n",
        "\n",
        "svc = SVC(kernel='sigmoid', gamma=1.0)\n",
        "svc.fit(X_train, y_train)\n",
        "y_pred = svc.predict(X_test)\n",
        "\n",
        "print('Accuracy:', accuracy_score(y_test, y_pred))\n",
        "\n",
        "# Confusion Matrix\n",
        "#conf_matrix = confusion_matrix(y_test, y_pred)\n",
        "#disp = ConfusionMatrixDisplay(confusion_matrix=conf_matrix, display_labels=[\"Not Approved\", \"Approved\"])\n",
        "#disp.plot(cmap='Blues', values_format='d')\n",
        "#plt.title(\"Confusion Matrix\")\n",
        "#plt.show()\n",
        "\n",
        "#print('Confusion Matrix:', confusion_matrix(y_test, y_pred))\n",
        "#print(classification_report(y_test, y_pred))\n",
        "\n",
        "#How to interprete these metrics?\n",
        "#https://www.statology.org/sklearn-classification-report/"
      ]
    },
    {
      "cell_type": "code",
      "execution_count": null,
      "id": "0ade0a36-cb2a-4498-a629-1c7638bd1aaa",
      "metadata": {
        "id": "0ade0a36-cb2a-4498-a629-1c7638bd1aaa"
      },
      "outputs": [],
      "source": [
        "\n",
        "movie1['class-label'] = movie1['Sentiment'].apply(lambda x: 1 if x == \"positive\" else  0)\n",
        "count=0\n",
        "for i in range(0,len(set_2)-1):\n",
        "    if set_1[i]==set_2[i]:\n",
        "        count=count+1\n",
        "print(count/len(set_2))"
      ]
    },
    {
      "cell_type": "code",
      "execution_count": null,
      "id": "00480d26-04f2-41a8-87d9-4030e61480cf",
      "metadata": {
        "id": "00480d26-04f2-41a8-87d9-4030e61480cf"
      },
      "outputs": [],
      "source": []
    },
    {
      "cell_type": "code",
      "execution_count": null,
      "id": "851ade62-43af-4b1e-81f7-a75f3d4f62b3",
      "metadata": {
        "id": "851ade62-43af-4b1e-81f7-a75f3d4f62b3"
      },
      "outputs": [],
      "source": []
    }
  ],
  "metadata": {
    "kernelspec": {
      "display_name": "Python 3 (ipykernel)",
      "language": "python",
      "name": "python3"
    },
    "language_info": {
      "codemirror_mode": {
        "name": "ipython",
        "version": 3
      },
      "file_extension": ".py",
      "mimetype": "text/x-python",
      "name": "python",
      "nbconvert_exporter": "python",
      "pygments_lexer": "ipython3",
      "version": "3.12.7"
    },
    "colab": {
      "provenance": [],
      "include_colab_link": true
    }
  },
  "nbformat": 4,
  "nbformat_minor": 5
}