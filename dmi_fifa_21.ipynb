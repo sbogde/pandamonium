{
  "cells": [
    {
      "cell_type": "markdown",
      "metadata": {
        "id": "view-in-github",
        "colab_type": "text"
      },
      "source": [
        "<a href=\"https://colab.research.google.com/github/sbogde/pandamonium/blob/main/dmi_fifa_21.ipynb\" target=\"_parent\"><img src=\"https://colab.research.google.com/assets/colab-badge.svg\" alt=\"Open In Colab\"/></a>"
      ]
    },
    {
      "cell_type": "markdown",
      "metadata": {
        "id": "fd7wn5NrbTTr"
      },
      "source": [
        "# FIFA 21 Player Dataset\n",
        "\n",
        "**Data Source:** This dataset comes from [Kaggle's FIFA 21 complete player dataset](https://www.kaggle.com/datasets/stefanoleone992/fifa-21-complete-player-dataset/data).\n",
        "\n",
        "\n",
        "The dataset contains 100+ attributes like player positions, with the role in the club and in the national team, player attributes with statistics as Attacking, Skills, Defense, Mentality, GK Skills, etc., and player personal data like Nationality, Club, DateOfBirth, Wage, Salary, etc..\n"
      ]
    },
    {
      "cell_type": "code",
      "execution_count": 1,
      "metadata": {
        "id": "BjM1wQzuXKf6"
      },
      "outputs": [],
      "source": [
        "import pandas as pd\n",
        "import numpy as np\n",
        "import time\n",
        "import warnings\n",
        "import matplotlib.pyplot as plt\n",
        "import seaborn as sns\n",
        "\n",
        "from sklearn.cluster import KMeans\n",
        "from sklearn.preprocessing import StandardScaler\n",
        "\n",
        "import folium\n",
        "from folium.plugins import MarkerCluster\n",
        "\n",
        "from geopy.geocoders import Nominatim\n",
        "\n",
        "warnings.filterwarnings('ignore')\n",
        "%matplotlib inline"
      ]
    },
    {
      "cell_type": "code",
      "execution_count": 2,
      "metadata": {
        "colab": {
          "base_uri": "https://localhost:8080/"
        },
        "id": "GyY2rLpVXTd8",
        "outputId": "c3c1be7e-c4ed-48d9-f84c-118a70b76553"
      },
      "outputs": [
        {
          "output_type": "stream",
          "name": "stdout",
          "text": [
            "Mounted at /content/drive\n"
          ]
        }
      ],
      "source": [
        "# Environment-agnostic data loading: Dynamically configure file path for Colab/local compatibility\n",
        "\n",
        "if 'google.colab' in str(get_ipython()):\n",
        "    from google.colab import drive, data_table\n",
        "    drive.mount('/content/drive', force_remount=True)\n",
        "    file_path = '/content/drive/My Drive/Colab Notebooks/data-mining/data/players_21.csv'\n",
        "    data_table.enable_dataframe_formatter()\n",
        "else:\n",
        "    file_path = './data/players_21.csv'  # Local path"
      ]
    },
    {
      "cell_type": "code",
      "execution_count": 3,
      "metadata": {
        "id": "xPG7JD_1X1mS"
      },
      "outputs": [],
      "source": [
        "df = pd.read_csv(file_path)"
      ]
    },
    {
      "cell_type": "code",
      "execution_count": 4,
      "metadata": {
        "colab": {
          "base_uri": "https://localhost:8080/",
          "height": 446
        },
        "id": "wFLoxn-CX9Zq",
        "outputId": "9757e3f5-9e1a-4e2b-db14-da1f33a3e439"
      },
      "outputs": [
        {
          "output_type": "stream",
          "name": "stdout",
          "text": [
            "Warning: Total number of columns (106) exceeds max_columns (20). Falling back to pandas display.\n"
          ]
        },
        {
          "output_type": "execute_result",
          "data": {
            "text/plain": [
              "   sofifa_id                                         player_url  \\\n",
              "0     158023  https://sofifa.com/player/158023/lionel-messi/...   \n",
              "1      20801  https://sofifa.com/player/20801/c-ronaldo-dos-...   \n",
              "2     200389  https://sofifa.com/player/200389/jan-oblak/210002   \n",
              "3     188545  https://sofifa.com/player/188545/robert-lewand...   \n",
              "4     190871  https://sofifa.com/player/190871/neymar-da-sil...   \n",
              "\n",
              "          short_name                            long_name  age         dob  \\\n",
              "0           L. Messi       Lionel Andrés Messi Cuccittini   33  1987-06-24   \n",
              "1  Cristiano Ronaldo  Cristiano Ronaldo dos Santos Aveiro   35  1985-02-05   \n",
              "2           J. Oblak                            Jan Oblak   27  1993-01-07   \n",
              "3     R. Lewandowski                   Robert Lewandowski   31  1988-08-21   \n",
              "4          Neymar Jr        Neymar da Silva Santos Júnior   28  1992-02-05   \n",
              "\n",
              "   height_cm  weight_kg nationality            club_name  ...   lwb   ldm  \\\n",
              "0        170         72   Argentina         FC Barcelona  ...  66+3  65+3   \n",
              "1        187         83    Portugal             Juventus  ...  65+3  61+3   \n",
              "2        188         87    Slovenia      Atlético Madrid  ...  32+3  36+3   \n",
              "3        184         80      Poland    FC Bayern München  ...  64+3  65+3   \n",
              "4        175         68      Brazil  Paris Saint-Germain  ...  67+3  62+3   \n",
              "\n",
              "    cdm   rdm   rwb    lb   lcb    cb   rcb    rb  \n",
              "0  65+3  65+3  66+3  62+3  52+3  52+3  52+3  62+3  \n",
              "1  61+3  61+3  65+3  61+3  54+3  54+3  54+3  61+3  \n",
              "2  36+3  36+3  32+3  32+3  33+3  33+3  33+3  32+3  \n",
              "3  65+3  65+3  64+3  61+3  60+3  60+3  60+3  61+3  \n",
              "4  62+3  62+3  67+3  62+3  49+3  49+3  49+3  62+3  \n",
              "\n",
              "[5 rows x 106 columns]"
            ],
            "text/html": [
              "\n",
              "  <div id=\"df-78b5c6cf-f602-43ac-998c-7ad8fa39ce23\" class=\"colab-df-container\">\n",
              "    <div>\n",
              "<style scoped>\n",
              "    .dataframe tbody tr th:only-of-type {\n",
              "        vertical-align: middle;\n",
              "    }\n",
              "\n",
              "    .dataframe tbody tr th {\n",
              "        vertical-align: top;\n",
              "    }\n",
              "\n",
              "    .dataframe thead th {\n",
              "        text-align: right;\n",
              "    }\n",
              "</style>\n",
              "<table border=\"1\" class=\"dataframe\">\n",
              "  <thead>\n",
              "    <tr style=\"text-align: right;\">\n",
              "      <th></th>\n",
              "      <th>sofifa_id</th>\n",
              "      <th>player_url</th>\n",
              "      <th>short_name</th>\n",
              "      <th>long_name</th>\n",
              "      <th>age</th>\n",
              "      <th>dob</th>\n",
              "      <th>height_cm</th>\n",
              "      <th>weight_kg</th>\n",
              "      <th>nationality</th>\n",
              "      <th>club_name</th>\n",
              "      <th>...</th>\n",
              "      <th>lwb</th>\n",
              "      <th>ldm</th>\n",
              "      <th>cdm</th>\n",
              "      <th>rdm</th>\n",
              "      <th>rwb</th>\n",
              "      <th>lb</th>\n",
              "      <th>lcb</th>\n",
              "      <th>cb</th>\n",
              "      <th>rcb</th>\n",
              "      <th>rb</th>\n",
              "    </tr>\n",
              "  </thead>\n",
              "  <tbody>\n",
              "    <tr>\n",
              "      <th>0</th>\n",
              "      <td>158023</td>\n",
              "      <td>https://sofifa.com/player/158023/lionel-messi/...</td>\n",
              "      <td>L. Messi</td>\n",
              "      <td>Lionel Andrés Messi Cuccittini</td>\n",
              "      <td>33</td>\n",
              "      <td>1987-06-24</td>\n",
              "      <td>170</td>\n",
              "      <td>72</td>\n",
              "      <td>Argentina</td>\n",
              "      <td>FC Barcelona</td>\n",
              "      <td>...</td>\n",
              "      <td>66+3</td>\n",
              "      <td>65+3</td>\n",
              "      <td>65+3</td>\n",
              "      <td>65+3</td>\n",
              "      <td>66+3</td>\n",
              "      <td>62+3</td>\n",
              "      <td>52+3</td>\n",
              "      <td>52+3</td>\n",
              "      <td>52+3</td>\n",
              "      <td>62+3</td>\n",
              "    </tr>\n",
              "    <tr>\n",
              "      <th>1</th>\n",
              "      <td>20801</td>\n",
              "      <td>https://sofifa.com/player/20801/c-ronaldo-dos-...</td>\n",
              "      <td>Cristiano Ronaldo</td>\n",
              "      <td>Cristiano Ronaldo dos Santos Aveiro</td>\n",
              "      <td>35</td>\n",
              "      <td>1985-02-05</td>\n",
              "      <td>187</td>\n",
              "      <td>83</td>\n",
              "      <td>Portugal</td>\n",
              "      <td>Juventus</td>\n",
              "      <td>...</td>\n",
              "      <td>65+3</td>\n",
              "      <td>61+3</td>\n",
              "      <td>61+3</td>\n",
              "      <td>61+3</td>\n",
              "      <td>65+3</td>\n",
              "      <td>61+3</td>\n",
              "      <td>54+3</td>\n",
              "      <td>54+3</td>\n",
              "      <td>54+3</td>\n",
              "      <td>61+3</td>\n",
              "    </tr>\n",
              "    <tr>\n",
              "      <th>2</th>\n",
              "      <td>200389</td>\n",
              "      <td>https://sofifa.com/player/200389/jan-oblak/210002</td>\n",
              "      <td>J. Oblak</td>\n",
              "      <td>Jan Oblak</td>\n",
              "      <td>27</td>\n",
              "      <td>1993-01-07</td>\n",
              "      <td>188</td>\n",
              "      <td>87</td>\n",
              "      <td>Slovenia</td>\n",
              "      <td>Atlético Madrid</td>\n",
              "      <td>...</td>\n",
              "      <td>32+3</td>\n",
              "      <td>36+3</td>\n",
              "      <td>36+3</td>\n",
              "      <td>36+3</td>\n",
              "      <td>32+3</td>\n",
              "      <td>32+3</td>\n",
              "      <td>33+3</td>\n",
              "      <td>33+3</td>\n",
              "      <td>33+3</td>\n",
              "      <td>32+3</td>\n",
              "    </tr>\n",
              "    <tr>\n",
              "      <th>3</th>\n",
              "      <td>188545</td>\n",
              "      <td>https://sofifa.com/player/188545/robert-lewand...</td>\n",
              "      <td>R. Lewandowski</td>\n",
              "      <td>Robert Lewandowski</td>\n",
              "      <td>31</td>\n",
              "      <td>1988-08-21</td>\n",
              "      <td>184</td>\n",
              "      <td>80</td>\n",
              "      <td>Poland</td>\n",
              "      <td>FC Bayern München</td>\n",
              "      <td>...</td>\n",
              "      <td>64+3</td>\n",
              "      <td>65+3</td>\n",
              "      <td>65+3</td>\n",
              "      <td>65+3</td>\n",
              "      <td>64+3</td>\n",
              "      <td>61+3</td>\n",
              "      <td>60+3</td>\n",
              "      <td>60+3</td>\n",
              "      <td>60+3</td>\n",
              "      <td>61+3</td>\n",
              "    </tr>\n",
              "    <tr>\n",
              "      <th>4</th>\n",
              "      <td>190871</td>\n",
              "      <td>https://sofifa.com/player/190871/neymar-da-sil...</td>\n",
              "      <td>Neymar Jr</td>\n",
              "      <td>Neymar da Silva Santos Júnior</td>\n",
              "      <td>28</td>\n",
              "      <td>1992-02-05</td>\n",
              "      <td>175</td>\n",
              "      <td>68</td>\n",
              "      <td>Brazil</td>\n",
              "      <td>Paris Saint-Germain</td>\n",
              "      <td>...</td>\n",
              "      <td>67+3</td>\n",
              "      <td>62+3</td>\n",
              "      <td>62+3</td>\n",
              "      <td>62+3</td>\n",
              "      <td>67+3</td>\n",
              "      <td>62+3</td>\n",
              "      <td>49+3</td>\n",
              "      <td>49+3</td>\n",
              "      <td>49+3</td>\n",
              "      <td>62+3</td>\n",
              "    </tr>\n",
              "  </tbody>\n",
              "</table>\n",
              "<p>5 rows × 106 columns</p>\n",
              "</div>\n",
              "    <div class=\"colab-df-buttons\">\n",
              "\n",
              "  <div class=\"colab-df-container\">\n",
              "    <button class=\"colab-df-convert\" onclick=\"convertToInteractive('df-78b5c6cf-f602-43ac-998c-7ad8fa39ce23')\"\n",
              "            title=\"Convert this dataframe to an interactive table.\"\n",
              "            style=\"display:none;\">\n",
              "\n",
              "  <svg xmlns=\"http://www.w3.org/2000/svg\" height=\"24px\" viewBox=\"0 -960 960 960\">\n",
              "    <path d=\"M120-120v-720h720v720H120Zm60-500h600v-160H180v160Zm220 220h160v-160H400v160Zm0 220h160v-160H400v160ZM180-400h160v-160H180v160Zm440 0h160v-160H620v160ZM180-180h160v-160H180v160Zm440 0h160v-160H620v160Z\"/>\n",
              "  </svg>\n",
              "    </button>\n",
              "\n",
              "  <style>\n",
              "    .colab-df-container {\n",
              "      display:flex;\n",
              "      gap: 12px;\n",
              "    }\n",
              "\n",
              "    .colab-df-convert {\n",
              "      background-color: #E8F0FE;\n",
              "      border: none;\n",
              "      border-radius: 50%;\n",
              "      cursor: pointer;\n",
              "      display: none;\n",
              "      fill: #1967D2;\n",
              "      height: 32px;\n",
              "      padding: 0 0 0 0;\n",
              "      width: 32px;\n",
              "    }\n",
              "\n",
              "    .colab-df-convert:hover {\n",
              "      background-color: #E2EBFA;\n",
              "      box-shadow: 0px 1px 2px rgba(60, 64, 67, 0.3), 0px 1px 3px 1px rgba(60, 64, 67, 0.15);\n",
              "      fill: #174EA6;\n",
              "    }\n",
              "\n",
              "    .colab-df-buttons div {\n",
              "      margin-bottom: 4px;\n",
              "    }\n",
              "\n",
              "    [theme=dark] .colab-df-convert {\n",
              "      background-color: #3B4455;\n",
              "      fill: #D2E3FC;\n",
              "    }\n",
              "\n",
              "    [theme=dark] .colab-df-convert:hover {\n",
              "      background-color: #434B5C;\n",
              "      box-shadow: 0px 1px 3px 1px rgba(0, 0, 0, 0.15);\n",
              "      filter: drop-shadow(0px 1px 2px rgba(0, 0, 0, 0.3));\n",
              "      fill: #FFFFFF;\n",
              "    }\n",
              "  </style>\n",
              "\n",
              "    <script>\n",
              "      const buttonEl =\n",
              "        document.querySelector('#df-78b5c6cf-f602-43ac-998c-7ad8fa39ce23 button.colab-df-convert');\n",
              "      buttonEl.style.display =\n",
              "        google.colab.kernel.accessAllowed ? 'block' : 'none';\n",
              "\n",
              "      async function convertToInteractive(key) {\n",
              "        const element = document.querySelector('#df-78b5c6cf-f602-43ac-998c-7ad8fa39ce23');\n",
              "        const dataTable =\n",
              "          await google.colab.kernel.invokeFunction('convertToInteractive',\n",
              "                                                    [key], {});\n",
              "        if (!dataTable) return;\n",
              "\n",
              "        const docLinkHtml = 'Like what you see? Visit the ' +\n",
              "          '<a target=\"_blank\" href=https://colab.research.google.com/notebooks/data_table.ipynb>data table notebook</a>'\n",
              "          + ' to learn more about interactive tables.';\n",
              "        element.innerHTML = '';\n",
              "        dataTable['output_type'] = 'display_data';\n",
              "        await google.colab.output.renderOutput(dataTable, element);\n",
              "        const docLink = document.createElement('div');\n",
              "        docLink.innerHTML = docLinkHtml;\n",
              "        element.appendChild(docLink);\n",
              "      }\n",
              "    </script>\n",
              "  </div>\n",
              "\n",
              "\n",
              "    <div id=\"df-553a8b9b-829a-4dea-a700-8ed9c0f12f87\">\n",
              "      <button class=\"colab-df-quickchart\" onclick=\"quickchart('df-553a8b9b-829a-4dea-a700-8ed9c0f12f87')\"\n",
              "                title=\"Suggest charts\"\n",
              "                style=\"display:none;\">\n",
              "\n",
              "<svg xmlns=\"http://www.w3.org/2000/svg\" height=\"24px\"viewBox=\"0 0 24 24\"\n",
              "     width=\"24px\">\n",
              "    <g>\n",
              "        <path d=\"M19 3H5c-1.1 0-2 .9-2 2v14c0 1.1.9 2 2 2h14c1.1 0 2-.9 2-2V5c0-1.1-.9-2-2-2zM9 17H7v-7h2v7zm4 0h-2V7h2v10zm4 0h-2v-4h2v4z\"/>\n",
              "    </g>\n",
              "</svg>\n",
              "      </button>\n",
              "\n",
              "<style>\n",
              "  .colab-df-quickchart {\n",
              "      --bg-color: #E8F0FE;\n",
              "      --fill-color: #1967D2;\n",
              "      --hover-bg-color: #E2EBFA;\n",
              "      --hover-fill-color: #174EA6;\n",
              "      --disabled-fill-color: #AAA;\n",
              "      --disabled-bg-color: #DDD;\n",
              "  }\n",
              "\n",
              "  [theme=dark] .colab-df-quickchart {\n",
              "      --bg-color: #3B4455;\n",
              "      --fill-color: #D2E3FC;\n",
              "      --hover-bg-color: #434B5C;\n",
              "      --hover-fill-color: #FFFFFF;\n",
              "      --disabled-bg-color: #3B4455;\n",
              "      --disabled-fill-color: #666;\n",
              "  }\n",
              "\n",
              "  .colab-df-quickchart {\n",
              "    background-color: var(--bg-color);\n",
              "    border: none;\n",
              "    border-radius: 50%;\n",
              "    cursor: pointer;\n",
              "    display: none;\n",
              "    fill: var(--fill-color);\n",
              "    height: 32px;\n",
              "    padding: 0;\n",
              "    width: 32px;\n",
              "  }\n",
              "\n",
              "  .colab-df-quickchart:hover {\n",
              "    background-color: var(--hover-bg-color);\n",
              "    box-shadow: 0 1px 2px rgba(60, 64, 67, 0.3), 0 1px 3px 1px rgba(60, 64, 67, 0.15);\n",
              "    fill: var(--button-hover-fill-color);\n",
              "  }\n",
              "\n",
              "  .colab-df-quickchart-complete:disabled,\n",
              "  .colab-df-quickchart-complete:disabled:hover {\n",
              "    background-color: var(--disabled-bg-color);\n",
              "    fill: var(--disabled-fill-color);\n",
              "    box-shadow: none;\n",
              "  }\n",
              "\n",
              "  .colab-df-spinner {\n",
              "    border: 2px solid var(--fill-color);\n",
              "    border-color: transparent;\n",
              "    border-bottom-color: var(--fill-color);\n",
              "    animation:\n",
              "      spin 1s steps(1) infinite;\n",
              "  }\n",
              "\n",
              "  @keyframes spin {\n",
              "    0% {\n",
              "      border-color: transparent;\n",
              "      border-bottom-color: var(--fill-color);\n",
              "      border-left-color: var(--fill-color);\n",
              "    }\n",
              "    20% {\n",
              "      border-color: transparent;\n",
              "      border-left-color: var(--fill-color);\n",
              "      border-top-color: var(--fill-color);\n",
              "    }\n",
              "    30% {\n",
              "      border-color: transparent;\n",
              "      border-left-color: var(--fill-color);\n",
              "      border-top-color: var(--fill-color);\n",
              "      border-right-color: var(--fill-color);\n",
              "    }\n",
              "    40% {\n",
              "      border-color: transparent;\n",
              "      border-right-color: var(--fill-color);\n",
              "      border-top-color: var(--fill-color);\n",
              "    }\n",
              "    60% {\n",
              "      border-color: transparent;\n",
              "      border-right-color: var(--fill-color);\n",
              "    }\n",
              "    80% {\n",
              "      border-color: transparent;\n",
              "      border-right-color: var(--fill-color);\n",
              "      border-bottom-color: var(--fill-color);\n",
              "    }\n",
              "    90% {\n",
              "      border-color: transparent;\n",
              "      border-bottom-color: var(--fill-color);\n",
              "    }\n",
              "  }\n",
              "</style>\n",
              "\n",
              "      <script>\n",
              "        async function quickchart(key) {\n",
              "          const quickchartButtonEl =\n",
              "            document.querySelector('#' + key + ' button');\n",
              "          quickchartButtonEl.disabled = true;  // To prevent multiple clicks.\n",
              "          quickchartButtonEl.classList.add('colab-df-spinner');\n",
              "          try {\n",
              "            const charts = await google.colab.kernel.invokeFunction(\n",
              "                'suggestCharts', [key], {});\n",
              "          } catch (error) {\n",
              "            console.error('Error during call to suggestCharts:', error);\n",
              "          }\n",
              "          quickchartButtonEl.classList.remove('colab-df-spinner');\n",
              "          quickchartButtonEl.classList.add('colab-df-quickchart-complete');\n",
              "        }\n",
              "        (() => {\n",
              "          let quickchartButtonEl =\n",
              "            document.querySelector('#df-553a8b9b-829a-4dea-a700-8ed9c0f12f87 button');\n",
              "          quickchartButtonEl.style.display =\n",
              "            google.colab.kernel.accessAllowed ? 'block' : 'none';\n",
              "        })();\n",
              "      </script>\n",
              "    </div>\n",
              "\n",
              "    </div>\n",
              "  </div>\n"
            ],
            "application/vnd.google.colaboratory.intrinsic+json": {
              "type": "dataframe",
              "variable_name": "df"
            }
          },
          "metadata": {},
          "execution_count": 4
        }
      ],
      "source": [
        "df.head()"
      ]
    },
    {
      "cell_type": "code",
      "execution_count": 5,
      "metadata": {
        "colab": {
          "base_uri": "https://localhost:8080/"
        },
        "id": "UT6NL5NM1tec",
        "outputId": "5085d752-1759-4b9f-99b4-a1fbd72a2fdb"
      },
      "outputs": [
        {
          "output_type": "stream",
          "name": "stdout",
          "text": [
            "Dataset shape: (18944, 106)\n"
          ]
        }
      ],
      "source": [
        "print(\"Dataset shape:\", df.shape)"
      ]
    },
    {
      "cell_type": "code",
      "execution_count": 6,
      "metadata": {
        "colab": {
          "base_uri": "https://localhost:8080/",
          "height": 458
        },
        "id": "k9xu_tmPl72a",
        "outputId": "fe4b44f4-2503-457d-95c1-cf747e0f855c"
      },
      "outputs": [
        {
          "output_type": "execute_result",
          "data": {
            "text/plain": [
              "sofifa_id     0\n",
              "player_url    0\n",
              "short_name    0\n",
              "long_name     0\n",
              "age           0\n",
              "             ..\n",
              "lb            0\n",
              "lcb           0\n",
              "cb            0\n",
              "rcb           0\n",
              "rb            0\n",
              "Length: 106, dtype: int64"
            ],
            "text/html": [
              "<div>\n",
              "<style scoped>\n",
              "    .dataframe tbody tr th:only-of-type {\n",
              "        vertical-align: middle;\n",
              "    }\n",
              "\n",
              "    .dataframe tbody tr th {\n",
              "        vertical-align: top;\n",
              "    }\n",
              "\n",
              "    .dataframe thead th {\n",
              "        text-align: right;\n",
              "    }\n",
              "</style>\n",
              "<table border=\"1\" class=\"dataframe\">\n",
              "  <thead>\n",
              "    <tr style=\"text-align: right;\">\n",
              "      <th></th>\n",
              "      <th>0</th>\n",
              "    </tr>\n",
              "  </thead>\n",
              "  <tbody>\n",
              "    <tr>\n",
              "      <th>sofifa_id</th>\n",
              "      <td>0</td>\n",
              "    </tr>\n",
              "    <tr>\n",
              "      <th>player_url</th>\n",
              "      <td>0</td>\n",
              "    </tr>\n",
              "    <tr>\n",
              "      <th>short_name</th>\n",
              "      <td>0</td>\n",
              "    </tr>\n",
              "    <tr>\n",
              "      <th>long_name</th>\n",
              "      <td>0</td>\n",
              "    </tr>\n",
              "    <tr>\n",
              "      <th>age</th>\n",
              "      <td>0</td>\n",
              "    </tr>\n",
              "    <tr>\n",
              "      <th>...</th>\n",
              "      <td>...</td>\n",
              "    </tr>\n",
              "    <tr>\n",
              "      <th>lb</th>\n",
              "      <td>0</td>\n",
              "    </tr>\n",
              "    <tr>\n",
              "      <th>lcb</th>\n",
              "      <td>0</td>\n",
              "    </tr>\n",
              "    <tr>\n",
              "      <th>cb</th>\n",
              "      <td>0</td>\n",
              "    </tr>\n",
              "    <tr>\n",
              "      <th>rcb</th>\n",
              "      <td>0</td>\n",
              "    </tr>\n",
              "    <tr>\n",
              "      <th>rb</th>\n",
              "      <td>0</td>\n",
              "    </tr>\n",
              "  </tbody>\n",
              "</table>\n",
              "<p>106 rows × 1 columns</p>\n",
              "</div><br><label><b>dtype:</b> int64</label>"
            ]
          },
          "metadata": {},
          "execution_count": 6
        }
      ],
      "source": [
        "df.isnull().sum()"
      ]
    },
    {
      "cell_type": "code",
      "execution_count": 7,
      "metadata": {
        "colab": {
          "base_uri": "https://localhost:8080/",
          "height": 429
        },
        "id": "7hNUzNrSmgbM",
        "outputId": "ce4f6ed2-c2dc-43b5-eac7-6b5612bc70b4"
      },
      "outputs": [
        {
          "output_type": "execute_result",
          "data": {
            "text/plain": [
              "overall                0\n",
              "potential              0\n",
              "value_eur              0\n",
              "wage_eur               0\n",
              "player_positions       0\n",
              "pace                2083\n",
              "shooting            2083\n",
              "passing             2083\n",
              "dribbling           2083\n",
              "defending           2083\n",
              "physic              2083\n",
              "dtype: int64"
            ],
            "text/html": [
              "<div>\n",
              "<style scoped>\n",
              "    .dataframe tbody tr th:only-of-type {\n",
              "        vertical-align: middle;\n",
              "    }\n",
              "\n",
              "    .dataframe tbody tr th {\n",
              "        vertical-align: top;\n",
              "    }\n",
              "\n",
              "    .dataframe thead th {\n",
              "        text-align: right;\n",
              "    }\n",
              "</style>\n",
              "<table border=\"1\" class=\"dataframe\">\n",
              "  <thead>\n",
              "    <tr style=\"text-align: right;\">\n",
              "      <th></th>\n",
              "      <th>0</th>\n",
              "    </tr>\n",
              "  </thead>\n",
              "  <tbody>\n",
              "    <tr>\n",
              "      <th>overall</th>\n",
              "      <td>0</td>\n",
              "    </tr>\n",
              "    <tr>\n",
              "      <th>potential</th>\n",
              "      <td>0</td>\n",
              "    </tr>\n",
              "    <tr>\n",
              "      <th>value_eur</th>\n",
              "      <td>0</td>\n",
              "    </tr>\n",
              "    <tr>\n",
              "      <th>wage_eur</th>\n",
              "      <td>0</td>\n",
              "    </tr>\n",
              "    <tr>\n",
              "      <th>player_positions</th>\n",
              "      <td>0</td>\n",
              "    </tr>\n",
              "    <tr>\n",
              "      <th>pace</th>\n",
              "      <td>2083</td>\n",
              "    </tr>\n",
              "    <tr>\n",
              "      <th>shooting</th>\n",
              "      <td>2083</td>\n",
              "    </tr>\n",
              "    <tr>\n",
              "      <th>passing</th>\n",
              "      <td>2083</td>\n",
              "    </tr>\n",
              "    <tr>\n",
              "      <th>dribbling</th>\n",
              "      <td>2083</td>\n",
              "    </tr>\n",
              "    <tr>\n",
              "      <th>defending</th>\n",
              "      <td>2083</td>\n",
              "    </tr>\n",
              "    <tr>\n",
              "      <th>physic</th>\n",
              "      <td>2083</td>\n",
              "    </tr>\n",
              "  </tbody>\n",
              "</table>\n",
              "</div><br><label><b>dtype:</b> int64</label>"
            ]
          },
          "metadata": {},
          "execution_count": 7
        }
      ],
      "source": [
        "# Define key performance-related columns for filtering and analysis\n",
        "key_columns = [\n",
        "    'overall', 'potential', 'value_eur', 'wage_eur', 'player_positions',\n",
        "    'pace', 'shooting', 'passing', 'dribbling', 'defending', 'physic'\n",
        "]\n",
        "df[key_columns].isnull().sum()"
      ]
    },
    {
      "cell_type": "code",
      "execution_count": 8,
      "metadata": {
        "id": "PYgoSVd5scvs"
      },
      "outputs": [],
      "source": [
        "# Remove goalkeepers for classification and clustering tasks\n",
        "df = df[~df['player_positions'].str.contains('GK')]"
      ]
    },
    {
      "cell_type": "code",
      "execution_count": 9,
      "metadata": {
        "colab": {
          "base_uri": "https://localhost:8080/"
        },
        "id": "8ZseqeF_m9dn",
        "outputId": "a1f507c0-adc4-4dd7-844f-fd260e715bd8"
      },
      "outputs": [
        {
          "output_type": "execute_result",
          "data": {
            "text/plain": [
              "(16860, 106)"
            ]
          },
          "metadata": {},
          "execution_count": 9
        }
      ],
      "source": [
        "# Drop rows that contain missing values in any of the key analysis columns.\n",
        "# This creates our clean, final dataset (df_cleaned) which will be used\n",
        "# for all subsequent modelling and exploration tasks. Goalkeepers have\n",
        "# already been removed, and the data is now limited to outfield players\n",
        "# with complete data across key metrics like pace, shooting, and value.\n",
        "\n",
        "# df_cleaned = df.dropna(subset=key_columns)\n",
        "df_cleaned = df.dropna(subset=key_columns).copy()\n",
        "\n",
        "df_cleaned.shape"
      ]
    },
    {
      "cell_type": "code",
      "execution_count": 10,
      "metadata": {
        "colab": {
          "base_uri": "https://localhost:8080/"
        },
        "id": "kxrNR4cSsym_",
        "outputId": "9505d461-d05a-4d41-9809-415c9493f804"
      },
      "outputs": [
        {
          "output_type": "execute_result",
          "data": {
            "text/plain": [
              "(16860, 108)"
            ]
          },
          "metadata": {},
          "execution_count": 10
        }
      ],
      "source": [
        "# Feature engineering: Calculate Body Mass Index (BMI) and extract primary player position\n",
        "df_cleaned['BMI'] = df_cleaned['weight_kg'] / ((df_cleaned['height_cm'] / 100) ** 2)\n",
        "df_cleaned['main_position'] = df_cleaned['player_positions'].apply(lambda x: x.split(',')[0].strip())\n",
        "df_cleaned.shape"
      ]
    },
    {
      "cell_type": "code",
      "execution_count": 11,
      "metadata": {
        "colab": {
          "base_uri": "https://localhost:8080/"
        },
        "id": "K6Pt0Znzvk3b",
        "outputId": "5f16cc1c-520c-42bb-b8cb-a3cb7d4a91cc"
      },
      "outputs": [
        {
          "output_type": "execute_result",
          "data": {
            "text/plain": [
              "(16860, 109)"
            ]
          },
          "metadata": {},
          "execution_count": 11
        }
      ],
      "source": [
        "# Encode player positions as numerical labels for classification tasks\n",
        "from sklearn.preprocessing import LabelEncoder\n",
        "le = LabelEncoder()\n",
        "df_cleaned['position_label'] = le.fit_transform(df_cleaned['main_position'])\n",
        "df_cleaned.shape"
      ]
    },
    {
      "cell_type": "code",
      "execution_count": 12,
      "metadata": {
        "colab": {
          "base_uri": "https://localhost:8080/"
        },
        "id": "85md5Rgy1Ybu",
        "outputId": "bac9cc29-49d6-4433-fb2c-430a5efb4c44"
      },
      "outputs": [
        {
          "output_type": "stream",
          "name": "stdout",
          "text": [
            "Position label mapping:\n",
            " {'CAM': np.int64(0), 'CB': np.int64(1), 'CDM': np.int64(2), 'CF': np.int64(3), 'CM': np.int64(4), 'LB': np.int64(5), 'LM': np.int64(6), 'LW': np.int64(7), 'LWB': np.int64(8), 'RB': np.int64(9), 'RM': np.int64(10), 'RW': np.int64(11), 'RWB': np.int64(12), 'ST': np.int64(13)}\n"
          ]
        }
      ],
      "source": [
        "# Show mapping of labels\n",
        "position_mapping = dict(zip(le.classes_, le.transform(le.classes_)))\n",
        "print(\"Position label mapping:\\n\", position_mapping)"
      ]
    },
    {
      "cell_type": "code",
      "execution_count": 13,
      "metadata": {
        "id": "y7F7Up2b3dc8"
      },
      "outputs": [],
      "source": [
        "import pandas as pd\n",
        "from sklearn.tree import DecisionTreeClassifier\n",
        "from sklearn.model_selection import train_test_split\n",
        "from sklearn.metrics import accuracy_score, classification_report\n",
        "from sklearn.model_selection import GridSearchCV\n"
      ]
    },
    {
      "cell_type": "code",
      "source": [
        "# Define features and target\n",
        "# features = ['age', 'height_cm', 'weight_kg', 'pace', 'shooting', 'passing',\n",
        "#             'dribbling', 'defending', 'physic', 'BMI']\n",
        "# X = df_cleaned[features]\n",
        "# y = df_cleaned['main_position']\n",
        "\n",
        "# # Train-test split\n",
        "# X_train, X_test, y_train, y_test = train_test_split(X, y, test_size=0.2, random_state=42)\n",
        "\n",
        "# # Define model and grid\n",
        "# clf = DecisionTreeClassifier(random_state=42)\n",
        "# param_grid = {\n",
        "#     'max_depth': range(5, 20),\n",
        "#     'min_samples_split': [2, 5, 10, 15],\n",
        "#     'min_samples_leaf': [1, 2, 5, 10],\n",
        "#     'criterion': ['gini', 'entropy']\n",
        "# }\n",
        "\n",
        "# # Grid search\n",
        "# grid_search = GridSearchCV(clf, param_grid, cv=5, scoring='accuracy', n_jobs=-1)\n",
        "# grid_search.fit(X_train, y_train)\n",
        "\n",
        "# print(\"Best parameters:\", grid_search.best_params_)\n",
        "# print(\"Best accuracy (CV):\", grid_search.best_score_)\n",
        "\n",
        "# Best parameters: {'criterion': 'entropy', 'max_depth': 9, 'min_samples_leaf': 5, 'min_samples_split': 15}\n",
        "# Best accuracy (CV): 0.5383318862102222"
      ],
      "metadata": {
        "id": "SvtVAYmQMLUY"
      },
      "execution_count": 14,
      "outputs": []
    },
    {
      "cell_type": "code",
      "source": [
        "features = ['age', 'height_cm', 'weight_kg', 'pace', 'shooting', 'passing',\n",
        "            'dribbling', 'defending', 'physic', 'BMI']\n",
        "X = df_cleaned[features]\n",
        "y = df_cleaned['main_position']\n",
        "\n",
        "# Split data\n",
        "X_train, X_test, y_train, y_test = train_test_split(X, y, test_size=0.2, random_state=42)\n",
        "\n",
        "# Decision Tree Classifier\n",
        "# 0.55130\n",
        "clf = DecisionTreeClassifier(criterion='entropy', max_depth=9, min_samples_leaf=5, min_samples_split=15, random_state=42)\n",
        "\n",
        "clf.fit(X_train, y_train)\n",
        "\n",
        "# Predict and evaluate\n",
        "y_pred = clf.predict(X_test)\n",
        "print(\"Accuracy:\", accuracy_score(y_test, y_pred))\n",
        "print(\"Classification Report:\", classification_report(y_test, y_pred))\n"
      ],
      "metadata": {
        "colab": {
          "base_uri": "https://localhost:8080/"
        },
        "id": "lrsncEMaQqyb",
        "outputId": "b5b12397-cd17-4bfe-e863-262c0fa36c76"
      },
      "execution_count": 15,
      "outputs": [
        {
          "output_type": "stream",
          "name": "stdout",
          "text": [
            "Accuracy: 0.5513048635824437\n",
            "Classification Report:               precision    recall  f1-score   support\n",
            "\n",
            "         CAM       0.38      0.43      0.40       209\n",
            "          CB       0.82      0.84      0.83       670\n",
            "         CDM       0.38      0.51      0.44       318\n",
            "          CF       0.00      0.00      0.00        22\n",
            "          CM       0.55      0.65      0.59       461\n",
            "          LB       0.35      0.28      0.31       287\n",
            "          LM       0.32      0.35      0.33       219\n",
            "          LW       0.18      0.02      0.04        89\n",
            "         LWB       0.00      0.00      0.00        25\n",
            "          RB       0.41      0.39      0.40       268\n",
            "          RM       0.28      0.18      0.22       212\n",
            "          RW       0.26      0.09      0.14        76\n",
            "         RWB       0.00      0.00      0.00        19\n",
            "          ST       0.75      0.88      0.81       497\n",
            "\n",
            "    accuracy                           0.55      3372\n",
            "   macro avg       0.33      0.33      0.32      3372\n",
            "weighted avg       0.52      0.55      0.53      3372\n",
            "\n"
          ]
        }
      ]
    },
    {
      "cell_type": "code",
      "execution_count": 16,
      "metadata": {
        "id": "NFxgHgL75yJV"
      },
      "outputs": [],
      "source": [
        "\n",
        "# features = ['age', 'height_cm', 'weight_kg', 'pace', 'shooting', 'passing', 'dribbling', 'defending', 'physic']\n",
        "# df = df.dropna(subset=features + ['player_positions'])  # Clean missing values\n",
        "\n",
        "# X = df[features]\n",
        "# y = df['player_positions'].apply(lambda x: x.split(\",\")[0])  # Primary position only\n",
        "\n",
        "# # Split data\n",
        "# X_train, X_test, y_train, y_test = train_test_split(X, y, test_size=0.2, random_state=42)\n",
        "\n",
        "# # Define the model\n",
        "# clf = DecisionTreeClassifier(random_state=42)\n",
        "\n",
        "# # Define parameter grid\n",
        "# param_grid = {\n",
        "#     'max_depth': range(5, 20),\n",
        "#     'min_samples_split': [2, 5, 10, 15],\n",
        "#     'min_samples_leaf': [1, 2, 5, 10],\n",
        "#     'criterion': ['gini', 'entropy']\n",
        "# }\n",
        "\n",
        "# # Grid Search\n",
        "# grid_search = GridSearchCV(clf, param_grid, cv=5, scoring='accuracy', n_jobs=-1)\n",
        "# grid_search.fit(X_train, y_train)\n",
        "\n",
        "# print(\"Best parameters:\", grid_search.best_params_)\n",
        "# print(\"Best accuracy:\", grid_search.best_score_)\n",
        "\n",
        "# Best parameters: {'criterion': 'entropy', 'max_depth': 9, 'min_samples_leaf': 10, 'min_samples_split': 2}\n",
        "# Best accuracy: 0.5461150447756107"
      ]
    },
    {
      "cell_type": "code",
      "execution_count": 17,
      "metadata": {
        "colab": {
          "base_uri": "https://localhost:8080/"
        },
        "id": "UpqS4ZHs5sWE",
        "outputId": "24c46f1f-40e1-411e-eae0-9fe156d80ecd"
      },
      "outputs": [
        {
          "output_type": "stream",
          "name": "stdout",
          "text": [
            "Accuracy: 0.5542704626334519\n",
            "Classification Report:               precision    recall  f1-score   support\n",
            "\n",
            "         CAM       0.38      0.43      0.40       209\n",
            "          CB       0.83      0.85      0.84       670\n",
            "         CDM       0.40      0.53      0.45       318\n",
            "          CF       0.00      0.00      0.00        22\n",
            "          CM       0.55      0.63      0.59       461\n",
            "          LB       0.35      0.29      0.31       287\n",
            "          LM       0.32      0.35      0.33       219\n",
            "          LW       0.00      0.00      0.00        89\n",
            "         LWB       0.00      0.00      0.00        25\n",
            "          RB       0.42      0.41      0.41       268\n",
            "          RM       0.28      0.18      0.22       212\n",
            "          RW       0.19      0.07      0.10        76\n",
            "         RWB       0.00      0.00      0.00        19\n",
            "          ST       0.74      0.88      0.80       497\n",
            "\n",
            "    accuracy                           0.55      3372\n",
            "   macro avg       0.32      0.33      0.32      3372\n",
            "weighted avg       0.52      0.55      0.53      3372\n",
            "\n"
          ]
        }
      ],
      "source": [
        "\n",
        "\n",
        "# Select features and target\n",
        "features = ['age', 'height_cm', 'weight_kg', 'pace', 'shooting', 'passing', 'dribbling', 'defending', 'physic']\n",
        "df = df.dropna(subset=features + ['player_positions'])  # Clean missing values\n",
        "\n",
        "X = df[features]\n",
        "y = df['player_positions'].apply(lambda x: x.split(\",\")[0])  # Primary position only\n",
        "\n",
        "# Split data\n",
        "X_train, X_test, y_train, y_test = train_test_split(X, y, test_size=0.2, random_state=42)\n",
        "\n",
        "# Decision Tree Classifier\n",
        "# clf = DecisionTreeClassifier(max_depth=4, random_state=42) # 0.4533\n",
        "# clf = DecisionTreeClassifier(max_depth=5, random_state=42) # 0.4909\n",
        "# clf = DecisionTreeClassifier(max_depth=6, random_state=42) # 0.5161\n",
        "# clf = DecisionTreeClassifier(max_depth=7, random_state=42) # 0.5375\n",
        "# clf = DecisionTreeClassifier(max_depth=11, random_state=42) # 0.5383\n",
        "# clf = DecisionTreeClassifier(max_depth=15, random_state=42) # 0.4951\n",
        "\n",
        "# 0.5517\n",
        "clf = DecisionTreeClassifier(criterion='entropy', max_depth=9, min_samples_leaf=10, min_samples_split=2, random_state=42) # 0.4951\n",
        "\n",
        "clf.fit(X_train, y_train)\n",
        "\n",
        "# Predict and evaluate\n",
        "y_pred = clf.predict(X_test)\n",
        "print(\"Accuracy:\", accuracy_score(y_test, y_pred))\n",
        "print(\"Classification Report:\", classification_report(y_test, y_pred))\n"
      ]
    },
    {
      "cell_type": "code",
      "source": [
        "# import matplotlib.pyplot as plt\n",
        "# import seaborn as sns\n",
        "\n",
        "# Data to plot\n",
        "scenarios = [\n",
        "    'Original df (GridSearchCV CV Score)',\n",
        "    'Original df (Test Accuracy)',\n",
        "    'Cleaned df_cleaned (GridSearchCV CV Score)',\n",
        "    'Cleaned df_cleaned (Test Accuracy)'\n",
        "]\n",
        "accuracies = [0.5461, 0.5542, 0.5383, 0.5513]\n",
        "\n",
        "# Plot\n",
        "plt.figure(figsize=(10, 6))\n",
        "sns.barplot(x=accuracies, y=scenarios, palette=\"viridis\")\n",
        "plt.xlabel('Accuracy')\n",
        "plt.title('Comparison of Decision Tree Accuracies (Original vs Cleaned Data)')\n",
        "plt.xlim(0.5, 0.57)  # Focus zoom on the range where our accuracies are\n",
        "plt.grid(axis='x', linestyle='--', alpha=0.7)\n",
        "plt.show()"
      ],
      "metadata": {
        "colab": {
          "base_uri": "https://localhost:8080/",
          "height": 478
        },
        "id": "GSEDaQ62xUwz",
        "outputId": "36400d3b-3edf-40df-801c-22f63d385dac"
      },
      "execution_count": 18,
      "outputs": [
        {
          "output_type": "display_data",
          "data": {
            "text/plain": [
              "<Figure size 1000x600 with 1 Axes>"
            ],
            "image/png": "[encoded data removed]"
          },
          "metadata": {}
        }
      ]
    },
    {
      "cell_type": "code",
      "execution_count": 19,
      "metadata": {
        "colab": {
          "base_uri": "https://localhost:8080/",
          "height": 489
        },
        "id": "kOpE9ee95CV5",
        "outputId": "79373463-c7f3-43d8-8ca5-ec1bfdb53551"
      },
      "outputs": [
        {
          "output_type": "stream",
          "name": "stdout",
          "text": [
            "Dataset shape: (18944, 106)\n"
          ]
        },
        {
          "output_type": "display_data",
          "data": {
            "text/plain": [
              "<Figure size 640x480 with 1 Axes>"
            ],
            "image/png": "[encoded data removed]"
          },
          "metadata": {}
        }
      ],
      "source": [
        "df = pd.read_csv(file_path)\n",
        "print(\"Dataset shape:\", df.shape)\n",
        "\n",
        "# Select numeric features for clustering\n",
        "features = ['age', 'overall', 'potential', 'value_eur', 'wage_eur']\n",
        "df = df.dropna(subset=features)\n",
        "\n",
        "X = df[features]\n",
        "\n",
        "# Normalize features\n",
        "scaler = StandardScaler()\n",
        "X_scaled = scaler.fit_transform(X)\n",
        "\n",
        "# Apply K-Means\n",
        "kmeans = KMeans(n_clusters=5, random_state=42, n_init=10)\n",
        "df['Cluster'] = kmeans.fit_predict(X_scaled)\n",
        "\n",
        "# Visualize clusters\n",
        "plt.scatter(df['overall'], df['value_eur'], c=df['Cluster'], cmap='viridis')\n",
        "plt.xlabel('Overall Rating')\n",
        "plt.ylabel('Market Value (EUR)')\n",
        "plt.title('Player Clusters by Rating and Market Value')\n",
        "plt.show()\n"
      ]
    }
  ],
  "metadata": {
    "colab": {
      "provenance": [],
      "authorship_tag": "ABX9TyO9Rye6qwlWkxQ72xaxbq3c",
      "include_colab_link": true
    },
    "kernelspec": {
      "display_name": "Python 3",
      "name": "python3"
    },
    "language_info": {
      "name": "python"
    }
  },
  "nbformat": 4,
  "nbformat_minor": 0
}