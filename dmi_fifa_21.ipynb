{
  "cells": [
    {
      "cell_type": "markdown",
      "metadata": {
        "id": "view-in-github",
        "colab_type": "text"
      },
      "source": [
        "<a href=\"https://colab.research.google.com/github/sbogde/pandamonium/blob/main/dmi_fifa_21.ipynb\" target=\"_parent\"><img src=\"https://colab.research.google.com/assets/colab-badge.svg\" alt=\"Open In Colab\"/></a>"
      ]
    },
    {
      "cell_type": "markdown",
      "metadata": {
        "id": "fd7wn5NrbTTr"
      },
      "source": [
        "# FIFA 21 Player Dataset\n",
        "\n",
        "**Data Source:** This dataset comes from [Kaggle's FIFA 21 complete player dataset](https://www.kaggle.com/datasets/stefanoleone992/fifa-21-complete-player-dataset/data).\n",
        "\n",
        "\n",
        "The dataset contains 100+ attributes like player positions, with the role in the club and in the national team, player attributes with statistics as Attacking, Skills, Defense, Mentality, GK Skills, etc., and player personal data like Nationality, Club, DateOfBirth, Wage, Salary, etc..\n"
      ]
    },
    {
      "cell_type": "code",
      "execution_count": 1,
      "metadata": {
        "id": "BjM1wQzuXKf6"
      },
      "outputs": [],
      "source": [
        "import pandas as pd\n",
        "import numpy as np\n",
        "import time\n",
        "import warnings\n",
        "import matplotlib.pyplot as plt\n",
        "import seaborn as sns\n",
        "\n",
        "from sklearn.cluster import KMeans\n",
        "from sklearn.preprocessing import StandardScaler\n",
        "\n",
        "import folium\n",
        "from folium.plugins import MarkerCluster\n",
        "\n",
        "from geopy.geocoders import Nominatim\n",
        "\n",
        "warnings.filterwarnings('ignore')\n",
        "%matplotlib inline"
      ]
    },
    {
      "cell_type": "code",
      "execution_count": 2,
      "metadata": {
        "colab": {
          "base_uri": "https://localhost:8080/"
        },
        "id": "GyY2rLpVXTd8",
        "outputId": "987af416-3048-4b1b-ea89-c475a6305631"
      },
      "outputs": [
        {
          "output_type": "stream",
          "name": "stdout",
          "text": [
            "Mounted at /content/drive\n"
          ]
        }
      ],
      "source": [
        "# Environment-agnostic data loading: Dynamically configure file path for Colab/local compatibility\n",
        "\n",
        "if 'google.colab' in str(get_ipython()):\n",
        "    from google.colab import drive, data_table\n",
        "    drive.mount('/content/drive', force_remount=True)\n",
        "    file_path = '/content/drive/My Drive/Colab Notebooks/data-mining/data/players_21.csv'\n",
        "    html_path = '/content/drive/My Drive/Colab Notebooks/data-mining/fifa_clusters_map.html'\n",
        "    csv_path = '/content/drive/My Drive/Colab Notebooks/data-mining/data/country_coordinates.csv'\n",
        "    data_table.enable_dataframe_formatter()\n",
        "else:\n",
        "    file_path = './data/players_21.csv'  # Local path\n",
        "    html_path = './fifa_clusters_map.html'\n",
        "    csv_path = './data/country_coordinates.csv'"
      ]
    },
    {
      "cell_type": "code",
      "execution_count": 3,
      "metadata": {
        "id": "xPG7JD_1X1mS"
      },
      "outputs": [],
      "source": [
        "df = pd.read_csv(file_path)"
      ]
    },
    {
      "cell_type": "code",
      "execution_count": 4,
      "metadata": {
        "colab": {
          "base_uri": "https://localhost:8080/",
          "height": 446
        },
        "id": "wFLoxn-CX9Zq",
        "outputId": "d831deb5-a547-4dc4-e891-ac05336726bf"
      },
      "outputs": [
        {
          "output_type": "stream",
          "name": "stdout",
          "text": [
            "Warning: Total number of columns (106) exceeds max_columns (20). Falling back to pandas display.\n"
          ]
        },
        {
          "output_type": "execute_result",
          "data": {
            "text/plain": [
              "   sofifa_id                                         player_url  \\\n",
              "0     158023  https://sofifa.com/player/158023/lionel-messi/...   \n",
              "1      20801  https://sofifa.com/player/20801/c-ronaldo-dos-...   \n",
              "2     200389  https://sofifa.com/player/200389/jan-oblak/210002   \n",
              "3     188545  https://sofifa.com/player/188545/robert-lewand...   \n",
              "4     190871  https://sofifa.com/player/190871/neymar-da-sil...   \n",
              "\n",
              "          short_name                            long_name  age         dob  \\\n",
              "0           L. Messi       Lionel Andrés Messi Cuccittini   33  1987-06-24   \n",
              "1  Cristiano Ronaldo  Cristiano Ronaldo dos Santos Aveiro   35  1985-02-05   \n",
              "2           J. Oblak                            Jan Oblak   27  1993-01-07   \n",
              "3     R. Lewandowski                   Robert Lewandowski   31  1988-08-21   \n",
              "4          Neymar Jr        Neymar da Silva Santos Júnior   28  1992-02-05   \n",
              "\n",
              "   height_cm  weight_kg nationality            club_name  ...   lwb   ldm  \\\n",
              "0        170         72   Argentina         FC Barcelona  ...  66+3  65+3   \n",
              "1        187         83    Portugal             Juventus  ...  65+3  61+3   \n",
              "2        188         87    Slovenia      Atlético Madrid  ...  32+3  36+3   \n",
              "3        184         80      Poland    FC Bayern München  ...  64+3  65+3   \n",
              "4        175         68      Brazil  Paris Saint-Germain  ...  67+3  62+3   \n",
              "\n",
              "    cdm   rdm   rwb    lb   lcb    cb   rcb    rb  \n",
              "0  65+3  65+3  66+3  62+3  52+3  52+3  52+3  62+3  \n",
              "1  61+3  61+3  65+3  61+3  54+3  54+3  54+3  61+3  \n",
              "2  36+3  36+3  32+3  32+3  33+3  33+3  33+3  32+3  \n",
              "3  65+3  65+3  64+3  61+3  60+3  60+3  60+3  61+3  \n",
              "4  62+3  62+3  67+3  62+3  49+3  49+3  49+3  62+3  \n",
              "\n",
              "[5 rows x 106 columns]"
            ],
            "text/html": [
              "\n",
              "  <div id=\"df-ab61f176-0fe4-4bd3-9cfc-1f3a926b096e\" class=\"colab-df-container\">\n",
              "    <div>\n",
              "<style scoped>\n",
              "    .dataframe tbody tr th:only-of-type {\n",
              "        vertical-align: middle;\n",
              "    }\n",
              "\n",
              "    .dataframe tbody tr th {\n",
              "        vertical-align: top;\n",
              "    }\n",
              "\n",
              "    .dataframe thead th {\n",
              "        text-align: right;\n",
              "    }\n",
              "</style>\n",
              "<table border=\"1\" class=\"dataframe\">\n",
              "  <thead>\n",
              "    <tr style=\"text-align: right;\">\n",
              "      <th></th>\n",
              "      <th>sofifa_id</th>\n",
              "      <th>player_url</th>\n",
              "      <th>short_name</th>\n",
              "      <th>long_name</th>\n",
              "      <th>age</th>\n",
              "      <th>dob</th>\n",
              "      <th>height_cm</th>\n",
              "      <th>weight_kg</th>\n",
              "      <th>nationality</th>\n",
              "      <th>club_name</th>\n",
              "      <th>...</th>\n",
              "      <th>lwb</th>\n",
              "      <th>ldm</th>\n",
              "      <th>cdm</th>\n",
              "      <th>rdm</th>\n",
              "      <th>rwb</th>\n",
              "      <th>lb</th>\n",
              "      <th>lcb</th>\n",
              "      <th>cb</th>\n",
              "      <th>rcb</th>\n",
              "      <th>rb</th>\n",
              "    </tr>\n",
              "  </thead>\n",
              "  <tbody>\n",
              "    <tr>\n",
              "      <th>0</th>\n",
              "      <td>158023</td>\n",
              "      <td>https://sofifa.com/player/158023/lionel-messi/...</td>\n",
              "      <td>L. Messi</td>\n",
              "      <td>Lionel Andrés Messi Cuccittini</td>\n",
              "      <td>33</td>\n",
              "      <td>1987-06-24</td>\n",
              "      <td>170</td>\n",
              "      <td>72</td>\n",
              "      <td>Argentina</td>\n",
              "      <td>FC Barcelona</td>\n",
              "      <td>...</td>\n",
              "      <td>66+3</td>\n",
              "      <td>65+3</td>\n",
              "      <td>65+3</td>\n",
              "      <td>65+3</td>\n",
              "      <td>66+3</td>\n",
              "      <td>62+3</td>\n",
              "      <td>52+3</td>\n",
              "      <td>52+3</td>\n",
              "      <td>52+3</td>\n",
              "      <td>62+3</td>\n",
              "    </tr>\n",
              "    <tr>\n",
              "      <th>1</th>\n",
              "      <td>20801</td>\n",
              "      <td>https://sofifa.com/player/20801/c-ronaldo-dos-...</td>\n",
              "      <td>Cristiano Ronaldo</td>\n",
              "      <td>Cristiano Ronaldo dos Santos Aveiro</td>\n",
              "      <td>35</td>\n",
              "      <td>1985-02-05</td>\n",
              "      <td>187</td>\n",
              "      <td>83</td>\n",
              "      <td>Portugal</td>\n",
              "      <td>Juventus</td>\n",
              "      <td>...</td>\n",
              "      <td>65+3</td>\n",
              "      <td>61+3</td>\n",
              "      <td>61+3</td>\n",
              "      <td>61+3</td>\n",
              "      <td>65+3</td>\n",
              "      <td>61+3</td>\n",
              "      <td>54+3</td>\n",
              "      <td>54+3</td>\n",
              "      <td>54+3</td>\n",
              "      <td>61+3</td>\n",
              "    </tr>\n",
              "    <tr>\n",
              "      <th>2</th>\n",
              "      <td>200389</td>\n",
              "      <td>https://sofifa.com/player/200389/jan-oblak/210002</td>\n",
              "      <td>J. Oblak</td>\n",
              "      <td>Jan Oblak</td>\n",
              "      <td>27</td>\n",
              "      <td>1993-01-07</td>\n",
              "      <td>188</td>\n",
              "      <td>87</td>\n",
              "      <td>Slovenia</td>\n",
              "      <td>Atlético Madrid</td>\n",
              "      <td>...</td>\n",
              "      <td>32+3</td>\n",
              "      <td>36+3</td>\n",
              "      <td>36+3</td>\n",
              "      <td>36+3</td>\n",
              "      <td>32+3</td>\n",
              "      <td>32+3</td>\n",
              "      <td>33+3</td>\n",
              "      <td>33+3</td>\n",
              "      <td>33+3</td>\n",
              "      <td>32+3</td>\n",
              "    </tr>\n",
              "    <tr>\n",
              "      <th>3</th>\n",
              "      <td>188545</td>\n",
              "      <td>https://sofifa.com/player/188545/robert-lewand...</td>\n",
              "      <td>R. Lewandowski</td>\n",
              "      <td>Robert Lewandowski</td>\n",
              "      <td>31</td>\n",
              "      <td>1988-08-21</td>\n",
              "      <td>184</td>\n",
              "      <td>80</td>\n",
              "      <td>Poland</td>\n",
              "      <td>FC Bayern München</td>\n",
              "      <td>...</td>\n",
              "      <td>64+3</td>\n",
              "      <td>65+3</td>\n",
              "      <td>65+3</td>\n",
              "      <td>65+3</td>\n",
              "      <td>64+3</td>\n",
              "      <td>61+3</td>\n",
              "      <td>60+3</td>\n",
              "      <td>60+3</td>\n",
              "      <td>60+3</td>\n",
              "      <td>61+3</td>\n",
              "    </tr>\n",
              "    <tr>\n",
              "      <th>4</th>\n",
              "      <td>190871</td>\n",
              "      <td>https://sofifa.com/player/190871/neymar-da-sil...</td>\n",
              "      <td>Neymar Jr</td>\n",
              "      <td>Neymar da Silva Santos Júnior</td>\n",
              "      <td>28</td>\n",
              "      <td>1992-02-05</td>\n",
              "      <td>175</td>\n",
              "      <td>68</td>\n",
              "      <td>Brazil</td>\n",
              "      <td>Paris Saint-Germain</td>\n",
              "      <td>...</td>\n",
              "      <td>67+3</td>\n",
              "      <td>62+3</td>\n",
              "      <td>62+3</td>\n",
              "      <td>62+3</td>\n",
              "      <td>67+3</td>\n",
              "      <td>62+3</td>\n",
              "      <td>49+3</td>\n",
              "      <td>49+3</td>\n",
              "      <td>49+3</td>\n",
              "      <td>62+3</td>\n",
              "    </tr>\n",
              "  </tbody>\n",
              "</table>\n",
              "<p>5 rows × 106 columns</p>\n",
              "</div>\n",
              "    <div class=\"colab-df-buttons\">\n",
              "\n",
              "  <div class=\"colab-df-container\">\n",
              "    <button class=\"colab-df-convert\" onclick=\"convertToInteractive('df-ab61f176-0fe4-4bd3-9cfc-1f3a926b096e')\"\n",
              "            title=\"Convert this dataframe to an interactive table.\"\n",
              "            style=\"display:none;\">\n",
              "\n",
              "  <svg xmlns=\"http://www.w3.org/2000/svg\" height=\"24px\" viewBox=\"0 -960 960 960\">\n",
              "    <path d=\"M120-120v-720h720v720H120Zm60-500h600v-160H180v160Zm220 220h160v-160H400v160Zm0 220h160v-160H400v160ZM180-400h160v-160H180v160Zm440 0h160v-160H620v160ZM180-180h160v-160H180v160Zm440 0h160v-160H620v160Z\"/>\n",
              "  </svg>\n",
              "    </button>\n",
              "\n",
              "  <style>\n",
              "    .colab-df-container {\n",
              "      display:flex;\n",
              "      gap: 12px;\n",
              "    }\n",
              "\n",
              "    .colab-df-convert {\n",
              "      background-color: #E8F0FE;\n",
              "      border: none;\n",
              "      border-radius: 50%;\n",
              "      cursor: pointer;\n",
              "      display: none;\n",
              "      fill: #1967D2;\n",
              "      height: 32px;\n",
              "      padding: 0 0 0 0;\n",
              "      width: 32px;\n",
              "    }\n",
              "\n",
              "    .colab-df-convert:hover {\n",
              "      background-color: #E2EBFA;\n",
              "      box-shadow: 0px 1px 2px rgba(60, 64, 67, 0.3), 0px 1px 3px 1px rgba(60, 64, 67, 0.15);\n",
              "      fill: #174EA6;\n",
              "    }\n",
              "\n",
              "    .colab-df-buttons div {\n",
              "      margin-bottom: 4px;\n",
              "    }\n",
              "\n",
              "    [theme=dark] .colab-df-convert {\n",
              "      background-color: #3B4455;\n",
              "      fill: #D2E3FC;\n",
              "    }\n",
              "\n",
              "    [theme=dark] .colab-df-convert:hover {\n",
              "      background-color: #434B5C;\n",
              "      box-shadow: 0px 1px 3px 1px rgba(0, 0, 0, 0.15);\n",
              "      filter: drop-shadow(0px 1px 2px rgba(0, 0, 0, 0.3));\n",
              "      fill: #FFFFFF;\n",
              "    }\n",
              "  </style>\n",
              "\n",
              "    <script>\n",
              "      const buttonEl =\n",
              "        document.querySelector('#df-ab61f176-0fe4-4bd3-9cfc-1f3a926b096e button.colab-df-convert');\n",
              "      buttonEl.style.display =\n",
              "        google.colab.kernel.accessAllowed ? 'block' : 'none';\n",
              "\n",
              "      async function convertToInteractive(key) {\n",
              "        const element = document.querySelector('#df-ab61f176-0fe4-4bd3-9cfc-1f3a926b096e');\n",
              "        const dataTable =\n",
              "          await google.colab.kernel.invokeFunction('convertToInteractive',\n",
              "                                                    [key], {});\n",
              "        if (!dataTable) return;\n",
              "\n",
              "        const docLinkHtml = 'Like what you see? Visit the ' +\n",
              "          '<a target=\"_blank\" href=https://colab.research.google.com/notebooks/data_table.ipynb>data table notebook</a>'\n",
              "          + ' to learn more about interactive tables.';\n",
              "        element.innerHTML = '';\n",
              "        dataTable['output_type'] = 'display_data';\n",
              "        await google.colab.output.renderOutput(dataTable, element);\n",
              "        const docLink = document.createElement('div');\n",
              "        docLink.innerHTML = docLinkHtml;\n",
              "        element.appendChild(docLink);\n",
              "      }\n",
              "    </script>\n",
              "  </div>\n",
              "\n",
              "\n",
              "    <div id=\"df-7f05e70c-f601-49c9-bb00-ac9a177be98d\">\n",
              "      <button class=\"colab-df-quickchart\" onclick=\"quickchart('df-7f05e70c-f601-49c9-bb00-ac9a177be98d')\"\n",
              "                title=\"Suggest charts\"\n",
              "                style=\"display:none;\">\n",
              "\n",
              "<svg xmlns=\"http://www.w3.org/2000/svg\" height=\"24px\"viewBox=\"0 0 24 24\"\n",
              "     width=\"24px\">\n",
              "    <g>\n",
              "        <path d=\"M19 3H5c-1.1 0-2 .9-2 2v14c0 1.1.9 2 2 2h14c1.1 0 2-.9 2-2V5c0-1.1-.9-2-2-2zM9 17H7v-7h2v7zm4 0h-2V7h2v10zm4 0h-2v-4h2v4z\"/>\n",
              "    </g>\n",
              "</svg>\n",
              "      </button>\n",
              "\n",
              "<style>\n",
              "  .colab-df-quickchart {\n",
              "      --bg-color: #E8F0FE;\n",
              "      --fill-color: #1967D2;\n",
              "      --hover-bg-color: #E2EBFA;\n",
              "      --hover-fill-color: #174EA6;\n",
              "      --disabled-fill-color: #AAA;\n",
              "      --disabled-bg-color: #DDD;\n",
              "  }\n",
              "\n",
              "  [theme=dark] .colab-df-quickchart {\n",
              "      --bg-color: #3B4455;\n",
              "      --fill-color: #D2E3FC;\n",
              "      --hover-bg-color: #434B5C;\n",
              "      --hover-fill-color: #FFFFFF;\n",
              "      --disabled-bg-color: #3B4455;\n",
              "      --disabled-fill-color: #666;\n",
              "  }\n",
              "\n",
              "  .colab-df-quickchart {\n",
              "    background-color: var(--bg-color);\n",
              "    border: none;\n",
              "    border-radius: 50%;\n",
              "    cursor: pointer;\n",
              "    display: none;\n",
              "    fill: var(--fill-color);\n",
              "    height: 32px;\n",
              "    padding: 0;\n",
              "    width: 32px;\n",
              "  }\n",
              "\n",
              "  .colab-df-quickchart:hover {\n",
              "    background-color: var(--hover-bg-color);\n",
              "    box-shadow: 0 1px 2px rgba(60, 64, 67, 0.3), 0 1px 3px 1px rgba(60, 64, 67, 0.15);\n",
              "    fill: var(--button-hover-fill-color);\n",
              "  }\n",
              "\n",
              "  .colab-df-quickchart-complete:disabled,\n",
              "  .colab-df-quickchart-complete:disabled:hover {\n",
              "    background-color: var(--disabled-bg-color);\n",
              "    fill: var(--disabled-fill-color);\n",
              "    box-shadow: none;\n",
              "  }\n",
              "\n",
              "  .colab-df-spinner {\n",
              "    border: 2px solid var(--fill-color);\n",
              "    border-color: transparent;\n",
              "    border-bottom-color: var(--fill-color);\n",
              "    animation:\n",
              "      spin 1s steps(1) infinite;\n",
              "  }\n",
              "\n",
              "  @keyframes spin {\n",
              "    0% {\n",
              "      border-color: transparent;\n",
              "      border-bottom-color: var(--fill-color);\n",
              "      border-left-color: var(--fill-color);\n",
              "    }\n",
              "    20% {\n",
              "      border-color: transparent;\n",
              "      border-left-color: var(--fill-color);\n",
              "      border-top-color: var(--fill-color);\n",
              "    }\n",
              "    30% {\n",
              "      border-color: transparent;\n",
              "      border-left-color: var(--fill-color);\n",
              "      border-top-color: var(--fill-color);\n",
              "      border-right-color: var(--fill-color);\n",
              "    }\n",
              "    40% {\n",
              "      border-color: transparent;\n",
              "      border-right-color: var(--fill-color);\n",
              "      border-top-color: var(--fill-color);\n",
              "    }\n",
              "    60% {\n",
              "      border-color: transparent;\n",
              "      border-right-color: var(--fill-color);\n",
              "    }\n",
              "    80% {\n",
              "      border-color: transparent;\n",
              "      border-right-color: var(--fill-color);\n",
              "      border-bottom-color: var(--fill-color);\n",
              "    }\n",
              "    90% {\n",
              "      border-color: transparent;\n",
              "      border-bottom-color: var(--fill-color);\n",
              "    }\n",
              "  }\n",
              "</style>\n",
              "\n",
              "      <script>\n",
              "        async function quickchart(key) {\n",
              "          const quickchartButtonEl =\n",
              "            document.querySelector('#' + key + ' button');\n",
              "          quickchartButtonEl.disabled = true;  // To prevent multiple clicks.\n",
              "          quickchartButtonEl.classList.add('colab-df-spinner');\n",
              "          try {\n",
              "            const charts = await google.colab.kernel.invokeFunction(\n",
              "                'suggestCharts', [key], {});\n",
              "          } catch (error) {\n",
              "            console.error('Error during call to suggestCharts:', error);\n",
              "          }\n",
              "          quickchartButtonEl.classList.remove('colab-df-spinner');\n",
              "          quickchartButtonEl.classList.add('colab-df-quickchart-complete');\n",
              "        }\n",
              "        (() => {\n",
              "          let quickchartButtonEl =\n",
              "            document.querySelector('#df-7f05e70c-f601-49c9-bb00-ac9a177be98d button');\n",
              "          quickchartButtonEl.style.display =\n",
              "            google.colab.kernel.accessAllowed ? 'block' : 'none';\n",
              "        })();\n",
              "      </script>\n",
              "    </div>\n",
              "\n",
              "    </div>\n",
              "  </div>\n"
            ],
            "application/vnd.google.colaboratory.intrinsic+json": {
              "type": "dataframe",
              "variable_name": "df"
            }
          },
          "metadata": {},
          "execution_count": 4
        }
      ],
      "source": [
        "df.head()"
      ]
    },
    {
      "cell_type": "code",
      "execution_count": 5,
      "metadata": {
        "colab": {
          "base_uri": "https://localhost:8080/"
        },
        "id": "UT6NL5NM1tec",
        "outputId": "c6fa3513-9d03-434b-d5b2-967f9095ec24"
      },
      "outputs": [
        {
          "output_type": "stream",
          "name": "stdout",
          "text": [
            "Dataset shape: (18944, 106)\n"
          ]
        }
      ],
      "source": [
        "print(\"Dataset shape:\", df.shape)"
      ]
    },
    {
      "cell_type": "code",
      "execution_count": 6,
      "metadata": {
        "colab": {
          "base_uri": "https://localhost:8080/",
          "height": 458
        },
        "id": "k9xu_tmPl72a",
        "outputId": "447cc407-73db-414b-86d1-b89641891d38"
      },
      "outputs": [
        {
          "output_type": "execute_result",
          "data": {
            "text/plain": [
              "sofifa_id     0\n",
              "player_url    0\n",
              "short_name    0\n",
              "long_name     0\n",
              "age           0\n",
              "             ..\n",
              "lb            0\n",
              "lcb           0\n",
              "cb            0\n",
              "rcb           0\n",
              "rb            0\n",
              "Length: 106, dtype: int64"
            ],
            "text/html": [
              "<div>\n",
              "<style scoped>\n",
              "    .dataframe tbody tr th:only-of-type {\n",
              "        vertical-align: middle;\n",
              "    }\n",
              "\n",
              "    .dataframe tbody tr th {\n",
              "        vertical-align: top;\n",
              "    }\n",
              "\n",
              "    .dataframe thead th {\n",
              "        text-align: right;\n",
              "    }\n",
              "</style>\n",
              "<table border=\"1\" class=\"dataframe\">\n",
              "  <thead>\n",
              "    <tr style=\"text-align: right;\">\n",
              "      <th></th>\n",
              "      <th>0</th>\n",
              "    </tr>\n",
              "  </thead>\n",
              "  <tbody>\n",
              "    <tr>\n",
              "      <th>sofifa_id</th>\n",
              "      <td>0</td>\n",
              "    </tr>\n",
              "    <tr>\n",
              "      <th>player_url</th>\n",
              "      <td>0</td>\n",
              "    </tr>\n",
              "    <tr>\n",
              "      <th>short_name</th>\n",
              "      <td>0</td>\n",
              "    </tr>\n",
              "    <tr>\n",
              "      <th>long_name</th>\n",
              "      <td>0</td>\n",
              "    </tr>\n",
              "    <tr>\n",
              "      <th>age</th>\n",
              "      <td>0</td>\n",
              "    </tr>\n",
              "    <tr>\n",
              "      <th>...</th>\n",
              "      <td>...</td>\n",
              "    </tr>\n",
              "    <tr>\n",
              "      <th>lb</th>\n",
              "      <td>0</td>\n",
              "    </tr>\n",
              "    <tr>\n",
              "      <th>lcb</th>\n",
              "      <td>0</td>\n",
              "    </tr>\n",
              "    <tr>\n",
              "      <th>cb</th>\n",
              "      <td>0</td>\n",
              "    </tr>\n",
              "    <tr>\n",
              "      <th>rcb</th>\n",
              "      <td>0</td>\n",
              "    </tr>\n",
              "    <tr>\n",
              "      <th>rb</th>\n",
              "      <td>0</td>\n",
              "    </tr>\n",
              "  </tbody>\n",
              "</table>\n",
              "<p>106 rows × 1 columns</p>\n",
              "</div><br><label><b>dtype:</b> int64</label>"
            ]
          },
          "metadata": {},
          "execution_count": 6
        }
      ],
      "source": [
        "df.isnull().sum()"
      ]
    },
    {
      "cell_type": "code",
      "execution_count": 7,
      "metadata": {
        "colab": {
          "base_uri": "https://localhost:8080/",
          "height": 429
        },
        "id": "7hNUzNrSmgbM",
        "outputId": "c81854a3-be15-47ce-ad64-8afc9e34ce7e"
      },
      "outputs": [
        {
          "output_type": "execute_result",
          "data": {
            "text/plain": [
              "overall                0\n",
              "potential              0\n",
              "value_eur              0\n",
              "wage_eur               0\n",
              "player_positions       0\n",
              "pace                2083\n",
              "shooting            2083\n",
              "passing             2083\n",
              "dribbling           2083\n",
              "defending           2083\n",
              "physic              2083\n",
              "dtype: int64"
            ],
            "text/html": [
              "<div>\n",
              "<style scoped>\n",
              "    .dataframe tbody tr th:only-of-type {\n",
              "        vertical-align: middle;\n",
              "    }\n",
              "\n",
              "    .dataframe tbody tr th {\n",
              "        vertical-align: top;\n",
              "    }\n",
              "\n",
              "    .dataframe thead th {\n",
              "        text-align: right;\n",
              "    }\n",
              "</style>\n",
              "<table border=\"1\" class=\"dataframe\">\n",
              "  <thead>\n",
              "    <tr style=\"text-align: right;\">\n",
              "      <th></th>\n",
              "      <th>0</th>\n",
              "    </tr>\n",
              "  </thead>\n",
              "  <tbody>\n",
              "    <tr>\n",
              "      <th>overall</th>\n",
              "      <td>0</td>\n",
              "    </tr>\n",
              "    <tr>\n",
              "      <th>potential</th>\n",
              "      <td>0</td>\n",
              "    </tr>\n",
              "    <tr>\n",
              "      <th>value_eur</th>\n",
              "      <td>0</td>\n",
              "    </tr>\n",
              "    <tr>\n",
              "      <th>wage_eur</th>\n",
              "      <td>0</td>\n",
              "    </tr>\n",
              "    <tr>\n",
              "      <th>player_positions</th>\n",
              "      <td>0</td>\n",
              "    </tr>\n",
              "    <tr>\n",
              "      <th>pace</th>\n",
              "      <td>2083</td>\n",
              "    </tr>\n",
              "    <tr>\n",
              "      <th>shooting</th>\n",
              "      <td>2083</td>\n",
              "    </tr>\n",
              "    <tr>\n",
              "      <th>passing</th>\n",
              "      <td>2083</td>\n",
              "    </tr>\n",
              "    <tr>\n",
              "      <th>dribbling</th>\n",
              "      <td>2083</td>\n",
              "    </tr>\n",
              "    <tr>\n",
              "      <th>defending</th>\n",
              "      <td>2083</td>\n",
              "    </tr>\n",
              "    <tr>\n",
              "      <th>physic</th>\n",
              "      <td>2083</td>\n",
              "    </tr>\n",
              "  </tbody>\n",
              "</table>\n",
              "</div><br><label><b>dtype:</b> int64</label>"
            ]
          },
          "metadata": {},
          "execution_count": 7
        }
      ],
      "source": [
        "# Define key performance-related columns for filtering and analysis\n",
        "key_columns = [\n",
        "    'overall', 'potential', 'value_eur', 'wage_eur', 'player_positions',\n",
        "    'pace', 'shooting', 'passing', 'dribbling', 'defending', 'physic'\n",
        "]\n",
        "df[key_columns].isnull().sum()"
      ]
    },
    {
      "cell_type": "code",
      "execution_count": 8,
      "metadata": {
        "id": "PYgoSVd5scvs"
      },
      "outputs": [],
      "source": [
        "# Remove goalkeepers for classification and clustering tasks\n",
        "df = df[~df['player_positions'].str.contains('GK')]"
      ]
    },
    {
      "cell_type": "code",
      "execution_count": 9,
      "metadata": {
        "colab": {
          "base_uri": "https://localhost:8080/"
        },
        "id": "8ZseqeF_m9dn",
        "outputId": "0c6162e0-bb71-469e-b924-a1b30c91583f"
      },
      "outputs": [
        {
          "output_type": "execute_result",
          "data": {
            "text/plain": [
              "(16860, 106)"
            ]
          },
          "metadata": {},
          "execution_count": 9
        }
      ],
      "source": [
        "# Drop rows that contain missing values in any of the key analysis columns.\n",
        "# This creates our clean, final dataset (df_cleaned) which will be used\n",
        "# for all subsequent modelling and exploration tasks. Goalkeepers have\n",
        "# already been removed, and the data is now limited to outfield players\n",
        "# with complete data across key metrics like pace, shooting, and value.\n",
        "\n",
        "# df_cleaned = df.dropna(subset=key_columns)\n",
        "df_cleaned = df.dropna(subset=key_columns).copy()\n",
        "\n",
        "df_cleaned.shape"
      ]
    },
    {
      "cell_type": "code",
      "execution_count": 10,
      "metadata": {
        "colab": {
          "base_uri": "https://localhost:8080/"
        },
        "id": "kxrNR4cSsym_",
        "outputId": "8ce99163-d718-4339-89cb-7e5b92cd1841"
      },
      "outputs": [
        {
          "output_type": "execute_result",
          "data": {
            "text/plain": [
              "(16860, 108)"
            ]
          },
          "metadata": {},
          "execution_count": 10
        }
      ],
      "source": [
        "# Feature engineering: Calculate Body Mass Index (BMI) and extract primary player position\n",
        "df_cleaned['BMI'] = df_cleaned['weight_kg'] / ((df_cleaned['height_cm'] / 100) ** 2)\n",
        "df_cleaned['main_position'] = df_cleaned['player_positions'].apply(lambda x: x.split(',')[0].strip())\n",
        "df_cleaned.shape"
      ]
    },
    {
      "cell_type": "code",
      "execution_count": 11,
      "metadata": {
        "colab": {
          "base_uri": "https://localhost:8080/"
        },
        "id": "K6Pt0Znzvk3b",
        "outputId": "cecdf3bc-762d-4adc-aa83-6353533778d0"
      },
      "outputs": [
        {
          "output_type": "execute_result",
          "data": {
            "text/plain": [
              "(16860, 109)"
            ]
          },
          "metadata": {},
          "execution_count": 11
        }
      ],
      "source": [
        "# Encode player positions as numerical labels for classification tasks\n",
        "from sklearn.preprocessing import LabelEncoder\n",
        "le = LabelEncoder()\n",
        "df_cleaned['position_label'] = le.fit_transform(df_cleaned['main_position'])\n",
        "df_cleaned.shape"
      ]
    },
    {
      "cell_type": "code",
      "execution_count": 12,
      "metadata": {
        "colab": {
          "base_uri": "https://localhost:8080/"
        },
        "id": "85md5Rgy1Ybu",
        "outputId": "ddf8c426-1b71-46d4-d41d-873beaf53984"
      },
      "outputs": [
        {
          "output_type": "stream",
          "name": "stdout",
          "text": [
            "Position label mapping:\n",
            " {'CAM': np.int64(0), 'CB': np.int64(1), 'CDM': np.int64(2), 'CF': np.int64(3), 'CM': np.int64(4), 'LB': np.int64(5), 'LM': np.int64(6), 'LW': np.int64(7), 'LWB': np.int64(8), 'RB': np.int64(9), 'RM': np.int64(10), 'RW': np.int64(11), 'RWB': np.int64(12), 'ST': np.int64(13)}\n"
          ]
        }
      ],
      "source": [
        "# Show mapping of labels\n",
        "position_mapping = dict(zip(le.classes_, le.transform(le.classes_)))\n",
        "print(\"Position label mapping:\\n\", position_mapping)"
      ]
    },
    {
      "cell_type": "code",
      "execution_count": 14,
      "metadata": {
        "id": "y7F7Up2b3dc8"
      },
      "outputs": [],
      "source": [
        "from sklearn.tree import DecisionTreeClassifier\n",
        "from sklearn.model_selection import train_test_split\n",
        "from sklearn.metrics import accuracy_score, classification_report\n",
        "from sklearn.model_selection import GridSearchCV"
      ]
    },
    {
      "cell_type": "code",
      "source": [
        "# ⚠️ Warning: This GridSearchCV step can take several minutes to run.\n",
        "# It systematically searches through multiple combinations of parameters.\n",
        "\n",
        "\n",
        "# Define features and target\n",
        "# features = ['age', 'height_cm', 'weight_kg', 'pace', 'shooting', 'passing',\n",
        "#             'dribbling', 'defending', 'physic', 'BMI']\n",
        "# X = df_cleaned[features]\n",
        "# y = df_cleaned['main_position']\n",
        "\n",
        "# # Train-test split\n",
        "# X_train, X_test, y_train, y_test = train_test_split(X, y, test_size=0.2, random_state=42)\n",
        "\n",
        "# # Define model and grid\n",
        "# clf = DecisionTreeClassifier(random_state=42)\n",
        "# param_grid = {\n",
        "#     'max_depth': range(5, 20),\n",
        "#     'min_samples_split': [2, 5, 10, 15],\n",
        "#     'min_samples_leaf': [1, 2, 5, 10],\n",
        "#     'criterion': ['gini', 'entropy']\n",
        "# }\n",
        "\n",
        "# # Grid search\n",
        "# grid_search = GridSearchCV(clf, param_grid, cv=5, scoring='accuracy', n_jobs=-1)\n",
        "# grid_search.fit(X_train, y_train)\n",
        "\n",
        "# print(\"Best parameters:\", grid_search.best_params_)\n",
        "# print(\"Best accuracy (CV):\", grid_search.best_score_)\n",
        "\n",
        "# Best parameters: {'criterion': 'entropy', 'max_depth': 9, 'min_samples_leaf': 5, 'min_samples_split': 15}\n",
        "# Best accuracy (CV): 0.5383318862102222"
      ],
      "metadata": {
        "id": "SvtVAYmQMLUY"
      },
      "execution_count": 15,
      "outputs": []
    },
    {
      "cell_type": "code",
      "source": [
        "features = ['age', 'height_cm', 'weight_kg', 'pace', 'shooting', 'passing',\n",
        "            'dribbling', 'defending', 'physic', 'BMI']\n",
        "X = df_cleaned[features]\n",
        "y = df_cleaned['main_position']\n",
        "\n",
        "# Split data\n",
        "X_train, X_test, y_train, y_test = train_test_split(X, y, test_size=0.2, random_state=42)\n",
        "\n",
        "# Decision Tree Classifier\n",
        "# 0.55130\n",
        "clf = DecisionTreeClassifier(criterion='entropy', max_depth=9, min_samples_leaf=5, min_samples_split=15, random_state=42)\n",
        "\n",
        "clf.fit(X_train, y_train)\n",
        "\n",
        "# Predict and evaluate\n",
        "y_pred = clf.predict(X_test)\n",
        "print(\"Accuracy:\", accuracy_score(y_test, y_pred))\n",
        "print(\"Classification Report:\", classification_report(y_test, y_pred))\n"
      ],
      "metadata": {
        "colab": {
          "base_uri": "https://localhost:8080/"
        },
        "id": "lrsncEMaQqyb",
        "outputId": "405b8066-4cbf-4997-fd9c-44076a184f33"
      },
      "execution_count": 17,
      "outputs": [
        {
          "output_type": "stream",
          "name": "stdout",
          "text": [
            "Accuracy: 0.5513048635824437\n",
            "Classification Report:               precision    recall  f1-score   support\n",
            "\n",
            "         CAM       0.38      0.43      0.40       209\n",
            "          CB       0.82      0.84      0.83       670\n",
            "         CDM       0.38      0.51      0.44       318\n",
            "          CF       0.00      0.00      0.00        22\n",
            "          CM       0.55      0.65      0.59       461\n",
            "          LB       0.35      0.28      0.31       287\n",
            "          LM       0.32      0.35      0.33       219\n",
            "          LW       0.18      0.02      0.04        89\n",
            "         LWB       0.00      0.00      0.00        25\n",
            "          RB       0.41      0.39      0.40       268\n",
            "          RM       0.28      0.18      0.22       212\n",
            "          RW       0.26      0.09      0.14        76\n",
            "         RWB       0.00      0.00      0.00        19\n",
            "          ST       0.75      0.88      0.81       497\n",
            "\n",
            "    accuracy                           0.55      3372\n",
            "   macro avg       0.33      0.33      0.32      3372\n",
            "weighted avg       0.52      0.55      0.53      3372\n",
            "\n"
          ]
        }
      ]
    },
    {
      "cell_type": "code",
      "execution_count": 18,
      "metadata": {
        "id": "NFxgHgL75yJV"
      },
      "outputs": [],
      "source": [
        "# ⚠️ Warning: This GridSearchCV step can take several minutes to run.\n",
        "# It systematically searches through multiple combinations of parameters.\n",
        "\n",
        "# Define features and target\n",
        "# features = ['age', 'height_cm', 'weight_kg', 'pace', 'shooting', 'passing', 'dribbling', 'defending', 'physic']\n",
        "# df = df.dropna(subset=features + ['player_positions'])  # Clean missing values\n",
        "\n",
        "# X = df[features]\n",
        "# y = df['player_positions'].apply(lambda x: x.split(\",\")[0])  # Primary position only\n",
        "\n",
        "# # Split data\n",
        "# X_train, X_test, y_train, y_test = train_test_split(X, y, test_size=0.2, random_state=42)\n",
        "\n",
        "# # Define the model\n",
        "# clf = DecisionTreeClassifier(random_state=42)\n",
        "\n",
        "# # Define parameter grid\n",
        "# param_grid = {\n",
        "#     'max_depth': range(5, 20),\n",
        "#     'min_samples_split': [2, 5, 10, 15],\n",
        "#     'min_samples_leaf': [1, 2, 5, 10],\n",
        "#     'criterion': ['gini', 'entropy']\n",
        "# }\n",
        "\n",
        "# # Grid Search\n",
        "# grid_search = GridSearchCV(clf, param_grid, cv=5, scoring='accuracy', n_jobs=-1)\n",
        "# grid_search.fit(X_train, y_train)\n",
        "\n",
        "# print(\"Best parameters:\", grid_search.best_params_)\n",
        "# print(\"Best accuracy:\", grid_search.best_score_)\n",
        "\n",
        "# Best parameters: {'criterion': 'entropy', 'max_depth': 9, 'min_samples_leaf': 10, 'min_samples_split': 2}\n",
        "# Best accuracy: 0.5461150447756107"
      ]
    },
    {
      "cell_type": "code",
      "execution_count": 19,
      "metadata": {
        "colab": {
          "base_uri": "https://localhost:8080/"
        },
        "id": "UpqS4ZHs5sWE",
        "outputId": "171ee894-cc34-4371-bbde-0814a30dc1f9"
      },
      "outputs": [
        {
          "output_type": "stream",
          "name": "stdout",
          "text": [
            "Accuracy: 0.5542704626334519\n",
            "Classification Report:               precision    recall  f1-score   support\n",
            "\n",
            "         CAM       0.38      0.43      0.40       209\n",
            "          CB       0.83      0.85      0.84       670\n",
            "         CDM       0.40      0.53      0.45       318\n",
            "          CF       0.00      0.00      0.00        22\n",
            "          CM       0.55      0.63      0.59       461\n",
            "          LB       0.35      0.29      0.31       287\n",
            "          LM       0.32      0.35      0.33       219\n",
            "          LW       0.00      0.00      0.00        89\n",
            "         LWB       0.00      0.00      0.00        25\n",
            "          RB       0.42      0.41      0.41       268\n",
            "          RM       0.28      0.18      0.22       212\n",
            "          RW       0.19      0.07      0.10        76\n",
            "         RWB       0.00      0.00      0.00        19\n",
            "          ST       0.74      0.88      0.80       497\n",
            "\n",
            "    accuracy                           0.55      3372\n",
            "   macro avg       0.32      0.33      0.32      3372\n",
            "weighted avg       0.52      0.55      0.53      3372\n",
            "\n"
          ]
        }
      ],
      "source": [
        "# Select features and target\n",
        "features = ['age', 'height_cm', 'weight_kg', 'pace', 'shooting', 'passing', 'dribbling', 'defending', 'physic']\n",
        "df = df.dropna(subset=features + ['player_positions'])  # Clean missing values\n",
        "\n",
        "X = df[features]\n",
        "y = df['player_positions'].apply(lambda x: x.split(\",\")[0])  # Primary position only\n",
        "\n",
        "# Split data\n",
        "X_train, X_test, y_train, y_test = train_test_split(X, y, test_size=0.2, random_state=42)\n",
        "\n",
        "# Decision Tree Classifier\n",
        "# clf = DecisionTreeClassifier(max_depth=4, random_state=42) # 0.4533\n",
        "# clf = DecisionTreeClassifier(max_depth=5, random_state=42) # 0.4909\n",
        "# clf = DecisionTreeClassifier(max_depth=6, random_state=42) # 0.5161\n",
        "# clf = DecisionTreeClassifier(max_depth=7, random_state=42) # 0.5375\n",
        "# clf = DecisionTreeClassifier(max_depth=11, random_state=42) # 0.5383\n",
        "# clf = DecisionTreeClassifier(max_depth=15, random_state=42) # 0.4951\n",
        "\n",
        "# 0.5517\n",
        "clf = DecisionTreeClassifier(criterion='entropy', max_depth=9, min_samples_leaf=10, min_samples_split=2, random_state=42) # 0.4951\n",
        "\n",
        "clf.fit(X_train, y_train)\n",
        "\n",
        "# Predict and evaluate\n",
        "y_pred = clf.predict(X_test)\n",
        "print(\"Accuracy:\", accuracy_score(y_test, y_pred))\n",
        "print(\"Classification Report:\", classification_report(y_test, y_pred))\n"
      ]
    },
    {
      "cell_type": "code",
      "source": [
        "# import matplotlib.pyplot as plt\n",
        "# import seaborn as sns\n",
        "\n",
        "# Data to plot\n",
        "scenarios = [\n",
        "    'Original df (GridSearchCV CV Score)',\n",
        "    'Original df (Test Accuracy)',\n",
        "    'Cleaned df_cleaned (GridSearchCV CV Score)',\n",
        "    'Cleaned df_cleaned (Test Accuracy)'\n",
        "]\n",
        "accuracies = [0.5461, 0.5542, 0.5383, 0.5513]\n",
        "\n",
        "# Plot\n",
        "plt.figure(figsize=(10, 6))\n",
        "sns.barplot(x=accuracies, y=scenarios, palette=\"viridis\")\n",
        "plt.xlabel('Accuracy')\n",
        "plt.title('Comparison of Decision Tree Accuracies (Original vs Cleaned Data)')\n",
        "plt.xlim(0.5, 0.57)  # Focus zoom on the range where our accuracies are\n",
        "plt.grid(axis='x', linestyle='--', alpha=0.7)\n",
        "plt.show()"
      ],
      "metadata": {
        "colab": {
          "base_uri": "https://localhost:8080/",
          "height": 478
        },
        "id": "GSEDaQ62xUwz",
        "outputId": "19daffbc-58da-4b5b-afa3-22c664fa8af5"
      },
      "execution_count": 20,
      "outputs": [
        {
          "output_type": "display_data",
          "data": {
            "text/plain": [
              "<Figure size 1000x600 with 1 Axes>"
            ],
            "image/png": "[encoded data removed]"
          },
          "metadata": {}
        }
      ]
    },
    {
      "cell_type": "code",
      "execution_count": 21,
      "metadata": {
        "id": "kOpE9ee95CV5"
      },
      "outputs": [],
      "source": [
        "# df = pd.read_csv(file_path)\n",
        "# print(\"Dataset shape:\", df.shape)\n",
        "\n",
        "# # Select numeric features for clustering\n",
        "# features = ['age', 'overall', 'potential', 'value_eur', 'wage_eur']\n",
        "# df = df.dropna(subset=features)\n",
        "\n",
        "# X = df[features]\n",
        "\n",
        "# # Normalize features\n",
        "# scaler = StandardScaler()\n",
        "# X_scaled = scaler.fit_transform(X)\n",
        "\n",
        "# # Apply K-Means\n",
        "# kmeans = KMeans(n_clusters=5, random_state=42, n_init=10)\n",
        "# df['Cluster'] = kmeans.fit_predict(X_scaled)\n",
        "\n",
        "# # Visualize clusters\n",
        "# plt.scatter(df['overall'], df['value_eur'], c=df['Cluster'], cmap='viridis')\n",
        "# plt.xlabel('Overall Rating')\n",
        "# plt.ylabel('Market Value (EUR)')\n",
        "# plt.title('Player Clusters by Rating and Market Value')\n",
        "# plt.show()\n"
      ]
    },
    {
      "cell_type": "code",
      "source": [
        "# K-Means Clustering for FIFA 21 Players\n",
        "# Based on key attributes such as performance metrics and player value\n",
        "# (Inspired by: Prasetyo et al., 2023)\n",
        "\n",
        "# Select relevant features for clustering\n",
        "kmeans_features = [\n",
        "    'overall', 'potential', 'pace', 'shooting', 'passing',\n",
        "    'dribbling', 'defending', 'physic', 'value_eur', 'BMI'\n",
        "]\n",
        "\n",
        "X_cluster = df_cleaned[kmeans_features]\n",
        "\n",
        "# Standardize the features\n",
        "from sklearn.preprocessing import StandardScaler\n",
        "\n",
        "scaler = StandardScaler()\n",
        "X_cluster_scaled = scaler.fit_transform(X_cluster)\n",
        "\n",
        "# Use the Elbow Method to find optimal number of clusters\n",
        "from sklearn.cluster import KMeans\n",
        "import matplotlib.pyplot as plt\n",
        "\n",
        "# This cell might take a few minutes to run\n",
        "# (Commented here for clarity: heavy computation involved)\n",
        "\n",
        "inertia = []\n",
        "k_range = range(1, 11)\n",
        "\n",
        "for k in k_range:\n",
        "    kmeans = KMeans(n_clusters=k, random_state=42)\n",
        "    kmeans.fit(X_cluster_scaled)\n",
        "    inertia.append(kmeans.inertia_)\n",
        "\n",
        "plt.figure(figsize=(8,5))\n",
        "plt.plot(k_range, inertia, 'bo-')\n",
        "plt.xlabel('Number of Clusters (k)')\n",
        "plt.ylabel('Inertia')\n",
        "plt.title('Elbow Method for FIFA 21 Players')\n",
        "plt.grid(True)\n",
        "plt.show()\n"
      ],
      "metadata": {
        "colab": {
          "base_uri": "https://localhost:8080/",
          "height": 487
        },
        "id": "ozDFlCTWbfBh",
        "outputId": "72f90ad5-f173-4817-819e-6768d06d1782"
      },
      "execution_count": 22,
      "outputs": [
        {
          "output_type": "display_data",
          "data": {
            "text/plain": [
              "<Figure size 800x500 with 1 Axes>"
            ],
            "image/png": "[encoded data removed]"
          },
          "metadata": {}
        }
      ]
    },
    {
      "cell_type": "code",
      "source": [
        "# Apply KMeans with chosen number of clusters\n",
        "# After inspecting the Elbow plot, we'll select k=3 (following the football clustering article)\n",
        "\n",
        "optimal_k = 3\n",
        "kmeans_final = KMeans(n_clusters=optimal_k, random_state=42)\n",
        "df_cleaned['cluster'] = kmeans_final.fit_predict(X_cluster_scaled)\n",
        "\n",
        "# Quick check of cluster distribution\n",
        "df_cleaned['cluster'].value_counts()\n"
      ],
      "metadata": {
        "colab": {
          "base_uri": "https://localhost:8080/",
          "height": 210
        },
        "id": "h3syvDz7k6Du",
        "outputId": "aeb63f7f-e848-4937-c2d4-b02c5c3250c0"
      },
      "execution_count": 23,
      "outputs": [
        {
          "output_type": "execute_result",
          "data": {
            "text/plain": [
              "cluster\n",
              "1    6595\n",
              "0    5202\n",
              "2    5063\n",
              "Name: count, dtype: int64"
            ],
            "text/html": [
              "<div>\n",
              "<style scoped>\n",
              "    .dataframe tbody tr th:only-of-type {\n",
              "        vertical-align: middle;\n",
              "    }\n",
              "\n",
              "    .dataframe tbody tr th {\n",
              "        vertical-align: top;\n",
              "    }\n",
              "\n",
              "    .dataframe thead th {\n",
              "        text-align: right;\n",
              "    }\n",
              "</style>\n",
              "<table border=\"1\" class=\"dataframe\">\n",
              "  <thead>\n",
              "    <tr style=\"text-align: right;\">\n",
              "      <th></th>\n",
              "      <th>count</th>\n",
              "    </tr>\n",
              "    <tr>\n",
              "      <th>cluster</th>\n",
              "      <th></th>\n",
              "    </tr>\n",
              "  </thead>\n",
              "  <tbody>\n",
              "    <tr>\n",
              "      <th>1</th>\n",
              "      <td>6595</td>\n",
              "    </tr>\n",
              "    <tr>\n",
              "      <th>0</th>\n",
              "      <td>5202</td>\n",
              "    </tr>\n",
              "    <tr>\n",
              "      <th>2</th>\n",
              "      <td>5063</td>\n",
              "    </tr>\n",
              "  </tbody>\n",
              "</table>\n",
              "</div><br><label><b>dtype:</b> int64</label>"
            ]
          },
          "metadata": {},
          "execution_count": 23
        }
      ]
    },
    {
      "cell_type": "code",
      "source": [
        "# Visualise clusters based on two important features\n",
        "import seaborn as sns\n",
        "\n",
        "plt.figure(figsize=(8,6))\n",
        "sns.scatterplot(\n",
        "    x=df_cleaned['value_eur'],\n",
        "    y=df_cleaned['overall'],\n",
        "    hue=df_cleaned['cluster'],\n",
        "    palette='viridis',\n",
        "    alpha=0.7\n",
        ")\n",
        "plt.title('Player Clusters by Value and Overall Rating')\n",
        "plt.xlabel('Player Value (Euro)')\n",
        "plt.ylabel('Overall Rating')\n",
        "plt.legend(title='Cluster')\n",
        "plt.grid(True)\n",
        "plt.show()\n"
      ],
      "metadata": {
        "colab": {
          "base_uri": "https://localhost:8080/",
          "height": 564
        },
        "id": "xyyxFosHkcs8",
        "outputId": "0918df80-6731-4698-f50a-18bb4fcd31d1"
      },
      "execution_count": 24,
      "outputs": [
        {
          "output_type": "display_data",
          "data": {
            "text/plain": [
              "<Figure size 800x600 with 1 Axes>"
            ],
            "image/png": "[encoded data removed]"
          },
          "metadata": {}
        }
      ]
    },
    {
      "cell_type": "code",
      "source": [
        "import folium\n",
        "from folium.plugins import MarkerCluster\n",
        "\n",
        "# Create base map\n",
        "fifa_map = folium.Map(location=[20, 0], zoom_start=2, tiles='cartodbpositron')\n",
        "\n",
        "# Marker cluster\n",
        "marker_cluster = MarkerCluster().add_to(fifa_map)\n",
        "\n",
        "# Define colours based on player rating\n",
        "def get_colour(overall):\n",
        "    if overall >= 85:\n",
        "        return 'green'\n",
        "    elif overall >= 75:\n",
        "        return 'blue'\n",
        "    else:\n",
        "        return 'red'\n",
        "\n",
        "# Load country coordinates from the CSV\n",
        "coordinates_df = pd.read_csv(csv_path)\n",
        "\n",
        "# Create a dictionary from the DataFrame\n",
        "country_coords = dict(zip(coordinates_df['Country'], zip(coordinates_df['Latitude'], coordinates_df['Longitude'])))\n",
        "\n",
        "\n",
        "# Add markers\n",
        "for idx, row in df_cleaned.iterrows():\n",
        "    country = row['nationality']\n",
        "    overall = row['overall']\n",
        "    cluster = row['cluster']\n",
        "\n",
        "    if country in country_coords:\n",
        "        lat, lon = country_coords[country]\n",
        "        folium.CircleMarker(\n",
        "            location=[lat, lon],\n",
        "            radius=5 + (overall / 20),  # Make bigger for stronger players\n",
        "            color=get_colour(overall),\n",
        "            fill=True,\n",
        "            fill_color=get_colour(overall),\n",
        "            fill_opacity=0.7,\n",
        "            popup=folium.Popup(f\"{row['short_name']}<br>Overall: {overall}<br>Cluster: {cluster}\", max_width=300)\n",
        "        ).add_to(marker_cluster)\n",
        "\n",
        "# Save to HTML\n",
        "fifa_map.save('fifa_clusters_map.html')\n",
        "print(\"Map saved as 'fifa_clusters_map.html'. Remember: on Colab you need to pull locally to see it!\")\n",
        "\n",
        "\n"
      ],
      "metadata": {
        "id": "NMZ2l9NKk-CS"
      },
      "execution_count": null,
      "outputs": []
    },
    {
      "cell_type": "code",
      "source": [
        "from IPython.display import IFrame\n",
        "display(IFrame(html_path, width=1000, height=600))"
      ],
      "metadata": {
        "id": "tVsAlMA3fnFm"
      },
      "execution_count": null,
      "outputs": []
    },
    {
      "cell_type": "code",
      "source": [],
      "metadata": {
        "id": "qCMqk6vbmqXz"
      },
      "execution_count": null,
      "outputs": []
    }
  ],
  "metadata": {
    "colab": {
      "provenance": [],
      "authorship_tag": "ABX9TyPnVKf8zt3jmyD3oArbmxnu",
      "include_colab_link": true
    },
    "kernelspec": {
      "display_name": "Python 3",
      "name": "python3"
    },
    "language_info": {
      "name": "python"
    }
  },
  "nbformat": 4,
  "nbformat_minor": 0
}